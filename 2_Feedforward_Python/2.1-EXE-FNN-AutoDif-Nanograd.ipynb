{
  "cells": [
    {
      "cell_type": "markdown",
      "metadata": {
        "id": "HAva8TnYFtFu"
      },
      "source": [
        "# Contents and why we need this lab\n",
        "\n",
        "This lab is about implementing neural networks yourself before we start using other frameworks that hide some of the computation from you. It builds on the first lab, where you derived the equations for neural network forward and backward propagation and gradient descent parameter updates.\n",
        "\n",
        "All the frameworks for deep learning you will meet from now on use automatic differentiation (autodiff), so you do not have to code the backward step yourself. In this version of this lab, you will develop your own autodif implementation. We also have an optional [version](https://github.com/DeepLearningDTU/02456-deep-learning-with-PyTorch/blob/master/2_Feedforward_Python/2.2-FNN-NumPy.ipynb) of this lab where you have to code the backward pass explicitly in Numpy."
      ]
    },
    {
      "cell_type": "markdown",
      "metadata": {
        "id": "sCa7HzwpFtFy"
      },
      "source": [
        "# External sources of information\n",
        "\n",
        "1. Jupyter notebook. You can find more information about Jupyter notebooks [here](https://jupyter.org/). It will come as part of the [Anaconda](https://www.anaconda.com/) Python installation.\n",
        "2. [NumPy](https://numpy.org/). Part of Anaconda distribution.  If you already know how to program, most things about Python and NumPy can be found with Google searches.\n",
        "3. [Nanograd](https://github.com/rasmusbergpalm/nanograd) is a minimalistic version of autodiff developed by Rasmus Berg Palm that we use for our framework.\n"
      ]
    },
    {
      "cell_type": "markdown",
      "metadata": {
        "id": "1SjiIp-TFtF0"
      },
      "source": [
        "# This notebook will follow the next steps:\n",
        "\n",
        "1. Nanograd automatic differentiation framework\n",
        "2. Finite difference method\n",
        "3. Data generation\n",
        "4. Defining and initializing the network\n",
        "5. Forward pass\n",
        "6. Training loop\n",
        "7. Testing your model\n",
        "8. Further extensions"
      ]
    },
    {
      "cell_type": "markdown",
      "metadata": {
        "id": "OyXeAA-HuT7s"
      },
      "source": [
        "# Nanograd automatic differention framework"
      ]
    },
    {
      "cell_type": "markdown",
      "metadata": {
        "id": "k6UWKCLKubgA"
      },
      "source": [
        "The [Nanograd](https://github.com/rasmusbergpalm/nanograd) framework defines a class Var which both holds a value and gradient value that we can use to store the intermediate values when we apply the chain rule of differentiation."
      ]
    },
    {
      "cell_type": "code",
      "execution_count": 41,
      "metadata": {
        "id": "Jd4CoEBNzNWS"
      },
      "outputs": [],
      "source": [
        "# Copy and pasted from https://github.com/rasmusbergpalm/nanograd/blob/3a1bf9e9e724da813bfccf91a6f309abdade9f39/nanograd.py\n",
        "\n",
        "from math import exp, log, tanh\n",
        "\n",
        "def sig_helper(x):\n",
        "      return 1.0 / (1.0 + exp(-x))\n",
        "\n",
        "class Var:\n",
        "    \"\"\"\n",
        "    A variable which holds a float and enables gradient computations.\n",
        "    \"\"\"\n",
        "\n",
        "    def __init__(self, val: float, grad_fn=lambda: []):\n",
        "        assert type(val) == float\n",
        "        self.v = val\n",
        "        self.grad_fn = grad_fn\n",
        "        self.grad = 0.0\n",
        "\n",
        "    def backprop(self, bp):\n",
        "        self.grad += bp\n",
        "        for input, grad in self.grad_fn():\n",
        "            input.backprop(grad * bp)\n",
        "\n",
        "    def backward(self):\n",
        "        self.backprop(1.0)\n",
        "\n",
        "    def __add__(self: 'Var', other: 'Var') -> 'Var':\n",
        "        return Var(self.v + other.v, lambda: [(self, 1.0), (other, 1.0)])\n",
        "\n",
        "    def __mul__(self: 'Var', other: 'Var') -> 'Var':\n",
        "        return Var(self.v * other.v, lambda: [(self, other.v), (other, self.v)])\n",
        "\n",
        "    def __pow__(self, power):\n",
        "        assert type(power) in {float, int}, \"power must be float or int\"\n",
        "        return Var(self.v ** power, lambda: [(self, power * self.v ** (power - 1))])\n",
        "\n",
        "    def __neg__(self: 'Var') -> 'Var':\n",
        "        return Var(-1.0) * self\n",
        "\n",
        "    def __sub__(self: 'Var', other: 'Var') -> 'Var':\n",
        "        return self + (-other)\n",
        "\n",
        "    def __truediv__(self: 'Var', other: 'Var') -> 'Var':\n",
        "        return self * other ** -1\n",
        "\n",
        "    def __repr__(self):\n",
        "        return \"Var(v=%.4f, grad=%.4f)\" % (self.v, self.grad)\n",
        "\n",
        "    def relu(self):\n",
        "        return Var(self.v if self.v > 0.0 else 0.0, lambda: [(self, 1.0 if self.v > 0.0 else 0.0)])\n",
        "\n",
        "    def identity(self):\n",
        "        return Var(self.v, lambda: [(self, 1.0)])\n",
        "\n",
        "    def tanh(self):\n",
        "        return Var(tanh(self.v), lambda: [(self, 1 - tanh(self.v)**2)])\n",
        "\n",
        "\n",
        "    def sigmoid(self):\n",
        "        return Var(sig_helper(self.v), lambda: [(self, sig_helper(self.v) * (1-sig_helper(self.v)))])\n",
        "\n",
        "    def exp(self):\n",
        "      return Var(exp(self.v), lambda: [(self, exp(self.v))])\n",
        "\n",
        "    def log(self):\n",
        "      return Var(log(self.v), lambda: [(self, self.v ** -1)])"
      ]
    },
    {
      "cell_type": "markdown",
      "metadata": {
        "id": "yDX67D6jzcte"
      },
      "source": [
        "A few examples illustrate how we can use this:"
      ]
    },
    {
      "cell_type": "code",
      "execution_count": 2,
      "metadata": {
        "colab": {
          "base_uri": "https://localhost:8080/"
        },
        "id": "xk6PeLc3zwPT",
        "outputId": "7d7ce0fe-f005-452a-f97d-30fae3bf20af"
      },
      "outputs": [
        {
          "output_type": "stream",
          "name": "stdout",
          "text": [
            "Var(v=3.0000, grad=5.0000)\n",
            "Var(v=5.0000, grad=3.0000)\n",
            "Var(v=15.0000, grad=1.0000)\n"
          ]
        }
      ],
      "source": [
        "a = Var(3.0)\n",
        "b = Var(5.0)\n",
        "f = a * b\n",
        "\n",
        "f.backward()\n",
        "\n",
        "for v in [a, b, f]:\n",
        "    print(v)"
      ]
    },
    {
      "cell_type": "code",
      "execution_count": 3,
      "metadata": {
        "colab": {
          "base_uri": "https://localhost:8080/"
        },
        "id": "JmKhYgsY0g_o",
        "outputId": "a2705536-6335-48ae-86bc-5a34bee72a65"
      },
      "outputs": [
        {
          "output_type": "stream",
          "name": "stdout",
          "text": [
            "Var(v=3.0000, grad=14.0000)\n",
            "Var(v=5.0000, grad=3.0000)\n",
            "Var(v=15.0000, grad=1.0000)\n",
            "Var(v=9.0000, grad=3.0000)\n",
            "Var(v=27.0000, grad=1.0000)\n",
            "Var(v=42.0000, grad=1.0000)\n"
          ]
        }
      ],
      "source": [
        "a = Var(3.0)\n",
        "b = Var(5.0)\n",
        "c = a * b\n",
        "d = Var(9.0)\n",
        "e = a * d\n",
        "f = c + e\n",
        "f.backward()\n",
        "for v in [a, b, c, d, e, f]:\n",
        "   print(v)"
      ]
    },
    {
      "cell_type": "markdown",
      "metadata": {
        "id": "Fe3B6uEH140p"
      },
      "source": [
        "## Exercise a) What is being calculated?\n",
        "\n",
        "Explain briefly the output of the code? What is the expression we differentiate and with respect to what variables?"
      ]
    },
    {
      "cell_type": "markdown",
      "source": [
        "We store the corresponding partial derivatives for each variable. For example if variable $c$ depends on $a$ and $b$ then the gradients are as follows after calling `c.backward()`:\n",
        "\n",
        "- $c$ stores the value of $\\frac{\\partial c}{\\partial c}$\n",
        "- $a$ stores the value of $\\frac{\\partial c}{\\partial a}$\n",
        "- $b$ stores the value of $\\frac{\\partial c}{\\partial b}$"
      ],
      "metadata": {
        "id": "bEVucKXDATd4"
      }
    },
    {
      "cell_type": "markdown",
      "metadata": {
        "id": "q8_Q0t2I3Ruj"
      },
      "source": [
        "## Exercise b) How does the backward function work?\n",
        "\n",
        "You need to understand how the backward function calculates the gradients. We can use the two examples above to help with that.\n",
        "\n",
        "Go through the following four steps and answer the questions on the way:\n",
        "\n",
        "1. We represent the two expressions as graphs as shown below. Fill in the missing expressions for the different derivatives.\n",
        "\n",
        "2. In the remainder consider the first expression. Make a schematic of the data structure which is generated when we define the expression for f.\n",
        "\n",
        "3. Then execute the backward function by hand to convince yourself that it indeed calculates the gradients with respect to the variables.\n",
        "\n",
        "4. Write down the sequence of calls to backprop."
      ]
    },
    {
      "cell_type": "code",
      "execution_count": 4,
      "metadata": {
        "id": "idGr71jYXl26"
      },
      "outputs": [],
      "source": [
        "# import logging\n",
        "import graphviz\n",
        "\n",
        "#logging.basicConfig(format='[%(levelname)s@%(name)s] %(message)s', level=logging.DEBUG)\n",
        "\n",
        "#graphviz.__version__, graphviz.version()"
      ]
    },
    {
      "cell_type": "code",
      "execution_count": 5,
      "metadata": {
        "colab": {
          "base_uri": "https://localhost:8080/",
          "height": 152
        },
        "id": "KPe30Q2QXzeG",
        "outputId": "160a7d3f-e9c5-4a91-d907-a3df0c6531af"
      },
      "outputs": [
        {
          "output_type": "execute_result",
          "data": {
            "image/svg+xml": "<?xml version=\"1.0\" encoding=\"UTF-8\" standalone=\"no\"?>\n<!DOCTYPE svg PUBLIC \"-//W3C//DTD SVG 1.1//EN\"\n \"http://www.w3.org/Graphics/SVG/1.1/DTD/svg11.dtd\">\n<!-- Generated by graphviz version 2.43.0 (0)\n -->\n<!-- Title: first expression Pages: 1 -->\n<svg width=\"185pt\" height=\"98pt\"\n viewBox=\"0.00 0.00 185.00 98.00\" xmlns=\"http://www.w3.org/2000/svg\" xmlns:xlink=\"http://www.w3.org/1999/xlink\">\n<g id=\"graph0\" class=\"graph\" transform=\"scale(1 1) rotate(0) translate(4 94)\">\n<title>first expression</title>\n<polygon fill=\"white\" stroke=\"transparent\" points=\"-4,4 -4,-94 181,-94 181,4 -4,4\"/>\n<!-- a -->\n<g id=\"node1\" class=\"node\">\n<title>a</title>\n<ellipse fill=\"none\" stroke=\"black\" cx=\"18\" cy=\"-72\" rx=\"18\" ry=\"18\"/>\n<text text-anchor=\"middle\" x=\"18\" y=\"-68.3\" font-family=\"Times,serif\" font-size=\"14.00\">a</text>\n</g>\n<!-- f -->\n<g id=\"node2\" class=\"node\">\n<title>f</title>\n<ellipse fill=\"none\" stroke=\"black\" cx=\"159\" cy=\"-45\" rx=\"18\" ry=\"18\"/>\n<text text-anchor=\"middle\" x=\"159\" y=\"-41.3\" font-family=\"Times,serif\" font-size=\"14.00\">f</text>\n</g>\n<!-- a&#45;&gt;f -->\n<g id=\"edge1\" class=\"edge\">\n<title>a&#45;&gt;f</title>\n<path fill=\"none\" stroke=\"black\" d=\"M35.77,-68.74C59.46,-64.14 102.98,-55.69 131.19,-50.21\"/>\n<polygon fill=\"black\" stroke=\"black\" points=\"132.02,-53.61 141.17,-48.27 130.69,-46.74 132.02,-53.61\"/>\n<text text-anchor=\"middle\" x=\"88.5\" y=\"-67.8\" font-family=\"Times,serif\" font-size=\"14.00\">df/da=b=5.0</text>\n</g>\n<!-- b -->\n<g id=\"node3\" class=\"node\">\n<title>b</title>\n<ellipse fill=\"none\" stroke=\"black\" cx=\"18\" cy=\"-18\" rx=\"18\" ry=\"18\"/>\n<text text-anchor=\"middle\" x=\"18\" y=\"-14.3\" font-family=\"Times,serif\" font-size=\"14.00\">b</text>\n</g>\n<!-- b&#45;&gt;f -->\n<g id=\"edge2\" class=\"edge\">\n<title>b&#45;&gt;f</title>\n<path fill=\"none\" stroke=\"black\" d=\"M36.12,-19.48C56.88,-21.5 92.85,-25.73 123,-33 126.02,-33.73 129.16,-34.61 132.25,-35.57\"/>\n<polygon fill=\"black\" stroke=\"black\" points=\"131.21,-38.91 141.81,-38.74 133.42,-32.27 131.21,-38.91\"/>\n<text text-anchor=\"middle\" x=\"88.5\" y=\"-36.8\" font-family=\"Times,serif\" font-size=\"14.00\">df/db=a=3.0</text>\n</g>\n</g>\n</svg>\n",
            "text/plain": [
              "<graphviz.graphs.Digraph at 0x7bbcfc0ff0d0>"
            ]
          },
          "metadata": {},
          "execution_count": 5
        }
      ],
      "source": [
        "\n",
        "e1 = graphviz.Digraph('first expression', filename='fsm.gv')\n",
        "\n",
        "e1.attr(rankdir='LR', size='8,5')\n",
        "\n",
        "e1.attr('node', shape='circle')\n",
        "e1.edge('a', 'f', label='df/da=b=5.0')\n",
        "e1.edge('b', 'f', label='df/db=a=3.0')\n",
        "\n",
        "e1"
      ]
    },
    {
      "cell_type": "markdown",
      "source": [
        "This graph corresponds to the following expression:\n",
        "```\n",
        "a = Var(3.0)\n",
        "b = Var(5.0)\n",
        "f = a * b\n",
        "\n",
        "f.backward()\n",
        "```"
      ],
      "metadata": {
        "id": "2uOU0E-Y0DBR"
      }
    },
    {
      "cell_type": "code",
      "execution_count": 6,
      "metadata": {
        "colab": {
          "base_uri": "https://localhost:8080/",
          "height": 232
        },
        "id": "0nittR-mZFeX",
        "outputId": "8c656597-3cbc-4bba-d191-2d651f8aa83f"
      },
      "outputs": [
        {
          "output_type": "execute_result",
          "data": {
            "image/svg+xml": "<?xml version=\"1.0\" encoding=\"UTF-8\" standalone=\"no\"?>\n<!DOCTYPE svg PUBLIC \"-//W3C//DTD SVG 1.1//EN\"\n \"http://www.w3.org/Graphics/SVG/1.1/DTD/svg11.dtd\">\n<!-- Generated by graphviz version 2.43.0 (0)\n -->\n<!-- Title: second expression Pages: 1 -->\n<svg width=\"312pt\" height=\"158pt\"\n viewBox=\"0.00 0.00 312.00 158.00\" xmlns=\"http://www.w3.org/2000/svg\" xmlns:xlink=\"http://www.w3.org/1999/xlink\">\n<g id=\"graph0\" class=\"graph\" transform=\"scale(1 1) rotate(0) translate(4 154)\">\n<title>second expression</title>\n<polygon fill=\"white\" stroke=\"transparent\" points=\"-4,4 -4,-154 308,-154 308,4 -4,4\"/>\n<!-- a -->\n<g id=\"node1\" class=\"node\">\n<title>a</title>\n<ellipse fill=\"none\" stroke=\"black\" cx=\"18\" cy=\"-75\" rx=\"18\" ry=\"18\"/>\n<text text-anchor=\"middle\" x=\"18\" y=\"-71.3\" font-family=\"Times,serif\" font-size=\"14.00\">a</text>\n</g>\n<!-- c -->\n<g id=\"node2\" class=\"node\">\n<title>c</title>\n<ellipse fill=\"none\" stroke=\"black\" cx=\"160\" cy=\"-102\" rx=\"18\" ry=\"18\"/>\n<text text-anchor=\"middle\" x=\"160\" y=\"-98.3\" font-family=\"Times,serif\" font-size=\"14.00\">c</text>\n</g>\n<!-- a&#45;&gt;c -->\n<g id=\"edge1\" class=\"edge\">\n<title>a&#45;&gt;c</title>\n<path fill=\"none\" stroke=\"black\" d=\"M35.74,-78.14C56.47,-82.04 92.86,-88.92 124,-95 126.7,-95.53 129.52,-96.08 132.33,-96.64\"/>\n<polygon fill=\"black\" stroke=\"black\" points=\"131.78,-100.1 142.27,-98.62 133.15,-93.23 131.78,-100.1\"/>\n<text text-anchor=\"middle\" x=\"89\" y=\"-98.8\" font-family=\"Times,serif\" font-size=\"14.00\">dc/da=b=5.0</text>\n</g>\n<!-- e -->\n<g id=\"node4\" class=\"node\">\n<title>e</title>\n<ellipse fill=\"none\" stroke=\"black\" cx=\"160\" cy=\"-48\" rx=\"18\" ry=\"18\"/>\n<text text-anchor=\"middle\" x=\"160\" y=\"-44.3\" font-family=\"Times,serif\" font-size=\"14.00\">e</text>\n</g>\n<!-- a&#45;&gt;e -->\n<g id=\"edge3\" class=\"edge\">\n<title>a&#45;&gt;e</title>\n<path fill=\"none\" stroke=\"black\" d=\"M34.79,-68.28C40.72,-65.99 47.58,-63.6 54,-62 79.95,-55.54 110.3,-51.9 131.68,-49.96\"/>\n<polygon fill=\"black\" stroke=\"black\" points=\"132.01,-53.45 141.68,-49.12 131.43,-46.47 132.01,-53.45\"/>\n<text text-anchor=\"middle\" x=\"89\" y=\"-65.8\" font-family=\"Times,serif\" font-size=\"14.00\">de/da=d=9.0</text>\n</g>\n<!-- f -->\n<g id=\"node6\" class=\"node\">\n<title>f</title>\n<ellipse fill=\"none\" stroke=\"black\" cx=\"286\" cy=\"-75\" rx=\"18\" ry=\"18\"/>\n<text text-anchor=\"middle\" x=\"286\" y=\"-71.3\" font-family=\"Times,serif\" font-size=\"14.00\">f</text>\n</g>\n<!-- c&#45;&gt;f -->\n<g id=\"edge5\" class=\"edge\">\n<title>c&#45;&gt;f</title>\n<path fill=\"none\" stroke=\"black\" d=\"M177.72,-98.36C198.34,-93.87 233.64,-86.18 258.09,-80.86\"/>\n<polygon fill=\"black\" stroke=\"black\" points=\"259.12,-84.22 268.15,-78.67 257.63,-77.38 259.12,-84.22\"/>\n<text text-anchor=\"middle\" x=\"223\" y=\"-97.8\" font-family=\"Times,serif\" font-size=\"14.00\">df/dc=1.0</text>\n</g>\n<!-- b -->\n<g id=\"node3\" class=\"node\">\n<title>b</title>\n<ellipse fill=\"none\" stroke=\"black\" cx=\"18\" cy=\"-132\" rx=\"18\" ry=\"18\"/>\n<text text-anchor=\"middle\" x=\"18\" y=\"-128.3\" font-family=\"Times,serif\" font-size=\"14.00\">b</text>\n</g>\n<!-- b&#45;&gt;c -->\n<g id=\"edge2\" class=\"edge\">\n<title>b&#45;&gt;c</title>\n<path fill=\"none\" stroke=\"black\" d=\"M35.75,-128.59C56.49,-124.34 92.89,-116.81 124,-110 126.7,-109.41 129.52,-108.78 132.34,-108.15\"/>\n<polygon fill=\"black\" stroke=\"black\" points=\"133.3,-111.52 142.28,-105.89 131.75,-104.69 133.3,-111.52\"/>\n<text text-anchor=\"middle\" x=\"89\" y=\"-127.8\" font-family=\"Times,serif\" font-size=\"14.00\">dc/db=a=3.0</text>\n</g>\n<!-- e&#45;&gt;f -->\n<g id=\"edge6\" class=\"edge\">\n<title>e&#45;&gt;f</title>\n<path fill=\"none\" stroke=\"black\" d=\"M177.9,-50.01C195.93,-52.35 225.24,-56.71 250,-63 253.02,-63.77 256.14,-64.67 259.23,-65.64\"/>\n<polygon fill=\"black\" stroke=\"black\" points=\"258.19,-68.98 268.79,-68.82 260.41,-62.34 258.19,-68.98\"/>\n<text text-anchor=\"middle\" x=\"223\" y=\"-66.8\" font-family=\"Times,serif\" font-size=\"14.00\">df/de=1.0</text>\n</g>\n<!-- d -->\n<g id=\"node5\" class=\"node\">\n<title>d</title>\n<ellipse fill=\"none\" stroke=\"black\" cx=\"18\" cy=\"-18\" rx=\"18\" ry=\"18\"/>\n<text text-anchor=\"middle\" x=\"18\" y=\"-14.3\" font-family=\"Times,serif\" font-size=\"14.00\">d</text>\n</g>\n<!-- d&#45;&gt;e -->\n<g id=\"edge4\" class=\"edge\">\n<title>d&#45;&gt;e</title>\n<path fill=\"none\" stroke=\"black\" d=\"M36.08,-18.4C57.15,-19.28 93.88,-22.09 124,-31 127.65,-32.08 131.38,-33.51 134.99,-35.08\"/>\n<polygon fill=\"black\" stroke=\"black\" points=\"133.57,-38.28 144.1,-39.42 136.59,-31.96 133.57,-38.28\"/>\n<text text-anchor=\"middle\" x=\"89\" y=\"-34.8\" font-family=\"Times,serif\" font-size=\"14.00\">de/dd=a=3.0</text>\n</g>\n</g>\n</svg>\n",
            "text/plain": [
              "<graphviz.graphs.Digraph at 0x7bbcfc0fd150>"
            ]
          },
          "metadata": {},
          "execution_count": 6
        }
      ],
      "source": [
        "e2 = graphviz.Digraph('second expression', filename='fsm.gv')\n",
        "\n",
        "e2.attr(rankdir='LR', size='8,5')\n",
        "\n",
        "e2.attr('node', shape='circle')\n",
        "e2.edge('a', 'c', label='dc/da=b=5.0')\n",
        "e2.edge('b', 'c', label='dc/db=a=3.0')\n",
        "e2.edge('a', 'e', label='de/da=d=9.0')\n",
        "e2.edge('d', 'e', label='de/dd=a=3.0')\n",
        "e2.edge('c', 'f', label='df/dc=1.0')\n",
        "e2.edge('e', 'f', label='df/de=1.0')\n",
        "\n",
        "e2"
      ]
    },
    {
      "cell_type": "markdown",
      "source": [
        "This graph corresponds to the following expression:\n",
        "```\n",
        "a = Var(3.0)\n",
        "b = Var(5.0)\n",
        "c = a * b\n",
        "d = Var(9.0)\n",
        "e = a * d\n",
        "f = c + e\n",
        "f.backward()\n",
        "```"
      ],
      "metadata": {
        "id": "Bc-VgRlI0oZm"
      }
    },
    {
      "cell_type": "markdown",
      "source": [
        "2.\n",
        "\n",
        "```\n",
        "a = Var(3.0)\n",
        "b = Var(5.0)\n",
        "f = a * b\n",
        "```\n",
        "Roughly constructs the following data structure:\n",
        "```\n",
        "a = Var(\n",
        "    v=3.0,\n",
        "    grad=0.0,\n",
        "    grad_fn=lambda: []\n",
        ")\n",
        "```\n",
        "```\n",
        "b = Var(\n",
        "    v=5.0,\n",
        "    grad=0.0,\n",
        "    grad_fn=lambda: []\n",
        ")\n",
        "```\n",
        "```\n",
        "f = Var(\n",
        "    v=15.0,\n",
        "    grad=0.0,\n",
        "    grad_fn=lambda: [(a, 5.0), (b, 3.0)]\n",
        ")\n",
        "```\n",
        "Each variable becomes an object that stores the partial derivatives by its components (stored via a reference and the corresponding value)."
      ],
      "metadata": {
        "id": "ax6ZFIhQIUfT"
      }
    },
    {
      "cell_type": "markdown",
      "source": [
        "3. and 4.\n",
        "\n",
        "The gradient of `f` is calculated as follows:\n",
        "\n",
        "- `f.backward()` is called. This in turn calls `f.backprop(1.0)`.\n",
        "- `f.grad` is set to`1.0`.\n",
        "- We then loop over `[(a, 5.0), (b, 3.0)]`, in turn calling:\n",
        " - `a.backprop(5.0 * 1.0)`\n",
        " - `b.backprop(3.0 * 1.0)`"
      ],
      "metadata": {
        "id": "D-KEcuipKwfa"
      }
    },
    {
      "cell_type": "markdown",
      "source": [
        "Nanograd's backprop function:\n",
        "\n",
        "    def backprop(self, bp):\n",
        "        self.grad += bp\n",
        "        for input, grad in self.grad_fn():\n",
        "            input.backprop(grad * bp)\n",
        "According to this, the gradients are calulated as:\n",
        "\n",
        "    f.grad = 0.0 + 1.0 = 1.0\n",
        "    a.grad = 0.0 + 5.0 * 1.0 = 5.0\n",
        "    b.grad = 0.0 + 3.0 * 1.0 = 3.0"
      ],
      "metadata": {
        "id": "18Bye5ZV1eLl"
      }
    },
    {
      "cell_type": "markdown",
      "metadata": {
        "id": "A5oi21W4gpeM"
      },
      "source": [
        "## Exercise c) What happens if we run backward again?\n",
        "\n",
        "Try to execute the code below. Explain what happens."
      ]
    },
    {
      "cell_type": "code",
      "execution_count": 7,
      "metadata": {
        "colab": {
          "base_uri": "https://localhost:8080/"
        },
        "id": "DCtpJyr-gyX1",
        "outputId": "623864e2-1f72-4144-8394-b58bd4e2fe87"
      },
      "outputs": [
        {
          "output_type": "stream",
          "name": "stdout",
          "text": [
            "Var(v=3.0000, grad=28.0000)\n",
            "Var(v=5.0000, grad=6.0000)\n",
            "Var(v=15.0000, grad=2.0000)\n",
            "Var(v=9.0000, grad=6.0000)\n",
            "Var(v=27.0000, grad=2.0000)\n",
            "Var(v=42.0000, grad=2.0000)\n"
          ]
        }
      ],
      "source": [
        "f.backward()\n",
        "\n",
        "for v in [a, b, c, d, e, f]:\n",
        "    print(v)"
      ]
    },
    {
      "cell_type": "markdown",
      "source": [
        "We perform the value calculations once more on the stored coefficients from `grad_fn` and all gradients in the dependency graph are incremented again. This leads to incorrect gradient values."
      ],
      "metadata": {
        "id": "t5ocnPidOTCs"
      }
    },
    {
      "cell_type": "markdown",
      "metadata": {
        "id": "e8bPVq2VhsP-"
      },
      "source": [
        "## Exercise d) Zero gradient\n",
        "\n",
        "We can zero the gradient by backpropagating a -1.0 as is shown in the example below. (If you have run backward multiple time then you also have to run the cell below an equal amount of times.) Explain what is going on."
      ]
    },
    {
      "cell_type": "code",
      "execution_count": 8,
      "metadata": {
        "colab": {
          "base_uri": "https://localhost:8080/"
        },
        "id": "OnyPDQx9lJe0",
        "outputId": "c51f922c-b75a-4368-f4a4-c34a10804993"
      },
      "outputs": [
        {
          "output_type": "stream",
          "name": "stdout",
          "text": [
            "Initially\n",
            "Var(v=2.0000, grad=0.0000)\n",
            "Var(v=5.0000, grad=6.0000)\n",
            "Var(v=15.0000, grad=2.0000)\n",
            "Var(v=9.0000, grad=6.0000)\n",
            "Var(v=27.0000, grad=2.0000)\n",
            "Var(v=42.0000, grad=2.0000)\n",
            "After backpropagadint -1 twice:\n",
            "Var(v=2.0000, grad=0.0000)\n",
            "Var(v=5.0000, grad=0.0000)\n",
            "Var(v=15.0000, grad=0.0000)\n",
            "Var(v=9.0000, grad=0.0000)\n",
            "Var(v=27.0000, grad=0.0000)\n",
            "Var(v=42.0000, grad=0.0000)\n"
          ]
        }
      ],
      "source": [
        "a = Var(2.0)\n",
        "print(\"Initially\")\n",
        "for v in [a, b, c, d, e, f]:\n",
        "    print(v)\n",
        "\n",
        "f.backprop(-1.0)\n",
        "f.backprop(-1.0)\n",
        "\n",
        "print(\"After backpropagadint -1 twice:\")\n",
        "for v in [a, b, c, d, e, f]:\n",
        "    print(v)"
      ]
    },
    {
      "cell_type": "markdown",
      "source": [
        "In the case of `f` the gradient is only incremented by 1 for each `backward()` call. We are also negating all the stored coefficients in `grad_fn` as we move backwards through the dependency graph.  Therefore an equal number of `backprop(-1.0)`calls will reset both this and the entire corresponding dependency graph's gradients to 0."
      ],
      "metadata": {
        "id": "g4cIeyLTM0GQ"
      }
    },
    {
      "cell_type": "markdown",
      "metadata": {
        "id": "U4057_ljNvWB"
      },
      "source": [
        "## Exercise e) Test correctness of derivatives with the finite difference method\n",
        "\n",
        "Write a small function that uses [the finite difference method](https://en.wikipedia.org/wiki/Finite_difference_method) to numerically test that backpropation implementation is working. In short we will use\n",
        "$$\n",
        "\\frac{\\partial f(a)}{\\partial a} \\approx \\frac{f(a+da)-f(a)}{da}\n",
        "$$\n",
        "for $da \\ll 1$.\n",
        "\n",
        "As an example, we could approximate the derivative of the function $f(a)=a^2$ in e.g. the value $a=4$ using the finite difference method. This amounts to inserting the relevant values and approximating the gradient $f'(4)$ with the fraction above.\n"
      ]
    },
    {
      "cell_type": "code",
      "execution_count": 9,
      "metadata": {
        "colab": {
          "base_uri": "https://localhost:8080/"
        },
        "id": "9TGil92lSXDN",
        "outputId": "d4b373a1-36c4-486c-f0e3-fa1c9f526bd5"
      },
      "outputs": [
        {
          "output_type": "stream",
          "name": "stdout",
          "text": [
            "Var(v=4.0000, grad=8.0000)\n",
            "Var(v=16.0000, grad=1.0000)\n",
            "Var(v=8.0000, grad=0.0000)\n"
          ]
        }
      ],
      "source": [
        "# f function - try to change the code to test other types of functions as well (such as different polynomials etc.)\n",
        "def f_function(a):\n",
        "  a = Var(a)\n",
        "  f = a * a\n",
        "  f.backward()\n",
        "  return a,f\n",
        "\n",
        "for v in f_function(4.0):\n",
        "  print(v)\n",
        "\n",
        "\n",
        "# Insert your finite difference code here\n",
        "def finite_difference(da=1e-10):\n",
        "    \"\"\"\n",
        "    This function computes the finite difference between\n",
        "\n",
        "    Input:\n",
        "    da:          The finite difference                           (float)\n",
        "\n",
        "    Output:\n",
        "    finite_difference: numerical approximation to the derivative (float)\n",
        "    \"\"\"\n",
        "    fa_da = f_function(4.0 + da)[1]           # <- Insert correct expression\n",
        "    fa = f_function(4.0)[1]              # <- Insert correct expression\n",
        "    finite_difference = (fa_da - fa) / Var(da)\n",
        "\n",
        "    return finite_difference\n",
        "\n",
        "print(finite_difference())"
      ]
    },
    {
      "cell_type": "markdown",
      "metadata": {
        "id": "6pZar5RKaUkg"
      },
      "source": [
        "# Create an artificial dataset to play with\n",
        "\n",
        "We create a non-linear 1d regression task. The generator supports various noise levels and it creates train, validation and test sets. You can modify it yourself if you want more or less challenging tasks."
      ]
    },
    {
      "cell_type": "code",
      "execution_count": 10,
      "metadata": {
        "id": "Y6yfMAQ8aduj"
      },
      "outputs": [],
      "source": [
        "import numpy as np\n",
        "import matplotlib.pyplot as plt\n",
        "\n",
        "np.random.seed(42)"
      ]
    },
    {
      "cell_type": "code",
      "execution_count": 16,
      "metadata": {
        "id": "4YabfD43ajNh"
      },
      "outputs": [],
      "source": [
        "def data_generator(noise=0.1, n_samples=300, D1=True):\n",
        "    # Create covariates and response variable\n",
        "    if D1:\n",
        "        X = np.linspace(-3, 3, num=n_samples).reshape(-1,1) # 1-D\n",
        "        np.random.shuffle(X)\n",
        "        y = np.random.normal((0.5*np.sin(X[:,0]*3) + X[:,0]), noise) # 1-D with trend\n",
        "    else:\n",
        "        X = np.random.multivariate_normal(np.zeros(3), noise*np.eye(3), size = n_samples) # 3-D\n",
        "        np.random.shuffle(X)\n",
        "        y = np.sin(X[:,0]) - 5*(X[:,1]**2) + 0.5*X[:,2] # 3-D\n",
        "\n",
        "    # Stack them together vertically to split data set\n",
        "    data_set = np.vstack((X.T,y)).T\n",
        "\n",
        "    train, validation, test = np.split(data_set, [int(0.35*n_samples), int(0.7*n_samples)], axis=0)\n",
        "\n",
        "    # Standardization of the data, remember we do the standardization with the training set mean and standard deviation\n",
        "    train_mu = np.mean(train, axis=0)\n",
        "    train_sigma = np.std(train, axis=0)\n",
        "\n",
        "    train = (train-train_mu)/train_sigma\n",
        "    validation = (validation-train_mu)/train_sigma\n",
        "    test = (test-train_mu)/train_sigma\n",
        "\n",
        "    x_train, x_validation, x_test = train[:,:-1], validation[:,:-1], test[:,:-1]\n",
        "    y_train, y_validation, y_test = train[:,-1], validation[:,-1], test[:,-1]\n",
        "\n",
        "    return x_train, y_train,  x_validation, y_validation, x_test, y_test"
      ]
    },
    {
      "cell_type": "code",
      "execution_count": 17,
      "metadata": {
        "id": "u1oDngHLapIz"
      },
      "outputs": [],
      "source": [
        "D1 = True\n",
        "x_train, y_train,  x_validation, y_validation, x_test, y_test = data_generator(noise=0.5, D1=D1)"
      ]
    },
    {
      "cell_type": "code",
      "execution_count": 18,
      "metadata": {
        "colab": {
          "base_uri": "https://localhost:8080/",
          "height": 430
        },
        "id": "Ysfa3FsBavlm",
        "outputId": "d71c0133-9e28-492d-ad09-d55187b6055b"
      },
      "outputs": [
        {
          "output_type": "display_data",
          "data": {
            "text/plain": [
              "<Figure size 640x480 with 1 Axes>"
            ],
            "image/png": "[encoded data removed]"
          },
          "metadata": {}
        }
      ],
      "source": [
        "if D1:\n",
        "    plt.scatter(x_train[:,0], y_train);\n",
        "    plt.scatter(x_validation[:,0], y_validation);\n",
        "    plt.scatter(x_test[:,0], y_test);\n",
        "else:\n",
        "    plt.scatter(x_train[:,1], y_train);\n",
        "    plt.scatter(x_validation[:,1], y_validation);\n",
        "    plt.scatter(x_test[:,1], y_test);\n",
        "plt.show()"
      ]
    },
    {
      "cell_type": "code",
      "execution_count": 19,
      "metadata": {
        "id": "zac2HHNlgbpm"
      },
      "outputs": [],
      "source": [
        "# convert from nparray to Var\n",
        "def nparray_to_Var(x):\n",
        "  if x.ndim==1:\n",
        "    y = [[Var(float(x[i]))] for i in range(x.shape[0])] # always work with list of list\n",
        "  else:\n",
        "    y = [[Var(float(x[i,j])) for j in range(x.shape[1])] for i in range(x.shape[0])]\n",
        "  return y\n",
        "\n",
        "x_train = nparray_to_Var(x_train)\n",
        "y_train = nparray_to_Var(y_train)\n",
        "x_validation = nparray_to_Var(x_validation)\n",
        "y_validation = nparray_to_Var(y_validation)\n",
        "x_test = nparray_to_Var(x_test)\n",
        "y_test = nparray_to_Var(y_test)\n"
      ]
    },
    {
      "cell_type": "markdown",
      "metadata": {
        "id": "VbjrqcpVFtGe"
      },
      "source": [
        "# Defining and initializing the network\n",
        "\n",
        "The steps to create a feed forward neural network are the following:\n",
        "\n",
        "1. **Number of hidden layer and hidden units**. We have to define the number of hidden units in each layer. The number of features in X and the output dimensionality (the size of Y) are given but the numbers in between are set by the researcher. Remember that for each unit in each layer beside in the input has a bias term.\n",
        "2. **Activation functions** for each hidden layer. Each hidden layer in your list must have an activation function (it can also be the linear activation which is equivalent to identity function). The power of neural networks comes from non-linear activation functions that learn representations (features) from the data allowing us to learn from it.\n",
        "3. **Parameter initialization**. We will initialize the weights to have random values. This is done in practice by drawing pseudo random numbers from a Gaussian or uniform distribution. It turns out that for deeper models we have to be careful about how we scale the random numbers. This will be the topic of the exercise below. For now we will just use unit variance Gaussians.  \n",
        "\n",
        "In order to make life easier for ourselves we define a DenseLayer class that takes care of initialization and the forward pass. We can also extend it later with print and advanced initialization capabilities. For the latter we have introduced a Initializer class.\n",
        "\n",
        "Note that we use Sequence in the code below. A Sequence is an ordered list. This means the order we insert and access items are the same."
      ]
    },
    {
      "cell_type": "code",
      "execution_count": 20,
      "metadata": {
        "id": "ij_ieRsAt7Xt"
      },
      "outputs": [],
      "source": [
        "class Initializer:\n",
        "\n",
        "  def init_weights(self, n_in, n_out):\n",
        "    raise NotImplementedError\n",
        "\n",
        "  def init_bias(self, n_out):\n",
        "    raise NotImplementedError"
      ]
    },
    {
      "cell_type": "code",
      "execution_count": 21,
      "metadata": {
        "id": "eb18N5phuIha"
      },
      "outputs": [],
      "source": [
        "import random\n",
        "\n",
        "class NormalInitializer(Initializer):\n",
        "\n",
        "  def __init__(self, mean=0, std=0.1):\n",
        "    self.mean = mean\n",
        "    self.std = std\n",
        "\n",
        "  def init_weights(self, n_in, n_out):\n",
        "    return [[Var(random.gauss(self.mean, self.std)) for _ in range(n_out)] for _ in range(n_in)]\n",
        "\n",
        "  def init_bias(self, n_out):\n",
        "    return [Var(0.0) for _ in range(n_out)]\n",
        "\n",
        "class ConstantInitializer(Initializer):\n",
        "\n",
        "  def __init__(self, weight=1.0, bias=0.0):\n",
        "    self.weight = weight\n",
        "    self.bias = bias\n",
        "\n",
        "  def init_weights(self, n_in, n_out):\n",
        "    return [[Var(self.weight) for _ in range(n_out)] for _ in range(n_in)]\n",
        "\n",
        "  def init_bias(self, n_out):\n",
        "    return [Var(self.bias) for _ in range(n_out)]"
      ]
    },
    {
      "cell_type": "code",
      "execution_count": 22,
      "metadata": {
        "id": "jOLYGnZKuM6W"
      },
      "outputs": [],
      "source": [
        "from typing import Sequence\n",
        "\n",
        "class DenseLayer:\n",
        "    def __init__(self, n_in: int, n_out: int, act_fn, initializer = NormalInitializer()):\n",
        "        self.weights = initializer.init_weights(n_in, n_out)\n",
        "        self.bias = initializer.init_bias(n_out)\n",
        "        self.act_fn = act_fn\n",
        "\n",
        "    def __repr__(self):\n",
        "        return f\"Weights: {repr(self.weights)} \\n Biases: {repr(self.bias)}\"\n",
        "\n",
        "    def parameters(self) -> Sequence[Var]:\n",
        "      params = []\n",
        "      for r in self.weights:\n",
        "        params += r\n",
        "\n",
        "      return params, self.bias\n",
        "\n",
        "    def forward(self, single_input: Sequence[Var]) -> Sequence[Var]:\n",
        "        # self.weights is a matrix with dimension n_in x n_out. We check that the dimensionality of the input\n",
        "        # to the current layer matches the number of nodes in the current layer\n",
        "        assert len(self.weights) == len(single_input), \"weights and single_input must match in first dimension\"\n",
        "        weights = self.weights\n",
        "        out = []\n",
        "        # For some given data point single_input, we now want to calculate the resulting value in each node in the current layer\n",
        "        # We therefore loop over the (number of) nodes in the current layer:\n",
        "        for j in range(len(weights[0])):\n",
        "            # Initialize the node value depending on its corresponding parameters.\n",
        "            node = self.bias[j] # <- Get corresponding bias Var()\n",
        "            # We now finish the linear transformation corresponding to the parameters of the currently considered node.\n",
        "            for i in range(len(single_input)):\n",
        "                node += single_input[i] * self.weights[i][j]  # <- Add input value * corresponding weight\n",
        "            node = self.act_fn(node)\n",
        "            out.append(node)\n",
        "\n",
        "        return out"
      ]
    },
    {
      "cell_type": "markdown",
      "metadata": {
        "id": "jpIZPBpNI0pO"
      },
      "source": [
        "## Exercise f) Add more activation functions\n",
        "\n",
        "To have a full definition of the neural network, we must define an activation function for every layer. Several activation functions have been proposed and have different characteristics. In the Var class we have already defined the rectified linear init (relu).\n",
        "\n",
        "Implement the following activation functions in the Var class:\n",
        "\n",
        "* Identity: $$\\mathrm{identity}(x) = x$$\n",
        "* Hyperbolic tangent: $$\\tanh(x)$$\n",
        "* Sigmoid (or logistic function): $$\\mathrm{sigmoid}(x) = \\frac{1}{1.0 + \\exp(-x ) }$$  Hint: $\\mathrm{sigmoid}'(x)= \\mathrm{sigmoid}(x)(1-\\mathrm{sigmoid}(x))$.  \n",
        "\n",
        "Hint: You can seek inspiration in the relu method in the Var class."
      ]
    },
    {
      "cell_type": "markdown",
      "metadata": {
        "id": "p_8n_SKnIW2F"
      },
      "source": [
        "## Exercise g) Complete the forward pass\n",
        "\n",
        "In the code below we initialize a 1-5-1 network and pass the training set through it. *The forward method in DenseLayer is **not** complete*. It just outputs zeros right now. The method forward should perform an [affine transformation](https://en.wikipedia.org/wiki/Affine_transformation) on the input followed by an application of the activation function."
      ]
    },
    {
      "cell_type": "code",
      "execution_count": 28,
      "metadata": {
        "colab": {
          "base_uri": "https://localhost:8080/"
        },
        "id": "xDEjtePxE7Mv",
        "outputId": "24f2b7f4-1356-47f9-b7b1-f94658f58294"
      },
      "outputs": [
        {
          "output_type": "stream",
          "name": "stdout",
          "text": [
            "[[Var(v=-0.0181, grad=0.0000)], [Var(v=-0.0063, grad=0.0000)], [Var(v=-0.0038, grad=0.0000)], [Var(v=-0.0052, grad=0.0000)], [Var(v=-0.0024, grad=0.0000)], [Var(v=-0.0041, grad=0.0000)], [Var(v=-0.0479, grad=0.0000)], [Var(v=-0.0072, grad=0.0000)], [Var(v=-0.0322, grad=0.0000)], [Var(v=-0.0126, grad=0.0000)], [Var(v=-0.0315, grad=0.0000)], [Var(v=-0.0203, grad=0.0000)], [Var(v=-0.0034, grad=0.0000)], [Var(v=-0.0085, grad=0.0000)], [Var(v=-0.0450, grad=0.0000)], [Var(v=-0.0362, grad=0.0000)], [Var(v=-0.0246, grad=0.0000)], [Var(v=-0.0130, grad=0.0000)], [Var(v=-0.0006, grad=0.0000)], [Var(v=-0.0016, grad=0.0000)], [Var(v=-0.0076, grad=0.0000)], [Var(v=-0.0008, grad=0.0000)], [Var(v=-0.0113, grad=0.0000)], [Var(v=-0.0326, grad=0.0000)], [Var(v=-0.0066, grad=0.0000)], [Var(v=-0.0243, grad=0.0000)], [Var(v=-0.0010, grad=0.0000)], [Var(v=-0.0030, grad=0.0000)], [Var(v=-0.0037, grad=0.0000)], [Var(v=-0.0059, grad=0.0000)], [Var(v=-0.0050, grad=0.0000)], [Var(v=-0.0228, grad=0.0000)], [Var(v=-0.0472, grad=0.0000)], [Var(v=-0.0511, grad=0.0000)], [Var(v=-0.0206, grad=0.0000)], [Var(v=-0.0097, grad=0.0000)], [Var(v=-0.0355, grad=0.0000)], [Var(v=-0.0120, grad=0.0000)], [Var(v=-0.0010, grad=0.0000)], [Var(v=-0.0129, grad=0.0000)], [Var(v=-0.0101, grad=0.0000)], [Var(v=-0.0093, grad=0.0000)], [Var(v=-0.0040, grad=0.0000)], [Var(v=-0.0166, grad=0.0000)], [Var(v=-0.0046, grad=0.0000)], [Var(v=-0.0279, grad=0.0000)], [Var(v=-0.0106, grad=0.0000)], [Var(v=-0.0104, grad=0.0000)], [Var(v=-0.0056, grad=0.0000)], [Var(v=-0.0016, grad=0.0000)], [Var(v=-0.0221, grad=0.0000)], [Var(v=-0.0461, grad=0.0000)], [Var(v=-0.0080, grad=0.0000)], [Var(v=-0.0086, grad=0.0000)], [Var(v=-0.0045, grad=0.0000)], [Var(v=-0.0053, grad=0.0000)], [Var(v=-0.0239, grad=0.0000)], [Var(v=-0.0457, grad=0.0000)], [Var(v=-0.0388, grad=0.0000)], [Var(v=-0.0003, grad=0.0000)], [Var(v=-0.0035, grad=0.0000)], [Var(v=-0.0188, grad=0.0000)], [Var(v=-0.0352, grad=0.0000)], [Var(v=-0.0341, grad=0.0000)], [Var(v=-0.0036, grad=0.0000)], [Var(v=-0.0152, grad=0.0000)], [Var(v=-0.0056, grad=0.0000)], [Var(v=-0.0117, grad=0.0000)], [Var(v=-0.0075, grad=0.0000)], [Var(v=-0.0123, grad=0.0000)], [Var(v=-0.0051, grad=0.0000)], [Var(v=-0.0004, grad=0.0000)], [Var(v=-0.0148, grad=0.0000)], [Var(v=-0.0493, grad=0.0000)], [Var(v=-0.0370, grad=0.0000)], [Var(v=-0.0031, grad=0.0000)], [Var(v=-0.0065, grad=0.0000)], [Var(v=-0.0000, grad=0.0000)], [Var(v=-0.0090, grad=0.0000)], [Var(v=-0.0144, grad=0.0000)], [Var(v=-0.0137, grad=0.0000)], [Var(v=-0.0014, grad=0.0000)], [Var(v=-0.0090, grad=0.0000)], [Var(v=-0.0029, grad=0.0000)], [Var(v=-0.0060, grad=0.0000)], [Var(v=-0.0381, grad=0.0000)], [Var(v=-0.0073, grad=0.0000)], [Var(v=-0.0001, grad=0.0000)], [Var(v=-0.0086, grad=0.0000)], [Var(v=-0.0067, grad=0.0000)], [Var(v=-0.0530, grad=0.0000)], [Var(v=-0.0373, grad=0.0000)], [Var(v=-0.0022, grad=0.0000)], [Var(v=-0.0119, grad=0.0000)], [Var(v=-0.0033, grad=0.0000)], [Var(v=-0.0177, grad=0.0000)], [Var(v=-0.0042, grad=0.0000)], [Var(v=-0.0508, grad=0.0000)], [Var(v=-0.0007, grad=0.0000)], [Var(v=-0.0061, grad=0.0000)], [Var(v=-0.0333, grad=0.0000)], [Var(v=-0.0348, grad=0.0000)], [Var(v=-0.0217, grad=0.0000)], [Var(v=-0.0054, grad=0.0000)], [Var(v=-0.0087, grad=0.0000)]]\n"
          ]
        }
      ],
      "source": [
        "NN = [\n",
        "    DenseLayer(1, 5, lambda x: x.relu()),\n",
        "    DenseLayer(5, 1, lambda x: x.identity())\n",
        "]\n",
        "\n",
        "def forward(input, network):\n",
        "\n",
        "  def forward_single(x, network):\n",
        "    for layer in network:\n",
        "        x = layer.forward(x)\n",
        "    return x\n",
        "\n",
        "  output = [ forward_single(input[n], network) for n in range(len(input))]\n",
        "  return output\n",
        "\n",
        "print(forward(x_train, NN))\n"
      ]
    },
    {
      "cell_type": "markdown",
      "metadata": {
        "id": "oLrGJytZFtGm"
      },
      "source": [
        "## Exercise h) Print all network parameters\n",
        "\n",
        "Make a function that prints all the parameters of the network (weights and biases) with information about in which layer the appear. In the object oriented spirit you should introduce a method in the DenseLayer class to print the parameters of a layer. Hint: You can take inspiration from the corresponding method in Var."
      ]
    },
    {
      "cell_type": "code",
      "execution_count": 24,
      "metadata": {
        "id": "iac-VwYGFtGm",
        "colab": {
          "base_uri": "https://localhost:8080/"
        },
        "outputId": "9fe1e294-ac45-467d-aba5-0705e5c7849a"
      },
      "outputs": [
        {
          "output_type": "stream",
          "name": "stdout",
          "text": [
            " Layer 1\n",
            " Weights: [Var(v=-0.0802, grad=0.0000), Var(v=-0.0228, grad=0.0000), Var(v=0.0681, grad=0.0000), Var(v=-0.0022, grad=0.0000), Var(v=-0.0594, grad=0.0000)] \n",
            " Biases: [Var(v=0.0000, grad=0.0000), Var(v=0.0000, grad=0.0000), Var(v=0.0000, grad=0.0000), Var(v=0.0000, grad=0.0000), Var(v=0.0000, grad=0.0000)]\n",
            " Layer 2\n",
            " Weights: [Var(v=-0.0434, grad=0.0000), Var(v=0.0005, grad=0.0000), Var(v=-0.0666, grad=0.0000), Var(v=0.1032, grad=0.0000), Var(v=0.0232, grad=0.0000)] \n",
            " Biases: [Var(v=0.0000, grad=0.0000)]\n"
          ]
        }
      ],
      "source": [
        "def print_network(network):\n",
        "  for idx, layer in enumerate(network):\n",
        "    print(f\" Layer {idx + 1}\")\n",
        "    w, b = layer.parameters()\n",
        "    print(f\" Weights: {w} \\n Biases: {b}\")\n",
        "\n",
        "print_network(NN)"
      ]
    },
    {
      "cell_type": "markdown",
      "metadata": {
        "id": "_79HOAXrFtHK"
      },
      "source": [
        "## Visualization\n",
        "\n",
        "Now that we have defined our activation functions we can visualize them to see what they look like:"
      ]
    },
    {
      "cell_type": "code",
      "execution_count": 29,
      "metadata": {
        "id": "1FcylHqLTl-Z",
        "colab": {
          "base_uri": "https://localhost:8080/",
          "height": 447
        },
        "outputId": "12c82e1b-194f-4c5e-898f-6bcb38fae55e"
      },
      "outputs": [
        {
          "output_type": "execute_result",
          "data": {
            "text/plain": [
              "[<matplotlib.lines.Line2D at 0x7bbcec24eaa0>]"
            ]
          },
          "metadata": {},
          "execution_count": 29
        },
        {
          "output_type": "display_data",
          "data": {
            "text/plain": [
              "<Figure size 640x480 with 1 Axes>"
            ],
            "image/png": "[encoded data removed]"
          },
          "metadata": {}
        }
      ],
      "source": [
        "x = np.linspace(-6, 6, 100)\n",
        "\n",
        "# convert from Var to ndarray\n",
        "def Var_to_nparray(x):\n",
        "  y = np.zeros((len(x),len(x[0])))\n",
        "  for i in range(len(x)):\n",
        "    for j in range(len(x[0])):\n",
        "      y[i,j] = x[i][j].v\n",
        "  return y\n",
        "\n",
        "# define 1-1 network with weight = 1 and relu activation\n",
        "NN = [ DenseLayer(1, 1, lambda x: x.relu(), initializer = ConstantInitializer(1.0)) ]\n",
        "y = Var_to_nparray(forward(nparray_to_Var(x), NN))\n",
        "\n",
        "#y = Var_to_nparray(relu(nparray_to_Var(x)))\n",
        "plt.plot(x,y)"
      ]
    },
    {
      "cell_type": "code",
      "execution_count": 30,
      "metadata": {
        "id": "oOL2UolJFtHL",
        "colab": {
          "base_uri": "https://localhost:8080/",
          "height": 476
        },
        "outputId": "3b07b958-4122-457d-a322-25f67ddbfdd8"
      },
      "outputs": [
        {
          "output_type": "display_data",
          "data": {
            "text/plain": [
              "<Figure size 500x500 with 1 Axes>"
            ],
            "image/png": "[encoded data removed]"
          },
          "metadata": {}
        }
      ],
      "source": [
        "# Testing all activation layers\n",
        "\n",
        "x = np.linspace(-6, 6, 100)\n",
        "units = {\n",
        "    \"identity\": lambda x: x.identity(),\n",
        "    \"sigmoid\": lambda x: x.sigmoid(),\n",
        "    \"relu\": lambda x: x.relu(),\n",
        "    \"tanh\": lambda x: x.tanh()\n",
        "}\n",
        "\n",
        "plt.figure(figsize=(5, 5))\n",
        "[plt.plot(x, Var_to_nparray(forward(nparray_to_Var(x), [DenseLayer(1, 1, unit, initializer = ConstantInitializer(1.0))]) ), label=unit_name, lw=2) for unit_name, unit in units.items()] # unit(nparray_to_Var(x))), label=unit_name, lw=2) for unit_name, unit in units.items()]\n",
        "plt.legend(loc=2, fontsize=16)\n",
        "plt.title('Our activation functions', fontsize=20)\n",
        "plt.ylim([-2, 5])\n",
        "plt.xlim([-6, 6])\n",
        "plt.show()"
      ]
    },
    {
      "cell_type": "markdown",
      "metadata": {
        "id": "b-jdEl-7FtGs"
      },
      "source": [
        "# Advanced initialization schemes\n",
        "\n",
        "If we are not careful with initialization, the signals we propagate forward ($a^{(l)}$, $l=1,\\ldots,L$) and backward ($\\delta^l$, $l=L,L-1,\\ldots,1$) can blow up or shrink to zero. A statistical analysis of the variance of the signals for different activation functions can be found in these two papers: [Glorot initialization](http://proceedings.mlr.press/v9/glorot10a/glorot10a.pdf) and [He initialization](https://arxiv.org/pdf/1502.01852v1.pdf).\n",
        "\n",
        "The result of the analyses are proposals for how to make the initialization such that the variance of the signals (forward and backward) are kept approxmimatly constant when propagating from layer to layer. The exact expressions depend upon the non-linear activation function used. In Glorot initialization, the aim is to keep both the forward and backward variances constant whereas He only aims at keeping the variance in the forward pass constant.\n",
        "\n",
        "We define $n_{in}$ and $n_{out}$ as the number of input units and output units of a particular layer.\n",
        "\n",
        "The Glorot initialization has the form:\n",
        "\n",
        "$$w_{ij} \\sim N \\bigg( 0, \\, \\frac{2 \\alpha }{n_{in} + n_{out}} \\bigg) \\ . $$\n",
        "\n",
        "where $N(\\mu,\\sigma^2)$ is a Gaussian distribution with mean $\\mu$ and variance $\\sigma^2$ and $\\alpha$ is a parameter that depends upon the activation function used. For $\\tanh$, $\\alpha=1$ and for Rectified Linear Unit (ReLU) activations, $\\alpha=2$. (It is also possible to use a uniform distribution for initialization, see [this blog post](https://mmuratarat.github.io/2019-02-25/xavier-glorot-he-weight-init).)\n",
        "\n",
        "The He initialization is very similar\n",
        "\n",
        "$$w_{ij} \\sim N \\bigg( 0, \\, \\frac{\\alpha}{n_{in}} \\bigg) \\ . $$"
      ]
    },
    {
      "cell_type": "markdown",
      "metadata": {
        "id": "mqeyab9qFtGs"
      },
      "source": [
        "## Exercise i) Glorot and He initialization\n",
        "\n",
        "Using the Initializer class, implement functions that implement Glorot and He\n",
        "\n",
        "Explain briefly how you would test numerically that these initializations have the sought after property. Hint: See plots in Glorot paper.\n",
        "\n",
        "Comment: If you want to be more advanced then try to make a universal initializer taking both the activation function and type (Glorot or He) as argument."
      ]
    },
    {
      "cell_type": "code",
      "execution_count": 31,
      "metadata": {
        "id": "Qyk01CgaFtGt",
        "colab": {
          "base_uri": "https://localhost:8080/"
        },
        "outputId": "1751e3e6-6e44-4211-c601-180776d0dc8d"
      },
      "outputs": [
        {
          "output_type": "execute_result",
          "data": {
            "text/plain": [
              "Weights: [[Var(v=1.9582, grad=0.0000)]] \n",
              " Biases: [Var(v=0.0000, grad=0.0000)]"
            ]
          },
          "metadata": {},
          "execution_count": 31
        }
      ],
      "source": [
        "## Glorot\n",
        "def DenseLayer_Glorot_tanh(n_in: int, n_out: int):\n",
        "  alpha = 2\n",
        "  std = 2 * alpha / (n_in + n_out)\n",
        "  return DenseLayer(n_in, n_out, lambda x: x.tanh(), initializer = NormalInitializer(std))\n",
        "\n",
        "## He\n",
        "def DenseLayer_He_relu(n_in: int, n_out: int):\n",
        "  alpha = 2\n",
        "  std = alpha / n_in # <- replace with proper initialization\n",
        "  return DenseLayer(n_in, n_out, lambda x: x.relu(), initializer = NormalInitializer(std))\n",
        "\n",
        "class InitMethod:\n",
        "  def __init__(self):\n",
        "      raise NotImplementedError\n",
        "\n",
        "class Glorot(InitMethod):\n",
        "  def __init__(self, n_in, n_out, act_fn):\n",
        "      self.std = 2 * act_fn.alpha / (n_in + n_out)\n",
        "\n",
        "class He(InitMethod):\n",
        "  def __init__(self, alpha, n_in, n_out, act_fn):\n",
        "    self.std = 2 * act_fn.alpha / (n_in + n_out)\n",
        "\n",
        "class ActivationFunction:\n",
        "  def __init__(self):\n",
        "      raise NotImplementedError\n",
        "\n",
        "  def get_function(self):\n",
        "      raise NotImplementedError\n",
        "\n",
        "class ReLu(ActivationFunction):\n",
        "  def __init__(self):\n",
        "      self.alpha = 2\n",
        "  def get_function(self):\n",
        "      return lambda x: x.relu()\n",
        "\n",
        "class Tanh(ActivationFunction):\n",
        "  def __init__(self):\n",
        "      self.alpha = 1\n",
        "  def get_function(self):\n",
        "      return lambda x: x.tanh()\n",
        "\n",
        "\n",
        "## Combined\n",
        "def DenseLayer_init(n_in: int, n_out: int, act_obj: ActivationFunction, init_type: InitMethod):\n",
        "  return DenseLayer(n_in, n_out, act_obj.get_function(), initializer = NormalInitializer(init_type.std))\n",
        "\n",
        "act_fn = ReLu()\n",
        "method = Glorot(1, 1, act_fn)\n",
        "DenseLayer_init(1, 1, act_fn, method)"
      ]
    },
    {
      "cell_type": "markdown",
      "metadata": {
        "id": "-XyXBD37FtHk"
      },
      "source": [
        "## Exercise j) Forward pass unit test\n",
        "\n",
        "Write a bit of code to make a unit test that the forward pass works. This can be done by defining a simple network with for example all weights equal to one (using the ConstantInitializer method) and identity activation functions.\n",
        "\n",
        "Hints: Use the [assert](https://www.w3schools.com/python/ref_keyword_assert.asp), the nparray_to_Var and the Var_to_nparray commands."
      ]
    },
    {
      "cell_type": "markdown",
      "source": [
        "The neural network can be collapsed to multiplying by 3 (number of hidden nodes).\n",
        "Therefore we test that `y = x * 3` for the flattened vectors."
      ],
      "metadata": {
        "id": "ZONdWKsTrAbn"
      }
    },
    {
      "cell_type": "code",
      "execution_count": 37,
      "metadata": {
        "id": "k0miqRUAFtHl",
        "colab": {
          "base_uri": "https://localhost:8080/"
        },
        "outputId": "5100eb3c-8629-4c38-f60c-57ea2e606f35"
      },
      "outputs": [
        {
          "output_type": "stream",
          "name": "stdout",
          "text": [
            " Layer 1\n",
            " Weights: [Var(v=1.0000, grad=0.0000), Var(v=1.0000, grad=0.0000), Var(v=1.0000, grad=0.0000)] \n",
            " Biases: [Var(v=0.0000, grad=0.0000), Var(v=0.0000, grad=0.0000), Var(v=0.0000, grad=0.0000)]\n",
            " Layer 2\n",
            " Weights: [Var(v=1.0000, grad=0.0000), Var(v=1.0000, grad=0.0000), Var(v=1.0000, grad=0.0000)] \n",
            " Biases: [Var(v=0.0000, grad=0.0000)]\n"
          ]
        }
      ],
      "source": [
        "TestNetwork = [\n",
        "    DenseLayer(1, 3, lambda x: x.identity(), initializer=ConstantInitializer(1.0)),\n",
        "    DenseLayer(3, 1, lambda x: x.identity(), initializer=ConstantInitializer(1.0)),\n",
        "    ]\n",
        "print_network(TestNetwork)\n",
        "\n",
        "y = Var_to_nparray(forward(nparray_to_Var(x), TestNetwork))\n",
        "\n",
        "assert np.array_equal(x.flatten() * 3, y.flatten())"
      ]
    },
    {
      "cell_type": "markdown",
      "metadata": {
        "id": "faCxhfFnFtHp"
      },
      "source": [
        "# Loss functions\n",
        "\n",
        "We are only missing a loss function to we need to define a loss function and its derivative with respect to the output of the neural network $y$"
      ]
    },
    {
      "cell_type": "code",
      "execution_count": 82,
      "metadata": {
        "id": "I2eDYKvAFtHq",
        "outputId": "90b18b33-45c5-40d0-ff8f-95045296dfdb",
        "colab": {
          "base_uri": "https://localhost:8080/"
        }
      },
      "outputs": [
        {
          "output_type": "execute_result",
          "data": {
            "text/plain": [
              "Var(v=0.3720, grad=0.0000)"
            ]
          },
          "metadata": {},
          "execution_count": 82
        }
      ],
      "source": [
        "def squared_loss(t, y):\n",
        "\n",
        "  # add check that sizes agree\n",
        "  assert Var_to_nparray(t).shape == Var_to_nparray(y).shape\n",
        "\n",
        "  def squared_loss_single(t, y):\n",
        "    Loss = Var(0.0)\n",
        "    for i in range(len(t)): # sum over outputs\n",
        "      Loss += (t[i]-y[i]) ** 2\n",
        "    return Loss\n",
        "\n",
        "  Loss = Var(0.0)\n",
        "  for n in range(len(t)): # sum over training data\n",
        "    Loss += squared_loss_single(t[n],y[n])\n",
        "  return Loss\n",
        "\n",
        "squared_loss([[Var(0.0)], [Var(1.0)], [Var(0.0)], [Var(0.0)]], [[Var(0.1)], [Var(0.4)], [Var(0.02)], [Var(0.04)]])\n"
      ]
    },
    {
      "cell_type": "markdown",
      "metadata": {
        "id": "SrwSJ2UWFtHu"
      },
      "source": [
        "## Exercise k) Implement cross entropy loss\n",
        "\n",
        "Insert code below to implement cross-entropy loss for general dimensionality of $t$. Use a logits formulation:\n",
        "$$\n",
        "\\rm{Loss} = - \\sum_i t_i \\, log \\, p_i\n",
        "$$\n",
        "with $p$ given by the the softmax function in terms of the logits $h$:\n",
        "$$\n",
        "p_i = \\frac{\\exp(h_i)}{\\sum_{i'} \\exp(h_{i'})} .\n",
        "$$\n",
        "Inserting $p$ in the expression for the loss gives\n",
        "$$\n",
        "\\rm{Loss} = - \\sum_i t_i h_i + \\rm{LogSumExp}(h) \\ ,\n",
        "$$\n",
        "where\n",
        "$$\n",
        "\\rm{LogSumExp}(h) = \\log \\sum_i \\exp h_i \\ .\n",
        "$$\n",
        "This is true for $t$ being a one-hot vector.\n",
        "\n",
        "Call the function to convince yourself it works.\n",
        "\n",
        "In practice you want to implement a [numerically stable](https://leimao.github.io/blog/LogSumExp/) version of LogSumExp. But we will not bother about that here.\n",
        "\n",
        "Help: You can add these methods in the Var class:\n",
        "\n",
        "    def exp(self):\n",
        "        return Var(exp(self.v), lambda: [(self, exp(self.v))])\n",
        "    \n",
        "    def log(self):\n",
        "        return Var(log(self.v), lambda: [(self, self.v ** -1)])"
      ]
    },
    {
      "cell_type": "code",
      "source": [
        "from math import log"
      ],
      "metadata": {
        "id": "WMffSqYOtoyY"
      },
      "execution_count": 43,
      "outputs": []
    },
    {
      "cell_type": "code",
      "execution_count": 72,
      "metadata": {
        "id": "6nMuxyfzFtHv",
        "outputId": "067cd6bd-2881-4ec6-dc10-b4a7d0c9f9dc",
        "colab": {
          "base_uri": "https://localhost:8080/"
        }
      },
      "outputs": [
        {
          "output_type": "execute_result",
          "data": {
            "text/plain": [
              "Var(v=1.1386, grad=0.0000)"
            ]
          },
          "metadata": {},
          "execution_count": 72
        }
      ],
      "source": [
        "def cross_entropy_loss(t, h):\n",
        "\n",
        "    Loss = Var(0.0)\n",
        "    for i in range(len(t)):\n",
        "      Loss = Loss - t[i] * h[i]\n",
        "\n",
        "    sumExp = Var(0.0)\n",
        "    for i in range(len(h)):\n",
        "      sumExp = sumExp + h[i].exp()\n",
        "    logSumExp = sumExp.log()\n",
        "    return Loss + logSumExp\n",
        "\n",
        "cross_entropy_loss([Var(0.0), Var(1.0), Var(0.0), Var(0.0)], [Var(0.1), Var(0.4), Var(0.02), Var(0.04)])\n"
      ]
    },
    {
      "cell_type": "markdown",
      "metadata": {
        "id": "8fAF5ew4FtHy"
      },
      "source": [
        "# Backward pass\n",
        "\n",
        "Now the magic happens! We get the calculation of the gradients for free. Just do:"
      ]
    },
    {
      "cell_type": "code",
      "execution_count": 77,
      "metadata": {
        "id": "iHyfPPI9Qqwu"
      },
      "outputs": [],
      "source": [
        "NN = [\n",
        "    DenseLayer(1, 5, lambda x: x.relu()),\n",
        "    DenseLayer(5, 1, lambda x: x.identity())\n",
        "]\n",
        "\n",
        "output = forward(x_train, NN)\n",
        "\n",
        "Loss = squared_loss(y_train,output)\n",
        "Loss.backward()"
      ]
    },
    {
      "cell_type": "markdown",
      "metadata": {
        "id": "49biIAYKQ1oG"
      },
      "source": [
        "and the gradients will be calculated:"
      ]
    },
    {
      "cell_type": "code",
      "execution_count": 78,
      "metadata": {
        "id": "_rGt1bq_Q7uk",
        "outputId": "a02f41b7-3ba0-4a94-eb24-88b317aecd81",
        "colab": {
          "base_uri": "https://localhost:8080/"
        }
      },
      "outputs": [
        {
          "output_type": "stream",
          "name": "stdout",
          "text": [
            "Layer 0 \n",
            " Weights: [[Var(v=0.1024, grad=12.2318), Var(v=0.0256, grad=-16.4712), Var(v=-0.1407, grad=4.9823), Var(v=0.0348, grad=5.1129), Var(v=0.0332, grad=-11.7461)]] \n",
            " Biases: [Var(v=0.0000, grad=10.6960), Var(v=0.0000, grad=-14.4030), Var(v=0.0000, grad=-4.3080), Var(v=0.0000, grad=4.4709), Var(v=0.0000, grad=-10.2713)]\n",
            "Layer 1 \n",
            " Weights: [[Var(v=-0.1232, grad=-10.1722)], [Var(v=0.1659, grad=-2.5414)], [Var(v=-0.0503, grad=13.9356)], [Var(v=-0.0515, grad=-3.4521)], [Var(v=0.1183, grad=-3.2950)]] \n",
            " Biases: [Var(v=0.0000, grad=-1.1990)]\n"
          ]
        },
        {
          "output_type": "execute_result",
          "data": {
            "text/plain": [
              "[None, None]"
            ]
          },
          "metadata": {},
          "execution_count": 78
        }
      ],
      "source": [
        "[print('Layer', i, '\\n', NN[i]) for i in range(len(NN))]"
      ]
    },
    {
      "cell_type": "markdown",
      "metadata": {
        "id": "D7d7qK0uFtH9"
      },
      "source": [
        "# Backward pass unit test\n",
        "\n",
        "Above we used finite differences to test that Nanograd is actually doing what it is supposed to do. We can in principle try the same for the neural network. But we will trust that the test above is enough."
      ]
    },
    {
      "cell_type": "markdown",
      "metadata": {
        "id": "WgBi8GOSFtIN"
      },
      "source": [
        "# Training and validation\n",
        "\n",
        "We are ready to train some neural networks!\n",
        "\n",
        "We initialize again:"
      ]
    },
    {
      "cell_type": "code",
      "execution_count": 83,
      "metadata": {
        "id": "01ePmzBzRtdh"
      },
      "outputs": [],
      "source": [
        "NN = [\n",
        "    DenseLayer(1, 15, lambda x: x.relu()),\n",
        "    DenseLayer(15, 50, lambda x: x.relu()),\n",
        "    DenseLayer(50, 1, lambda x: x.identity())\n",
        "]\n",
        "\n",
        "output = forward(x_train, NN)\n",
        "\n",
        "Loss = squared_loss(y_train,output)\n",
        "Loss.backward()"
      ]
    },
    {
      "cell_type": "markdown",
      "metadata": {
        "id": "10iRPiQ1ISHw"
      },
      "source": [
        "and make an update:\n",
        "\n",
        "We introduce a help function parameters to have a handle in all parameters in the network."
      ]
    },
    {
      "cell_type": "code",
      "execution_count": 88,
      "metadata": {
        "id": "dhAI7eyeznia",
        "outputId": "310d570c-07e8-4657-a7b6-f12a99e0d4e3",
        "colab": {
          "base_uri": "https://localhost:8080/"
        }
      },
      "outputs": [
        {
          "output_type": "stream",
          "name": "stdout",
          "text": [
            "Network before update:\n",
            "Layer 0 \n",
            " Weights: [[Var(v=-0.0116, grad=14.9170), Var(v=-0.1616, grad=4.8526), Var(v=-0.0755, grad=-0.3017), Var(v=0.1619, grad=-0.1483), Var(v=0.2246, grad=-8.0948), Var(v=0.0101, grad=5.9977), Var(v=-0.0014, grad=-2.6833), Var(v=0.1186, grad=8.3902), Var(v=0.0677, grad=5.4926), Var(v=-0.1201, grad=12.2619), Var(v=-0.0207, grad=-6.1071), Var(v=-0.1446, grad=8.9261), Var(v=0.0948, grad=-10.3602), Var(v=-0.0628, grad=-2.7581), Var(v=-0.0033, grad=-0.3478)]] \n",
            " Biases: [Var(v=-0.1304, grad=13.0422), Var(v=0.0420, grad=-4.1953), Var(v=-0.0026, grad=0.2608), Var(v=0.0013, grad=-0.1297), Var(v=0.0708, grad=-7.0775), Var(v=-0.0524, grad=5.2439), Var(v=-0.0232, grad=2.3198), Var(v=-0.0734, grad=7.3357), Var(v=-0.0480, grad=4.8022), Var(v=-0.1072, grad=10.7208), Var(v=-0.0528, grad=5.2799), Var(v=0.0772, grad=-7.7170), Var(v=-0.0896, grad=8.9568), Var(v=-0.0238, grad=2.3845), Var(v=-0.0030, grad=0.3007)]\n",
            "Layer 1 \n",
            " Weights: [[Var(v=0.0933, grad=0.0000), Var(v=0.0233, grad=1.7837), Var(v=0.1368, grad=0.4340), Var(v=0.0581, grad=-1.5656), Var(v=-0.0576, grad=0.0000), Var(v=0.0023, grad=0.0000), Var(v=-0.0008, grad=-1.1967), Var(v=-0.2039, grad=0.0914), Var(v=-0.0148, grad=0.0000), Var(v=0.0277, grad=0.0000), Var(v=0.0628, grad=0.0954), Var(v=-0.1534, grad=0.0000), Var(v=0.0239, grad=2.5318), Var(v=-0.0313, grad=-3.0787), Var(v=0.1572, grad=0.0000), Var(v=-0.0630, grad=0.0279), Var(v=0.1067, grad=-0.9261), Var(v=-0.1547, grad=0.0000), Var(v=-0.0373, grad=-2.2089), Var(v=-0.1208, grad=0.0000), Var(v=0.0117, grad=-1.3115), Var(v=-0.0245, grad=-1.7466), Var(v=0.0120, grad=4.3053), Var(v=-0.1435, grad=-1.5583), Var(v=-0.0628, grad=0.0000), Var(v=-0.0545, grad=1.6959), Var(v=-0.1233, grad=0.0000), Var(v=-0.1300, grad=0.0000), Var(v=-0.1017, grad=0.0000), Var(v=0.1702, grad=0.5689), Var(v=-0.1014, grad=1.9495), Var(v=0.0732, grad=1.0821), Var(v=0.0743, grad=1.6429), Var(v=-0.1318, grad=0.0000), Var(v=0.0236, grad=1.6731), Var(v=0.0460, grad=-0.3431), Var(v=0.1729, grad=1.0506), Var(v=-0.2118, grad=0.0000), Var(v=-0.0447, grad=0.0000), Var(v=0.1310, grad=-0.8658), Var(v=0.0467, grad=2.9257), Var(v=-0.1287, grad=0.0000), Var(v=0.0048, grad=0.7059), Var(v=0.1533, grad=0.7783), Var(v=0.1906, grad=2.9026), Var(v=0.0325, grad=0.0000), Var(v=0.0216, grad=0.0000), Var(v=-0.0246, grad=-0.6106), Var(v=-0.0077, grad=1.5911), Var(v=0.0959, grad=-3.6197)], [Var(v=-0.0174, grad=-0.6824), Var(v=-0.1858, grad=0.0000), Var(v=0.1104, grad=-0.3474), Var(v=0.1018, grad=0.0000), Var(v=0.0099, grad=-0.1876), Var(v=-0.0257, grad=0.5953), Var(v=0.0408, grad=0.0000), Var(v=0.1157, grad=-0.0732), Var(v=-0.0331, grad=0.0000), Var(v=-0.0651, grad=0.0000), Var(v=-0.1562, grad=-0.0763), Var(v=0.0303, grad=0.0000), Var(v=0.2087, grad=-2.0262), Var(v=0.0752, grad=2.4640), Var(v=0.0220, grad=0.0000), Var(v=0.0276, grad=-0.0223), Var(v=-0.0048, grad=0.7412), Var(v=-0.0911, grad=0.0000), Var(v=-0.0023, grad=1.7678), Var(v=0.0157, grad=0.0000), Var(v=-0.1611, grad=0.0000), Var(v=0.1739, grad=1.3978), Var(v=-0.0556, grad=0.0000), Var(v=0.2025, grad=1.2471), Var(v=0.1376, grad=-1.3417), Var(v=-0.1634, grad=0.0000), Var(v=-0.0654, grad=-0.7025), Var(v=-0.1185, grad=0.0000), Var(v=0.0748, grad=0.0000), Var(v=0.0296, grad=-0.4553), Var(v=0.2554, grad=-1.5602), Var(v=-0.1939, grad=0.0000), Var(v=0.1446, grad=-1.3148), Var(v=0.0158, grad=-0.1361), Var(v=0.0115, grad=-1.3390), Var(v=-0.0613, grad=0.2746), Var(v=-0.1979, grad=0.0000), Var(v=0.1394, grad=0.0000), Var(v=0.0024, grad=0.0000), Var(v=0.1371, grad=0.6929), Var(v=-0.1322, grad=0.0000), Var(v=-0.0792, grad=1.9524), Var(v=-0.0827, grad=0.0000), Var(v=0.2039, grad=-0.6229), Var(v=-0.0241, grad=-2.3230), Var(v=-0.0717, grad=0.0000), Var(v=0.0457, grad=0.0000), Var(v=0.1958, grad=0.4886), Var(v=-0.1527, grad=0.0000), Var(v=-0.1395, grad=2.8969)], [Var(v=-0.0241, grad=-0.4743), Var(v=-0.0920, grad=0.0000), Var(v=0.0544, grad=-0.2414), Var(v=-0.0286, grad=0.0000), Var(v=0.2162, grad=-0.1304), Var(v=0.0103, grad=0.4137), Var(v=-0.0439, grad=0.0000), Var(v=0.1582, grad=-0.0508), Var(v=-0.0209, grad=0.0000), Var(v=0.0094, grad=0.0000), Var(v=0.0633, grad=-0.0530), Var(v=-0.1425, grad=0.0000), Var(v=0.1139, grad=-1.4081), Var(v=0.0161, grad=1.7123), Var(v=0.0409, grad=0.0000), Var(v=0.1364, grad=-0.0155), Var(v=-0.0244, grad=0.5151), Var(v=-0.0999, grad=0.0000), Var(v=0.0317, grad=1.2285), Var(v=-0.0900, grad=0.0000), Var(v=-0.1087, grad=0.0000), Var(v=0.1948, grad=0.9714), Var(v=-0.1291, grad=0.0000), Var(v=-0.0066, grad=0.8667), Var(v=0.1055, grad=-0.9324), Var(v=0.0081, grad=0.0000), Var(v=0.0539, grad=-0.4882), Var(v=0.0729, grad=0.0000), Var(v=-0.0586, grad=0.0000), Var(v=0.0336, grad=-0.3164), Var(v=0.0515, grad=-1.0843), Var(v=0.1803, grad=0.0000), Var(v=0.2701, grad=-0.9137), Var(v=0.0960, grad=-0.0946), Var(v=-0.0000, grad=-0.9305), Var(v=0.0678, grad=0.1908), Var(v=-0.1624, grad=0.0000), Var(v=-0.1031, grad=0.0000), Var(v=-0.0747, grad=0.0000), Var(v=0.0137, grad=0.4816), Var(v=0.0808, grad=0.0000), Var(v=0.0366, grad=1.3568), Var(v=0.0972, grad=0.0000), Var(v=0.0521, grad=-0.4329), Var(v=0.0715, grad=-1.6143), Var(v=-0.1914, grad=0.0000), Var(v=-0.1940, grad=0.0000), Var(v=-0.0564, grad=0.3396), Var(v=0.0151, grad=0.0000), Var(v=0.1493, grad=2.0132)], [Var(v=0.0970, grad=0.0000), Var(v=0.0191, grad=2.0800), Var(v=0.0134, grad=0.5061), Var(v=0.0148, grad=-1.8256), Var(v=0.1018, grad=0.0000), Var(v=-0.0153, grad=0.0000), Var(v=0.1467, grad=-1.3955), Var(v=-0.0277, grad=0.1066), Var(v=-0.0591, grad=0.0000), Var(v=0.0400, grad=0.0000), Var(v=0.0795, grad=0.1112), Var(v=-0.0646, grad=0.0000), Var(v=0.1418, grad=2.9523), Var(v=0.0153, grad=-3.5901), Var(v=0.0023, grad=0.0000), Var(v=0.0154, grad=0.0325), Var(v=0.0990, grad=-1.0799), Var(v=0.2194, grad=0.0000), Var(v=0.0971, grad=-2.5757), Var(v=-0.0762, grad=0.0000), Var(v=0.0862, grad=-1.5293), Var(v=0.0248, grad=-2.0367), Var(v=-0.0584, grad=5.0203), Var(v=0.1031, grad=-1.8171), Var(v=0.0458, grad=0.0000), Var(v=-0.0068, grad=1.9776), Var(v=-0.0629, grad=0.0000), Var(v=-0.1045, grad=0.0000), Var(v=-0.0507, grad=0.0000), Var(v=-0.0651, grad=0.6633), Var(v=0.0489, grad=2.2733), Var(v=-0.0936, grad=1.2618), Var(v=-0.1163, grad=1.9157), Var(v=-0.0373, grad=0.0000), Var(v=0.0049, grad=1.9510), Var(v=-0.1671, grad=-0.4001), Var(v=0.0227, grad=1.2251), Var(v=0.0084, grad=0.0000), Var(v=-0.1762, grad=0.0000), Var(v=0.1602, grad=-1.0096), Var(v=0.1130, grad=3.4117), Var(v=0.0003, grad=0.0000), Var(v=0.0168, grad=0.8231), Var(v=-0.1101, grad=0.9076), Var(v=-0.0255, grad=3.3846), Var(v=-0.0817, grad=0.0000), Var(v=0.0238, grad=0.0000), Var(v=0.0474, grad=-0.7120), Var(v=-0.1168, grad=1.8554), Var(v=0.0538, grad=-4.2209)], [Var(v=0.0446, grad=0.0000), Var(v=-0.1169, grad=1.8627), Var(v=-0.1487, grad=0.4533), Var(v=0.0608, grad=-1.6349), Var(v=-0.2294, grad=0.0000), Var(v=0.0243, grad=0.0000), Var(v=0.0356, grad=-1.2497), Var(v=0.0231, grad=0.0955), Var(v=0.0255, grad=0.0000), Var(v=-0.0845, grad=0.0000), Var(v=0.0281, grad=0.0996), Var(v=0.1027, grad=0.0000), Var(v=-0.0981, grad=2.6439), Var(v=0.1543, grad=-3.2151), Var(v=-0.2099, grad=0.0000), Var(v=0.0037, grad=0.0291), Var(v=0.0041, grad=-0.9671), Var(v=-0.0964, grad=0.0000), Var(v=0.1294, grad=-2.3067), Var(v=-0.0794, grad=0.0000), Var(v=0.0047, grad=-1.3696), Var(v=0.0671, grad=-1.8239), Var(v=0.0277, grad=4.4960), Var(v=0.0505, grad=-1.6273), Var(v=0.0085, grad=0.0000), Var(v=0.0969, grad=1.7711), Var(v=-0.0227, grad=0.0000), Var(v=-0.0773, grad=0.0000), Var(v=-0.1614, grad=0.0000), Var(v=-0.0590, grad=0.5941), Var(v=-0.0311, grad=2.0359), Var(v=0.1641, grad=1.1300), Var(v=0.1584, grad=1.7156), Var(v=-0.0428, grad=0.0000), Var(v=0.1434, grad=1.7472), Var(v=0.0270, grad=-0.3583), Var(v=-0.0284, grad=1.0971), Var(v=0.1161, grad=0.0000), Var(v=-0.1634, grad=0.0000), Var(v=0.2393, grad=-0.9042), Var(v=-0.1369, grad=3.0553), Var(v=0.0265, grad=0.0000), Var(v=0.0577, grad=0.7371), Var(v=-0.1360, grad=0.8128), Var(v=0.0332, grad=3.0311), Var(v=-0.0854, grad=0.0000), Var(v=-0.0346, grad=0.0000), Var(v=0.1166, grad=-0.6376), Var(v=0.0633, grad=1.6616), Var(v=0.2385, grad=-3.7800)], [Var(v=0.0441, grad=0.0000), Var(v=0.0397, grad=0.9091), Var(v=-0.1140, grad=0.2212), Var(v=-0.0273, grad=-0.7979), Var(v=-0.1250, grad=0.0000), Var(v=-0.0893, grad=0.0000), Var(v=-0.1161, grad=-0.6099), Var(v=0.0088, grad=0.0466), Var(v=0.0182, grad=0.0000), Var(v=-0.0786, grad=0.0000), Var(v=-0.0805, grad=0.0486), Var(v=-0.0638, grad=0.0000), Var(v=-0.0380, grad=1.2904), Var(v=0.1369, grad=-1.5692), Var(v=0.0950, grad=0.0000), Var(v=0.0449, grad=0.0142), Var(v=0.1246, grad=-0.4720), Var(v=-0.0039, grad=0.0000), Var(v=0.0520, grad=-1.1258), Var(v=-0.0031, grad=0.0000), Var(v=0.0437, grad=-0.6685), Var(v=-0.0927, grad=-0.8902), Var(v=0.0234, grad=2.1944), Var(v=-0.1046, grad=-0.7943), Var(v=0.1299, grad=0.0000), Var(v=-0.1041, grad=0.8644), Var(v=-0.0355, grad=0.0000), Var(v=0.0897, grad=0.0000), Var(v=0.0550, grad=0.0000), Var(v=-0.0599, grad=0.2899), Var(v=0.1276, grad=0.9937), Var(v=-0.0408, grad=0.5515), Var(v=-0.1658, grad=0.8374), Var(v=0.1354, grad=0.0000), Var(v=0.1573, grad=0.8528), Var(v=0.0406, grad=-0.1749), Var(v=0.1221, grad=0.5355), Var(v=0.1479, grad=0.0000), Var(v=-0.0102, grad=0.0000), Var(v=0.0235, grad=-0.4413), Var(v=0.2556, grad=1.4912), Var(v=0.0992, grad=0.0000), Var(v=0.0073, grad=0.3598), Var(v=0.0713, grad=0.3967), Var(v=-0.0988, grad=1.4794), Var(v=-0.0623, grad=0.0000), Var(v=-0.0266, grad=0.0000), Var(v=-0.0656, grad=-0.3112), Var(v=-0.1709, grad=0.8110), Var(v=-0.0294, grad=-1.8449)], [Var(v=0.0175, grad=-0.1705), Var(v=0.0067, grad=0.0000), Var(v=-0.0607, grad=-0.0868), Var(v=0.1118, grad=0.0000), Var(v=-0.1228, grad=-0.0469), Var(v=0.1804, grad=0.1487), Var(v=-0.0286, grad=0.0000), Var(v=0.0454, grad=-0.0183), Var(v=-0.0845, grad=0.0000), Var(v=0.0397, grad=0.0000), Var(v=0.1273, grad=-0.0191), Var(v=-0.1652, grad=0.0000), Var(v=-0.0667, grad=-0.5061), Var(v=-0.1515, grad=0.6154), Var(v=-0.0259, grad=0.0000), Var(v=-0.0167, grad=-0.0056), Var(v=-0.0815, grad=0.1851), Var(v=0.1271, grad=0.0000), Var(v=-0.0145, grad=0.4415), Var(v=0.0348, grad=0.0000), Var(v=0.1485, grad=0.0000), Var(v=0.1534, grad=0.3491), Var(v=0.0551, grad=0.0000), Var(v=0.0808, grad=0.3115), Var(v=-0.0787, grad=-0.3351), Var(v=0.0659, grad=0.0000), Var(v=0.1537, grad=-0.1755), Var(v=-0.0228, grad=0.0000), Var(v=-0.1534, grad=0.0000), Var(v=0.0692, grad=-0.1137), Var(v=-0.0766, grad=-0.3897), Var(v=-0.0599, grad=0.0000), Var(v=0.0418, grad=-0.3284), Var(v=-0.0342, grad=-0.0340), Var(v=-0.0003, grad=-0.3344), Var(v=0.0681, grad=0.0686), Var(v=-0.0518, grad=0.0000), Var(v=0.0195, grad=0.0000), Var(v=0.0810, grad=0.0000), Var(v=0.0530, grad=0.1731), Var(v=0.0370, grad=0.0000), Var(v=0.1234, grad=0.4877), Var(v=-0.0510, grad=0.0000), Var(v=0.0229, grad=-0.1556), Var(v=0.0705, grad=-0.5802), Var(v=-0.1798, grad=0.0000), Var(v=-0.0314, grad=0.0000), Var(v=-0.0136, grad=0.1220), Var(v=0.1387, grad=0.0000), Var(v=-0.0261, grad=0.7236)], [Var(v=-0.1215, grad=0.0000), Var(v=-0.0182, grad=2.6259), Var(v=0.1791, grad=0.6390), Var(v=0.0271, grad=-2.3047), Var(v=0.0589, grad=0.0000), Var(v=0.0213, grad=0.0000), Var(v=0.0249, grad=-1.7617), Var(v=0.0616, grad=0.1346), Var(v=-0.0696, grad=0.0000), Var(v=-0.1425, grad=0.0000), Var(v=0.0986, grad=0.1404), Var(v=-0.0399, grad=0.0000), Var(v=-0.1109, grad=3.7272), Var(v=0.0202, grad=-4.5324), Var(v=-0.0919, grad=0.0000), Var(v=0.0677, grad=0.0410), Var(v=-0.0661, grad=-1.3634), Var(v=-0.0748, grad=0.0000), Var(v=0.0511, grad=-3.2518), Var(v=-0.1271, grad=0.0000), Var(v=0.1164, grad=-1.9307), Var(v=0.0957, grad=-2.5712), Var(v=-0.0786, grad=6.3380), Var(v=0.0946, grad=-2.2941), Var(v=-0.0971, grad=0.0000), Var(v=0.1081, grad=2.4967), Var(v=-0.1999, grad=0.0000), Var(v=0.0209, grad=0.0000), Var(v=-0.0538, grad=0.0000), Var(v=0.0418, grad=0.8374), Var(v=-0.0564, grad=2.8700), Var(v=0.0508, grad=1.5929), Var(v=0.1436, grad=2.4185), Var(v=-0.1111, grad=0.0000), Var(v=-0.1316, grad=2.4631), Var(v=0.2026, grad=-0.5051), Var(v=0.0716, grad=1.5466), Var(v=-0.0651, grad=0.0000), Var(v=-0.0268, grad=0.0000), Var(v=0.0835, grad=-1.2746), Var(v=0.0098, grad=4.3071), Var(v=-0.0839, grad=0.0000), Var(v=0.0442, grad=1.0391), Var(v=0.0624, grad=1.1458), Var(v=0.0520, grad=4.2730), Var(v=-0.0874, grad=0.0000), Var(v=-0.0611, grad=0.0000), Var(v=0.0311, grad=-0.8988), Var(v=0.0312, grad=2.3424), Var(v=-0.1206, grad=-5.3287)], [Var(v=-0.1371, grad=0.0000), Var(v=0.0376, grad=1.5905), Var(v=0.0183, grad=0.3870), Var(v=-0.0425, grad=-1.3959), Var(v=-0.1658, grad=0.0000), Var(v=-0.1218, grad=0.0000), Var(v=0.0367, grad=-1.0670), Var(v=0.1904, grad=0.0815), Var(v=-0.0009, grad=0.0000), Var(v=-0.0377, grad=0.0000), Var(v=0.2209, grad=0.0850), Var(v=0.0891, grad=0.0000), Var(v=0.1355, grad=2.2575), Var(v=0.0372, grad=-2.7452), Var(v=0.0254, grad=0.0000), Var(v=-0.0535, grad=0.0248), Var(v=0.0441, grad=-0.8258), Var(v=0.0163, grad=0.0000), Var(v=-0.0171, grad=-1.9695), Var(v=-0.0833, grad=0.0000), Var(v=-0.0374, grad=-1.1694), Var(v=0.0401, grad=-1.5573), Var(v=0.0744, grad=3.8388), Var(v=0.0390, grad=-1.3895), Var(v=-0.1195, grad=0.0000), Var(v=0.1214, grad=1.5122), Var(v=-0.0980, grad=0.0000), Var(v=-0.0748, grad=0.0000), Var(v=-0.0965, grad=0.0000), Var(v=0.1045, grad=0.5072), Var(v=0.0299, grad=1.7383), Var(v=-0.0930, grad=0.9648), Var(v=-0.1946, grad=1.4649), Var(v=-0.1664, grad=0.0000), Var(v=-0.0326, grad=1.4918), Var(v=-0.1851, grad=-0.3059), Var(v=0.0204, grad=0.9368), Var(v=-0.2232, grad=0.0000), Var(v=0.0783, grad=0.0000), Var(v=0.1287, grad=-0.7720), Var(v=-0.0490, grad=2.6088), Var(v=-0.1597, grad=0.0000), Var(v=0.0661, grad=0.6294), Var(v=-0.0418, grad=0.6940), Var(v=0.0554, grad=2.5881), Var(v=-0.0131, grad=0.0000), Var(v=-0.0387, grad=0.0000), Var(v=0.0821, grad=-0.5444), Var(v=0.0214, grad=1.4188), Var(v=0.1690, grad=-3.2275)], [Var(v=0.0100, grad=0.0000), Var(v=-0.0911, grad=0.0323), Var(v=-0.0753, grad=0.0079), Var(v=-0.0671, grad=-0.0284), Var(v=-0.1089, grad=0.0000), Var(v=-0.0305, grad=0.0000), Var(v=0.0646, grad=-0.0217), Var(v=-0.1930, grad=0.0017), Var(v=0.0680, grad=0.0000), Var(v=0.0387, grad=0.0000), Var(v=0.0157, grad=0.0017), Var(v=-0.0875, grad=0.0000), Var(v=0.0324, grad=0.0459), Var(v=0.0085, grad=-0.0558), Var(v=-0.0478, grad=0.0000), Var(v=-0.0549, grad=0.0005), Var(v=0.0403, grad=-0.0168), Var(v=-0.0383, grad=0.0000), Var(v=-0.1045, grad=-0.0400), Var(v=0.0067, grad=0.0000), Var(v=0.0325, grad=-0.0238), Var(v=-0.0003, grad=-0.0316), Var(v=0.1576, grad=0.0780), Var(v=0.0249, grad=-0.0282), Var(v=-0.0279, grad=0.0000), Var(v=0.0774, grad=0.0307), Var(v=-0.0094, grad=0.0000), Var(v=0.1144, grad=0.0000), Var(v=0.1870, grad=0.0000), Var(v=0.0748, grad=0.0103), Var(v=0.1679, grad=0.0353), Var(v=0.1532, grad=0.0196), Var(v=0.0593, grad=0.0298), Var(v=0.1527, grad=0.0000), Var(v=-0.0811, grad=0.0303), Var(v=-0.0601, grad=-0.0062), Var(v=0.0800, grad=0.0190), Var(v=0.0166, grad=0.0000), Var(v=0.0132, grad=0.0000), Var(v=0.0824, grad=-0.0157), Var(v=0.0436, grad=0.0530), Var(v=0.0650, grad=0.0000), Var(v=-0.0158, grad=0.0128), Var(v=0.0915, grad=0.0141), Var(v=-0.0429, grad=0.0526), Var(v=-0.1471, grad=0.0000), Var(v=-0.1427, grad=0.0000), Var(v=-0.0013, grad=-0.0111), Var(v=-0.1996, grad=0.0288), Var(v=-0.1650, grad=-0.0656)], [Var(v=0.0278, grad=-0.4936), Var(v=0.0962, grad=0.0000), Var(v=0.1014, grad=-0.2513), Var(v=0.0004, grad=0.0000), Var(v=0.0545, grad=-0.1357), Var(v=0.1096, grad=0.4306), Var(v=0.0962, grad=0.0000), Var(v=0.2196, grad=-0.0529), Var(v=0.2039, grad=0.0000), Var(v=-0.1964, grad=0.0000), Var(v=0.2163, grad=-0.0552), Var(v=-0.1827, grad=0.0000), Var(v=0.0781, grad=-1.4657), Var(v=-0.0014, grad=1.7823), Var(v=-0.1071, grad=0.0000), Var(v=0.1170, grad=-0.0161), Var(v=0.0979, grad=0.5361), Var(v=-0.0928, grad=0.0000), Var(v=0.0880, grad=1.2787), Var(v=0.0120, grad=0.0000), Var(v=0.0370, grad=0.0000), Var(v=-0.0625, grad=1.0111), Var(v=-0.1647, grad=0.0000), Var(v=0.1382, grad=0.9021), Var(v=-0.0650, grad=-0.9705), Var(v=0.0320, grad=0.0000), Var(v=0.0745, grad=-0.5081), Var(v=-0.0435, grad=0.0000), Var(v=-0.1015, grad=0.0000), Var(v=0.0069, grad=-0.3293), Var(v=-0.0196, grad=-1.1286), Var(v=0.1070, grad=0.0000), Var(v=-0.1015, grad=-0.9510), Var(v=0.0067, grad=-0.0985), Var(v=-0.0711, grad=-0.9686), Var(v=-0.0758, grad=0.1986), Var(v=-0.1291, grad=0.0000), Var(v=-0.1940, grad=0.0000), Var(v=-0.0295, grad=0.0000), Var(v=0.1097, grad=0.5012), Var(v=0.0406, grad=0.0000), Var(v=0.1246, grad=1.4123), Var(v=-0.1433, grad=0.0000), Var(v=0.1523, grad=-0.4506), Var(v=0.0169, grad=-1.6803), Var(v=0.0719, grad=0.0000), Var(v=0.0160, grad=0.0000), Var(v=-0.0350, grad=0.3535), Var(v=-0.0222, grad=0.0000), Var(v=-0.0669, grad=2.0954)], [Var(v=0.0026, grad=-0.3342), Var(v=-0.0099, grad=0.0000), Var(v=0.1256, grad=-0.1701), Var(v=-0.0711, grad=0.0000), Var(v=-0.1053, grad=-0.0919), Var(v=-0.0870, grad=0.2915), Var(v=-0.1159, grad=0.0000), Var(v=-0.0239, grad=-0.0358), Var(v=-0.1127, grad=0.0000), Var(v=-0.0438, grad=0.0000), Var(v=0.0280, grad=-0.0374), Var(v=0.0230, grad=0.0000), Var(v=-0.0229, grad=-0.9922), Var(v=-0.1105, grad=1.2065), Var(v=-0.1445, grad=0.0000), Var(v=-0.0627, grad=-0.0109), Var(v=0.0868, grad=0.3629), Var(v=0.0475, grad=0.0000), Var(v=-0.0726, grad=0.8656), Var(v=-0.1179, grad=0.0000), Var(v=-0.0053, grad=0.0000), Var(v=-0.2594, grad=0.6845), Var(v=-0.0597, grad=0.0000), Var(v=0.0550, grad=0.6107), Var(v=0.1241, grad=-0.6570), Var(v=-0.0095, grad=0.0000), Var(v=-0.0785, grad=-0.3440), Var(v=-0.0704, grad=0.0000), Var(v=0.0346, grad=0.0000), Var(v=0.1234, grad=-0.2229), Var(v=-0.0593, grad=-0.7640), Var(v=-0.0536, grad=0.0000), Var(v=-0.0548, grad=-0.6438), Var(v=0.1742, grad=-0.0666), Var(v=-0.0017, grad=-0.6557), Var(v=0.1483, grad=0.1345), Var(v=-0.1344, grad=0.0000), Var(v=0.1288, grad=0.0000), Var(v=0.1109, grad=0.0000), Var(v=0.0218, grad=0.3393), Var(v=-0.0282, grad=0.0000), Var(v=-0.1360, grad=0.9560), Var(v=0.0903, grad=0.0000), Var(v=-0.0045, grad=-0.3050), Var(v=0.0458, grad=-1.1375), Var(v=0.0903, grad=0.0000), Var(v=-0.1393, grad=0.0000), Var(v=0.0761, grad=0.2393), Var(v=-0.0818, grad=0.0000), Var(v=-0.0937, grad=1.4185)], [Var(v=-0.0006, grad=-0.0534), Var(v=0.1087, grad=0.0000), Var(v=-0.0586, grad=-0.0272), Var(v=-0.1860, grad=0.0000), Var(v=0.0887, grad=-0.0147), Var(v=-0.0719, grad=0.0465), Var(v=0.0865, grad=0.0000), Var(v=0.1964, grad=-0.0057), Var(v=-0.1147, grad=0.0000), Var(v=-0.0519, grad=0.0000), Var(v=0.0542, grad=-0.0060), Var(v=0.1106, grad=0.0000), Var(v=0.0049, grad=-0.1584), Var(v=0.1804, grad=0.1927), Var(v=-0.0485, grad=0.0000), Var(v=0.1754, grad=-0.0017), Var(v=0.0985, grad=0.0580), Var(v=-0.1633, grad=0.0000), Var(v=-0.0340, grad=0.1382), Var(v=-0.0383, grad=0.0000), Var(v=0.1978, grad=0.0000), Var(v=-0.0173, grad=0.1093), Var(v=-0.1575, grad=0.0000), Var(v=-0.0058, grad=0.0975), Var(v=0.0837, grad=-0.1049), Var(v=0.0044, grad=0.0000), Var(v=0.0816, grad=-0.0549), Var(v=0.1585, grad=0.0000), Var(v=-0.1857, grad=0.0000), Var(v=-0.0776, grad=-0.0356), Var(v=-0.0858, grad=-0.1220), Var(v=-0.1392, grad=0.0000), Var(v=-0.0952, grad=-0.1028), Var(v=0.1062, grad=-0.0106), Var(v=0.0700, grad=-0.1047), Var(v=0.0650, grad=0.0215), Var(v=0.0774, grad=0.0000), Var(v=-0.0406, grad=0.0000), Var(v=-0.0391, grad=0.0000), Var(v=-0.0209, grad=0.0542), Var(v=-0.0555, grad=0.0000), Var(v=0.1138, grad=0.1527), Var(v=0.0024, grad=0.0000), Var(v=-0.0735, grad=-0.0487), Var(v=-0.0250, grad=-0.1816), Var(v=-0.0567, grad=0.0000), Var(v=0.0798, grad=0.0000), Var(v=0.0371, grad=0.0382), Var(v=0.0065, grad=0.0000), Var(v=0.1438, grad=0.2265)], [Var(v=0.1366, grad=-0.5457), Var(v=-0.1284, grad=0.0000), Var(v=0.0613, grad=-0.2778), Var(v=-0.0592, grad=0.0000), Var(v=0.0189, grad=-0.1500), Var(v=-0.0735, grad=0.4760), Var(v=-0.1419, grad=0.0000), Var(v=0.0355, grad=-0.0585), Var(v=-0.0481, grad=0.0000), Var(v=-0.0232, grad=0.0000), Var(v=0.1113, grad=-0.0610), Var(v=0.0365, grad=0.0000), Var(v=-0.0675, grad=-1.6203), Var(v=0.1160, grad=1.9704), Var(v=0.0818, grad=0.0000), Var(v=0.0682, grad=-0.0178), Var(v=-0.0481, grad=0.5927), Var(v=-0.0763, grad=0.0000), Var(v=-0.0454, grad=1.4136), Var(v=0.0698, grad=0.0000), Var(v=-0.0329, grad=0.0000), Var(v=-0.0396, grad=1.1178), Var(v=-0.0807, grad=0.0000), Var(v=0.0210, grad=0.9973), Var(v=-0.0295, grad=-1.0729), Var(v=-0.0858, grad=0.0000), Var(v=0.1055, grad=-0.5618), Var(v=0.0561, grad=0.0000), Var(v=0.0476, grad=0.0000), Var(v=0.0851, grad=-0.3641), Var(v=0.1503, grad=-1.2477), Var(v=-0.0574, grad=0.0000), Var(v=-0.1165, grad=-1.0514), Var(v=0.0595, grad=-0.1088), Var(v=0.1193, grad=-1.0708), Var(v=0.1142, grad=0.2196), Var(v=0.1305, grad=0.0000), Var(v=-0.0498, grad=0.0000), Var(v=-0.1543, grad=0.0000), Var(v=-0.0185, grad=0.5541), Var(v=-0.0023, grad=0.0000), Var(v=0.0180, grad=1.5613), Var(v=-0.1333, grad=0.0000), Var(v=0.1766, grad=-0.4981), Var(v=0.0372, grad=-1.8576), Var(v=0.1140, grad=0.0000), Var(v=-0.0411, grad=0.0000), Var(v=0.0594, grad=0.3907), Var(v=-0.1377, grad=0.0000), Var(v=0.0967, grad=2.3166)], [Var(v=0.1099, grad=-0.0410), Var(v=0.0152, grad=0.0000), Var(v=-0.0522, grad=-0.0209), Var(v=-0.2566, grad=0.0000), Var(v=-0.0998, grad=-0.0113), Var(v=-0.1578, grad=0.0357), Var(v=0.1156, grad=0.0000), Var(v=-0.0523, grad=-0.0044), Var(v=-0.0613, grad=0.0000), Var(v=-0.0194, grad=0.0000), Var(v=0.1755, grad=-0.0046), Var(v=0.1224, grad=0.0000), Var(v=-0.0843, grad=-0.1217), Var(v=0.1878, grad=0.1479), Var(v=-0.0966, grad=0.0000), Var(v=-0.0946, grad=-0.0013), Var(v=-0.0225, grad=0.0445), Var(v=-0.0591, grad=0.0000), Var(v=-0.0019, grad=0.1061), Var(v=0.0069, grad=0.0000), Var(v=-0.1216, grad=0.0000), Var(v=0.0440, grad=0.0839), Var(v=-0.0975, grad=0.0000), Var(v=0.0199, grad=0.0749), Var(v=0.0160, grad=-0.0806), Var(v=-0.0957, grad=0.0000), Var(v=-0.0429, grad=-0.0422), Var(v=0.1161, grad=0.0000), Var(v=0.0321, grad=0.0000), Var(v=-0.0535, grad=-0.0273), Var(v=0.0005, grad=-0.0937), Var(v=0.1873, grad=0.0000), Var(v=0.1115, grad=-0.0789), Var(v=0.0106, grad=-0.0082), Var(v=0.0537, grad=-0.0804), Var(v=-0.0876, grad=0.0165), Var(v=-0.0515, grad=0.0000), Var(v=-0.0281, grad=0.0000), Var(v=0.1326, grad=0.0000), Var(v=-0.0202, grad=0.0416), Var(v=0.0136, grad=0.0000), Var(v=-0.1901, grad=0.1172), Var(v=0.0457, grad=0.0000), Var(v=0.0851, grad=-0.0374), Var(v=-0.1144, grad=-0.1395), Var(v=-0.1272, grad=0.0000), Var(v=-0.1343, grad=0.0000), Var(v=0.0103, grad=0.0293), Var(v=0.0501, grad=0.0000), Var(v=-0.0585, grad=0.1739)]] \n",
            " Biases: [Var(v=0.0522, grad=-5.2190), Var(v=-0.1134, grad=11.3395), Var(v=-0.0010, grad=0.1028), Var(v=0.0995, grad=-9.9526), Var(v=0.0143, grad=-1.4349), Var(v=-0.0455, grad=4.5525), Var(v=0.0761, grad=-7.6077), Var(v=-0.0002, grad=0.0216), Var(v=0.0000, grad=0.0000), Var(v=0.0000, grad=0.0000), Var(v=-0.0002, grad=0.0226), Var(v=0.0000, grad=0.0000), Var(v=-0.0060, grad=0.5996), Var(v=0.0073, grad=-0.7291), Var(v=0.0000, grad=0.0000), Var(v=-0.0001, grad=0.0066), Var(v=0.0022, grad=-0.2193), Var(v=0.0000, grad=0.0000), Var(v=0.0052, grad=-0.5231), Var(v=0.0000, grad=0.0000), Var(v=0.0834, grad=-8.3375), Var(v=0.0041, grad=-0.4136), Var(v=-0.2737, grad=27.3699), Var(v=0.0037, grad=-0.3690), Var(v=0.1026, grad=-10.2607), Var(v=-0.1078, grad=10.7815), Var(v=0.0537, grad=-5.3724), Var(v=0.0000, grad=0.0000), Var(v=0.0000, grad=0.0000), Var(v=-0.0013, grad=0.1347), Var(v=-0.0046, grad=0.4617), Var(v=-0.0688, grad=6.8789), Var(v=-0.0039, grad=0.3891), Var(v=0.0104, grad=-1.0409), Var(v=-0.0040, grad=0.3962), Var(v=0.0008, grad=-0.0813), Var(v=-0.0668, grad=6.6788), Var(v=0.0000, grad=0.0000), Var(v=0.0000, grad=0.0000), Var(v=0.0021, grad=-0.2050), Var(v=-0.1860, grad=18.5997), Var(v=-0.1493, grad=14.9314), Var(v=-0.0449, grad=4.4873), Var(v=-0.0018, grad=0.1843), Var(v=-0.0069, grad=0.6874), Var(v=0.0000, grad=0.0000), Var(v=0.0000, grad=0.0000), Var(v=0.0014, grad=-0.1446), Var(v=-0.1012, grad=10.1153), Var(v=0.0086, grad=-0.8572)]\n",
            "Layer 2 \n",
            " Weights: [[Var(v=-0.0704, grad=0.9824)], [Var(v=-0.1171, grad=-0.9563)], [Var(v=-0.0298, grad=-0.1043)], [Var(v=0.1142, grad=-0.2987)], [Var(v=-0.0311, grad=1.4411)], [Var(v=0.0520, grad=0.0786)], [Var(v=0.1045, grad=-1.9561)], [Var(v=-0.0463, grad=3.9814)], [Var(v=0.0869, grad=0.0000)], [Var(v=-0.0647, grad=0.0000)], [Var(v=0.0410, grad=-4.7798)], [Var(v=0.0587, grad=0.0000)], [Var(v=-0.1747, grad=-0.5080)], [Var(v=0.2084, grad=1.0223)], [Var(v=0.1139, grad=0.0000)], [Var(v=-0.0235, grad=2.1529)], [Var(v=0.0830, grad=-1.7188)], [Var(v=-0.0026, grad=0.0000)], [Var(v=0.1713, grad=-1.4398)], [Var(v=-0.0760, grad=0.0000)], [Var(v=0.1199, grad=-2.6811)], [Var(v=0.1153, grad=0.8723)], [Var(v=-0.2740, grad=-3.1755)], [Var(v=0.0722, grad=3.8416)], [Var(v=-0.1359, grad=1.6831)], [Var(v=-0.0687, grad=-5.1753)], [Var(v=-0.0728, grad=1.0513)], [Var(v=-0.0480, grad=0.0000)], [Var(v=0.1620, grad=0.0000)], [Var(v=-0.0332, grad=-0.7229)], [Var(v=-0.1627, grad=2.4230)], [Var(v=-0.0513, grad=-2.5556)], [Var(v=-0.1053, grad=-1.1326)], [Var(v=-0.0365, grad=2.4416)], [Var(v=-0.1008, grad=-1.7981)], [Var(v=0.0122, grad=1.2196)], [Var(v=-0.0144, grad=-6.0156)], [Var(v=-0.0341, grad=0.0000)], [Var(v=0.0931, grad=0.0000)], [Var(v=0.1402, grad=-7.8700)], [Var(v=-0.1609, grad=-4.6824)], [Var(v=0.1653, grad=0.7922)], [Var(v=-0.0136, grad=-3.6515)], [Var(v=-0.1050, grad=4.9760)], [Var(v=-0.1442, grad=-6.1946)], [Var(v=-0.1071, grad=0.0000)], [Var(v=0.0241, grad=0.0000)], [Var(v=0.0451, grad=-0.1789)], [Var(v=-0.1126, grad=-0.0394)], [Var(v=0.2703, grad=-1.3241)]] \n",
            " Biases: [Var(v=0.0333, grad=-3.3349)]\n",
            "\n",
            "Network after update:\n",
            "Layer 0 \n",
            " Weights: [[Var(v=-0.1608, grad=14.9170), Var(v=-0.2101, grad=4.8526), Var(v=-0.0725, grad=-0.3017), Var(v=0.1633, grad=-0.1483), Var(v=0.3055, grad=-8.0948), Var(v=-0.0499, grad=5.9977), Var(v=0.0254, grad=-2.6833), Var(v=0.0347, grad=8.3902), Var(v=0.0128, grad=5.4926), Var(v=-0.2427, grad=12.2619), Var(v=0.0404, grad=-6.1071), Var(v=-0.2339, grad=8.9261), Var(v=0.1984, grad=-10.3602), Var(v=-0.0352, grad=-2.7581), Var(v=0.0002, grad=-0.3478)]] \n",
            " Biases: [Var(v=-0.2608, grad=13.0422), Var(v=0.0839, grad=-4.1953), Var(v=-0.0052, grad=0.2608), Var(v=0.0026, grad=-0.1297), Var(v=0.1415, grad=-7.0775), Var(v=-0.1049, grad=5.2439), Var(v=-0.0464, grad=2.3198), Var(v=-0.1467, grad=7.3357), Var(v=-0.0960, grad=4.8022), Var(v=-0.2144, grad=10.7208), Var(v=-0.1056, grad=5.2799), Var(v=0.1543, grad=-7.7170), Var(v=-0.1791, grad=8.9568), Var(v=-0.0477, grad=2.3845), Var(v=-0.0060, grad=0.3007)]\n",
            "Layer 1 \n",
            " Weights: [[Var(v=0.0933, grad=0.0000), Var(v=0.0055, grad=1.7837), Var(v=0.1324, grad=0.4340), Var(v=0.0738, grad=-1.5656), Var(v=-0.0576, grad=0.0000), Var(v=0.0023, grad=0.0000), Var(v=0.0112, grad=-1.1967), Var(v=-0.2048, grad=0.0914), Var(v=-0.0148, grad=0.0000), Var(v=0.0277, grad=0.0000), Var(v=0.0618, grad=0.0954), Var(v=-0.1534, grad=0.0000), Var(v=-0.0014, grad=2.5318), Var(v=-0.0006, grad=-3.0787), Var(v=0.1572, grad=0.0000), Var(v=-0.0632, grad=0.0279), Var(v=0.1160, grad=-0.9261), Var(v=-0.1547, grad=0.0000), Var(v=-0.0152, grad=-2.2089), Var(v=-0.1208, grad=0.0000), Var(v=0.0248, grad=-1.3115), Var(v=-0.0071, grad=-1.7466), Var(v=-0.0310, grad=4.3053), Var(v=-0.1279, grad=-1.5583), Var(v=-0.0628, grad=0.0000), Var(v=-0.0715, grad=1.6959), Var(v=-0.1233, grad=0.0000), Var(v=-0.1300, grad=0.0000), Var(v=-0.1017, grad=0.0000), Var(v=0.1645, grad=0.5689), Var(v=-0.1209, grad=1.9495), Var(v=0.0624, grad=1.0821), Var(v=0.0579, grad=1.6429), Var(v=-0.1318, grad=0.0000), Var(v=0.0069, grad=1.6731), Var(v=0.0495, grad=-0.3431), Var(v=0.1624, grad=1.0506), Var(v=-0.2118, grad=0.0000), Var(v=-0.0447, grad=0.0000), Var(v=0.1396, grad=-0.8658), Var(v=0.0174, grad=2.9257), Var(v=-0.1287, grad=0.0000), Var(v=-0.0022, grad=0.7059), Var(v=0.1455, grad=0.7783), Var(v=0.1615, grad=2.9026), Var(v=0.0325, grad=0.0000), Var(v=0.0216, grad=0.0000), Var(v=-0.0185, grad=-0.6106), Var(v=-0.0236, grad=1.5911), Var(v=0.1321, grad=-3.6197)], [Var(v=-0.0106, grad=-0.6824), Var(v=-0.1858, grad=0.0000), Var(v=0.1139, grad=-0.3474), Var(v=0.1018, grad=0.0000), Var(v=0.0118, grad=-0.1876), Var(v=-0.0316, grad=0.5953), Var(v=0.0408, grad=0.0000), Var(v=0.1165, grad=-0.0732), Var(v=-0.0331, grad=0.0000), Var(v=-0.0651, grad=0.0000), Var(v=-0.1554, grad=-0.0763), Var(v=0.0303, grad=0.0000), Var(v=0.2289, grad=-2.0262), Var(v=0.0506, grad=2.4640), Var(v=0.0220, grad=0.0000), Var(v=0.0279, grad=-0.0223), Var(v=-0.0122, grad=0.7412), Var(v=-0.0911, grad=0.0000), Var(v=-0.0200, grad=1.7678), Var(v=0.0157, grad=0.0000), Var(v=-0.1611, grad=0.0000), Var(v=0.1599, grad=1.3978), Var(v=-0.0556, grad=0.0000), Var(v=0.1900, grad=1.2471), Var(v=0.1511, grad=-1.3417), Var(v=-0.1634, grad=0.0000), Var(v=-0.0584, grad=-0.7025), Var(v=-0.1185, grad=0.0000), Var(v=0.0748, grad=0.0000), Var(v=0.0342, grad=-0.4553), Var(v=0.2710, grad=-1.5602), Var(v=-0.1939, grad=0.0000), Var(v=0.1577, grad=-1.3148), Var(v=0.0172, grad=-0.1361), Var(v=0.0249, grad=-1.3390), Var(v=-0.0641, grad=0.2746), Var(v=-0.1979, grad=0.0000), Var(v=0.1394, grad=0.0000), Var(v=0.0024, grad=0.0000), Var(v=0.1302, grad=0.6929), Var(v=-0.1322, grad=0.0000), Var(v=-0.0987, grad=1.9524), Var(v=-0.0827, grad=0.0000), Var(v=0.2101, grad=-0.6229), Var(v=-0.0009, grad=-2.3230), Var(v=-0.0717, grad=0.0000), Var(v=0.0457, grad=0.0000), Var(v=0.1909, grad=0.4886), Var(v=-0.1527, grad=0.0000), Var(v=-0.1685, grad=2.8969)], [Var(v=-0.0193, grad=-0.4743), Var(v=-0.0920, grad=0.0000), Var(v=0.0568, grad=-0.2414), Var(v=-0.0286, grad=0.0000), Var(v=0.2175, grad=-0.1304), Var(v=0.0062, grad=0.4137), Var(v=-0.0439, grad=0.0000), Var(v=0.1587, grad=-0.0508), Var(v=-0.0209, grad=0.0000), Var(v=0.0094, grad=0.0000), Var(v=0.0638, grad=-0.0530), Var(v=-0.1425, grad=0.0000), Var(v=0.1280, grad=-1.4081), Var(v=-0.0011, grad=1.7123), Var(v=0.0409, grad=0.0000), Var(v=0.1366, grad=-0.0155), Var(v=-0.0296, grad=0.5151), Var(v=-0.0999, grad=0.0000), Var(v=0.0194, grad=1.2285), Var(v=-0.0900, grad=0.0000), Var(v=-0.1087, grad=0.0000), Var(v=0.1851, grad=0.9714), Var(v=-0.1291, grad=0.0000), Var(v=-0.0153, grad=0.8667), Var(v=0.1149, grad=-0.9324), Var(v=0.0081, grad=0.0000), Var(v=0.0588, grad=-0.4882), Var(v=0.0729, grad=0.0000), Var(v=-0.0586, grad=0.0000), Var(v=0.0367, grad=-0.3164), Var(v=0.0623, grad=-1.0843), Var(v=0.1803, grad=0.0000), Var(v=0.2793, grad=-0.9137), Var(v=0.0969, grad=-0.0946), Var(v=0.0093, grad=-0.9305), Var(v=0.0659, grad=0.1908), Var(v=-0.1624, grad=0.0000), Var(v=-0.1031, grad=0.0000), Var(v=-0.0747, grad=0.0000), Var(v=0.0089, grad=0.4816), Var(v=0.0808, grad=0.0000), Var(v=0.0230, grad=1.3568), Var(v=0.0972, grad=0.0000), Var(v=0.0564, grad=-0.4329), Var(v=0.0877, grad=-1.6143), Var(v=-0.1914, grad=0.0000), Var(v=-0.1940, grad=0.0000), Var(v=-0.0598, grad=0.3396), Var(v=0.0151, grad=0.0000), Var(v=0.1292, grad=2.0132)], [Var(v=0.0970, grad=0.0000), Var(v=-0.0017, grad=2.0800), Var(v=0.0083, grad=0.5061), Var(v=0.0331, grad=-1.8256), Var(v=0.1018, grad=0.0000), Var(v=-0.0153, grad=0.0000), Var(v=0.1607, grad=-1.3955), Var(v=-0.0288, grad=0.1066), Var(v=-0.0591, grad=0.0000), Var(v=0.0400, grad=0.0000), Var(v=0.0784, grad=0.1112), Var(v=-0.0646, grad=0.0000), Var(v=0.1123, grad=2.9523), Var(v=0.0512, grad=-3.5901), Var(v=0.0023, grad=0.0000), Var(v=0.0150, grad=0.0325), Var(v=0.1098, grad=-1.0799), Var(v=0.2194, grad=0.0000), Var(v=0.1228, grad=-2.5757), Var(v=-0.0762, grad=0.0000), Var(v=0.1015, grad=-1.5293), Var(v=0.0451, grad=-2.0367), Var(v=-0.1086, grad=5.0203), Var(v=0.1213, grad=-1.8171), Var(v=0.0458, grad=0.0000), Var(v=-0.0266, grad=1.9776), Var(v=-0.0629, grad=0.0000), Var(v=-0.1045, grad=0.0000), Var(v=-0.0507, grad=0.0000), Var(v=-0.0718, grad=0.6633), Var(v=0.0262, grad=2.2733), Var(v=-0.1062, grad=1.2618), Var(v=-0.1355, grad=1.9157), Var(v=-0.0373, grad=0.0000), Var(v=-0.0146, grad=1.9510), Var(v=-0.1631, grad=-0.4001), Var(v=0.0105, grad=1.2251), Var(v=0.0084, grad=0.0000), Var(v=-0.1762, grad=0.0000), Var(v=0.1703, grad=-1.0096), Var(v=0.0789, grad=3.4117), Var(v=0.0003, grad=0.0000), Var(v=0.0086, grad=0.8231), Var(v=-0.1191, grad=0.9076), Var(v=-0.0593, grad=3.3846), Var(v=-0.0817, grad=0.0000), Var(v=0.0238, grad=0.0000), Var(v=0.0546, grad=-0.7120), Var(v=-0.1353, grad=1.8554), Var(v=0.0960, grad=-4.2209)], [Var(v=0.0446, grad=0.0000), Var(v=-0.1355, grad=1.8627), Var(v=-0.1532, grad=0.4533), Var(v=0.0771, grad=-1.6349), Var(v=-0.2294, grad=0.0000), Var(v=0.0243, grad=0.0000), Var(v=0.0481, grad=-1.2497), Var(v=0.0222, grad=0.0955), Var(v=0.0255, grad=0.0000), Var(v=-0.0845, grad=0.0000), Var(v=0.0271, grad=0.0996), Var(v=0.1027, grad=0.0000), Var(v=-0.1245, grad=2.6439), Var(v=0.1864, grad=-3.2151), Var(v=-0.2099, grad=0.0000), Var(v=0.0034, grad=0.0291), Var(v=0.0138, grad=-0.9671), Var(v=-0.0964, grad=0.0000), Var(v=0.1524, grad=-2.3067), Var(v=-0.0794, grad=0.0000), Var(v=0.0184, grad=-1.3696), Var(v=0.0854, grad=-1.8239), Var(v=-0.0172, grad=4.4960), Var(v=0.0668, grad=-1.6273), Var(v=0.0085, grad=0.0000), Var(v=0.0792, grad=1.7711), Var(v=-0.0227, grad=0.0000), Var(v=-0.0773, grad=0.0000), Var(v=-0.1614, grad=0.0000), Var(v=-0.0649, grad=0.5941), Var(v=-0.0515, grad=2.0359), Var(v=0.1528, grad=1.1300), Var(v=0.1413, grad=1.7156), Var(v=-0.0428, grad=0.0000), Var(v=0.1260, grad=1.7472), Var(v=0.0306, grad=-0.3583), Var(v=-0.0393, grad=1.0971), Var(v=0.1161, grad=0.0000), Var(v=-0.1634, grad=0.0000), Var(v=0.2484, grad=-0.9042), Var(v=-0.1675, grad=3.0553), Var(v=0.0265, grad=0.0000), Var(v=0.0503, grad=0.7371), Var(v=-0.1441, grad=0.8128), Var(v=0.0029, grad=3.0311), Var(v=-0.0854, grad=0.0000), Var(v=-0.0346, grad=0.0000), Var(v=0.1230, grad=-0.6376), Var(v=0.0467, grad=1.6616), Var(v=0.2763, grad=-3.7800)], [Var(v=0.0441, grad=0.0000), Var(v=0.0306, grad=0.9091), Var(v=-0.1162, grad=0.2212), Var(v=-0.0193, grad=-0.7979), Var(v=-0.1250, grad=0.0000), Var(v=-0.0893, grad=0.0000), Var(v=-0.1100, grad=-0.6099), Var(v=0.0083, grad=0.0466), Var(v=0.0182, grad=0.0000), Var(v=-0.0786, grad=0.0000), Var(v=-0.0810, grad=0.0486), Var(v=-0.0638, grad=0.0000), Var(v=-0.0509, grad=1.2904), Var(v=0.1526, grad=-1.5692), Var(v=0.0950, grad=0.0000), Var(v=0.0447, grad=0.0142), Var(v=0.1293, grad=-0.4720), Var(v=-0.0039, grad=0.0000), Var(v=0.0632, grad=-1.1258), Var(v=-0.0031, grad=0.0000), Var(v=0.0503, grad=-0.6685), Var(v=-0.0838, grad=-0.8902), Var(v=0.0014, grad=2.1944), Var(v=-0.0967, grad=-0.7943), Var(v=0.1299, grad=0.0000), Var(v=-0.1128, grad=0.8644), Var(v=-0.0355, grad=0.0000), Var(v=0.0897, grad=0.0000), Var(v=0.0550, grad=0.0000), Var(v=-0.0628, grad=0.2899), Var(v=0.1177, grad=0.9937), Var(v=-0.0463, grad=0.5515), Var(v=-0.1742, grad=0.8374), Var(v=0.1354, grad=0.0000), Var(v=0.1488, grad=0.8528), Var(v=0.0423, grad=-0.1749), Var(v=0.1168, grad=0.5355), Var(v=0.1479, grad=0.0000), Var(v=-0.0102, grad=0.0000), Var(v=0.0279, grad=-0.4413), Var(v=0.2407, grad=1.4912), Var(v=0.0992, grad=0.0000), Var(v=0.0037, grad=0.3598), Var(v=0.0673, grad=0.3967), Var(v=-0.1136, grad=1.4794), Var(v=-0.0623, grad=0.0000), Var(v=-0.0266, grad=0.0000), Var(v=-0.0625, grad=-0.3112), Var(v=-0.1790, grad=0.8110), Var(v=-0.0109, grad=-1.8449)], [Var(v=0.0192, grad=-0.1705), Var(v=0.0067, grad=0.0000), Var(v=-0.0598, grad=-0.0868), Var(v=0.1118, grad=0.0000), Var(v=-0.1223, grad=-0.0469), Var(v=0.1789, grad=0.1487), Var(v=-0.0286, grad=0.0000), Var(v=0.0455, grad=-0.0183), Var(v=-0.0845, grad=0.0000), Var(v=0.0397, grad=0.0000), Var(v=0.1275, grad=-0.0191), Var(v=-0.1652, grad=0.0000), Var(v=-0.0616, grad=-0.5061), Var(v=-0.1577, grad=0.6154), Var(v=-0.0259, grad=0.0000), Var(v=-0.0166, grad=-0.0056), Var(v=-0.0834, grad=0.1851), Var(v=0.1271, grad=0.0000), Var(v=-0.0189, grad=0.4415), Var(v=0.0348, grad=0.0000), Var(v=0.1485, grad=0.0000), Var(v=0.1499, grad=0.3491), Var(v=0.0551, grad=0.0000), Var(v=0.0776, grad=0.3115), Var(v=-0.0753, grad=-0.3351), Var(v=0.0659, grad=0.0000), Var(v=0.1555, grad=-0.1755), Var(v=-0.0228, grad=0.0000), Var(v=-0.1534, grad=0.0000), Var(v=0.0703, grad=-0.1137), Var(v=-0.0727, grad=-0.3897), Var(v=-0.0599, grad=0.0000), Var(v=0.0451, grad=-0.3284), Var(v=-0.0338, grad=-0.0340), Var(v=0.0030, grad=-0.3344), Var(v=0.0674, grad=0.0686), Var(v=-0.0518, grad=0.0000), Var(v=0.0195, grad=0.0000), Var(v=0.0810, grad=0.0000), Var(v=0.0513, grad=0.1731), Var(v=0.0370, grad=0.0000), Var(v=0.1185, grad=0.4877), Var(v=-0.0510, grad=0.0000), Var(v=0.0244, grad=-0.1556), Var(v=0.0763, grad=-0.5802), Var(v=-0.1798, grad=0.0000), Var(v=-0.0314, grad=0.0000), Var(v=-0.0148, grad=0.1220), Var(v=0.1387, grad=0.0000), Var(v=-0.0334, grad=0.7236)], [Var(v=-0.1215, grad=0.0000), Var(v=-0.0444, grad=2.6259), Var(v=0.1727, grad=0.6390), Var(v=0.0501, grad=-2.3047), Var(v=0.0589, grad=0.0000), Var(v=0.0213, grad=0.0000), Var(v=0.0425, grad=-1.7617), Var(v=0.0603, grad=0.1346), Var(v=-0.0696, grad=0.0000), Var(v=-0.1425, grad=0.0000), Var(v=0.0972, grad=0.1404), Var(v=-0.0399, grad=0.0000), Var(v=-0.1482, grad=3.7272), Var(v=0.0655, grad=-4.5324), Var(v=-0.0919, grad=0.0000), Var(v=0.0672, grad=0.0410), Var(v=-0.0525, grad=-1.3634), Var(v=-0.0748, grad=0.0000), Var(v=0.0836, grad=-3.2518), Var(v=-0.1271, grad=0.0000), Var(v=0.1357, grad=-1.9307), Var(v=0.1214, grad=-2.5712), Var(v=-0.1420, grad=6.3380), Var(v=0.1176, grad=-2.2941), Var(v=-0.0971, grad=0.0000), Var(v=0.0831, grad=2.4967), Var(v=-0.1999, grad=0.0000), Var(v=0.0209, grad=0.0000), Var(v=-0.0538, grad=0.0000), Var(v=0.0335, grad=0.8374), Var(v=-0.0851, grad=2.8700), Var(v=0.0348, grad=1.5929), Var(v=0.1195, grad=2.4185), Var(v=-0.1111, grad=0.0000), Var(v=-0.1563, grad=2.4631), Var(v=0.2076, grad=-0.5051), Var(v=0.0561, grad=1.5466), Var(v=-0.0651, grad=0.0000), Var(v=-0.0268, grad=0.0000), Var(v=0.0963, grad=-1.2746), Var(v=-0.0332, grad=4.3071), Var(v=-0.0839, grad=0.0000), Var(v=0.0338, grad=1.0391), Var(v=0.0510, grad=1.1458), Var(v=0.0092, grad=4.2730), Var(v=-0.0874, grad=0.0000), Var(v=-0.0611, grad=0.0000), Var(v=0.0401, grad=-0.8988), Var(v=0.0078, grad=2.3424), Var(v=-0.0673, grad=-5.3287)], [Var(v=-0.1371, grad=0.0000), Var(v=0.0217, grad=1.5905), Var(v=0.0144, grad=0.3870), Var(v=-0.0286, grad=-1.3959), Var(v=-0.1658, grad=0.0000), Var(v=-0.1218, grad=0.0000), Var(v=0.0473, grad=-1.0670), Var(v=0.1896, grad=0.0815), Var(v=-0.0009, grad=0.0000), Var(v=-0.0377, grad=0.0000), Var(v=0.2200, grad=0.0850), Var(v=0.0891, grad=0.0000), Var(v=0.1129, grad=2.2575), Var(v=0.0646, grad=-2.7452), Var(v=0.0254, grad=0.0000), Var(v=-0.0537, grad=0.0248), Var(v=0.0523, grad=-0.8258), Var(v=0.0163, grad=0.0000), Var(v=0.0026, grad=-1.9695), Var(v=-0.0833, grad=0.0000), Var(v=-0.0257, grad=-1.1694), Var(v=0.0557, grad=-1.5573), Var(v=0.0360, grad=3.8388), Var(v=0.0529, grad=-1.3895), Var(v=-0.1195, grad=0.0000), Var(v=0.1063, grad=1.5122), Var(v=-0.0980, grad=0.0000), Var(v=-0.0748, grad=0.0000), Var(v=-0.0965, grad=0.0000), Var(v=0.0994, grad=0.5072), Var(v=0.0125, grad=1.7383), Var(v=-0.1026, grad=0.9648), Var(v=-0.2093, grad=1.4649), Var(v=-0.1664, grad=0.0000), Var(v=-0.0475, grad=1.4918), Var(v=-0.1820, grad=-0.3059), Var(v=0.0110, grad=0.9368), Var(v=-0.2232, grad=0.0000), Var(v=0.0783, grad=0.0000), Var(v=0.1364, grad=-0.7720), Var(v=-0.0750, grad=2.6088), Var(v=-0.1597, grad=0.0000), Var(v=0.0598, grad=0.6294), Var(v=-0.0488, grad=0.6940), Var(v=0.0295, grad=2.5881), Var(v=-0.0131, grad=0.0000), Var(v=-0.0387, grad=0.0000), Var(v=0.0875, grad=-0.5444), Var(v=0.0072, grad=1.4188), Var(v=0.2013, grad=-3.2275)], [Var(v=0.0100, grad=0.0000), Var(v=-0.0914, grad=0.0323), Var(v=-0.0753, grad=0.0079), Var(v=-0.0668, grad=-0.0284), Var(v=-0.1089, grad=0.0000), Var(v=-0.0305, grad=0.0000), Var(v=0.0648, grad=-0.0217), Var(v=-0.1931, grad=0.0017), Var(v=0.0680, grad=0.0000), Var(v=0.0387, grad=0.0000), Var(v=0.0156, grad=0.0017), Var(v=-0.0875, grad=0.0000), Var(v=0.0319, grad=0.0459), Var(v=0.0090, grad=-0.0558), Var(v=-0.0478, grad=0.0000), Var(v=-0.0549, grad=0.0005), Var(v=0.0405, grad=-0.0168), Var(v=-0.0383, grad=0.0000), Var(v=-0.1041, grad=-0.0400), Var(v=0.0067, grad=0.0000), Var(v=0.0327, grad=-0.0238), Var(v=-0.0000, grad=-0.0316), Var(v=0.1568, grad=0.0780), Var(v=0.0252, grad=-0.0282), Var(v=-0.0279, grad=0.0000), Var(v=0.0771, grad=0.0307), Var(v=-0.0094, grad=0.0000), Var(v=0.1144, grad=0.0000), Var(v=0.1870, grad=0.0000), Var(v=0.0747, grad=0.0103), Var(v=0.1675, grad=0.0353), Var(v=0.1530, grad=0.0196), Var(v=0.0590, grad=0.0298), Var(v=0.1527, grad=0.0000), Var(v=-0.0814, grad=0.0303), Var(v=-0.0601, grad=-0.0062), Var(v=0.0798, grad=0.0190), Var(v=0.0166, grad=0.0000), Var(v=0.0132, grad=0.0000), Var(v=0.0825, grad=-0.0157), Var(v=0.0431, grad=0.0530), Var(v=0.0650, grad=0.0000), Var(v=-0.0159, grad=0.0128), Var(v=0.0913, grad=0.0141), Var(v=-0.0435, grad=0.0526), Var(v=-0.1471, grad=0.0000), Var(v=-0.1427, grad=0.0000), Var(v=-0.0012, grad=-0.0111), Var(v=-0.1998, grad=0.0288), Var(v=-0.1643, grad=-0.0656)], [Var(v=0.0328, grad=-0.4936), Var(v=0.0962, grad=0.0000), Var(v=0.1039, grad=-0.2513), Var(v=0.0004, grad=0.0000), Var(v=0.0558, grad=-0.1357), Var(v=0.1053, grad=0.4306), Var(v=0.0962, grad=0.0000), Var(v=0.2202, grad=-0.0529), Var(v=0.2039, grad=0.0000), Var(v=-0.1964, grad=0.0000), Var(v=0.2168, grad=-0.0552), Var(v=-0.1827, grad=0.0000), Var(v=0.0928, grad=-1.4657), Var(v=-0.0192, grad=1.7823), Var(v=-0.1071, grad=0.0000), Var(v=0.1171, grad=-0.0161), Var(v=0.0926, grad=0.5361), Var(v=-0.0928, grad=0.0000), Var(v=0.0752, grad=1.2787), Var(v=0.0120, grad=0.0000), Var(v=0.0370, grad=0.0000), Var(v=-0.0726, grad=1.0111), Var(v=-0.1647, grad=0.0000), Var(v=0.1292, grad=0.9021), Var(v=-0.0552, grad=-0.9705), Var(v=0.0320, grad=0.0000), Var(v=0.0796, grad=-0.5081), Var(v=-0.0435, grad=0.0000), Var(v=-0.1015, grad=0.0000), Var(v=0.0102, grad=-0.3293), Var(v=-0.0084, grad=-1.1286), Var(v=0.1070, grad=0.0000), Var(v=-0.0920, grad=-0.9510), Var(v=0.0077, grad=-0.0985), Var(v=-0.0614, grad=-0.9686), Var(v=-0.0778, grad=0.1986), Var(v=-0.1291, grad=0.0000), Var(v=-0.1940, grad=0.0000), Var(v=-0.0295, grad=0.0000), Var(v=0.1046, grad=0.5012), Var(v=0.0406, grad=0.0000), Var(v=0.1105, grad=1.4123), Var(v=-0.1433, grad=0.0000), Var(v=0.1568, grad=-0.4506), Var(v=0.0337, grad=-1.6803), Var(v=0.0719, grad=0.0000), Var(v=0.0160, grad=0.0000), Var(v=-0.0386, grad=0.3535), Var(v=-0.0222, grad=0.0000), Var(v=-0.0879, grad=2.0954)], [Var(v=0.0059, grad=-0.3342), Var(v=-0.0099, grad=0.0000), Var(v=0.1273, grad=-0.1701), Var(v=-0.0711, grad=0.0000), Var(v=-0.1044, grad=-0.0919), Var(v=-0.0899, grad=0.2915), Var(v=-0.1159, grad=0.0000), Var(v=-0.0235, grad=-0.0358), Var(v=-0.1127, grad=0.0000), Var(v=-0.0438, grad=0.0000), Var(v=0.0283, grad=-0.0374), Var(v=0.0230, grad=0.0000), Var(v=-0.0130, grad=-0.9922), Var(v=-0.1226, grad=1.2065), Var(v=-0.1445, grad=0.0000), Var(v=-0.0625, grad=-0.0109), Var(v=0.0831, grad=0.3629), Var(v=0.0475, grad=0.0000), Var(v=-0.0812, grad=0.8656), Var(v=-0.1179, grad=0.0000), Var(v=-0.0053, grad=0.0000), Var(v=-0.2662, grad=0.6845), Var(v=-0.0597, grad=0.0000), Var(v=0.0488, grad=0.6107), Var(v=0.1307, grad=-0.6570), Var(v=-0.0095, grad=0.0000), Var(v=-0.0751, grad=-0.3440), Var(v=-0.0704, grad=0.0000), Var(v=0.0346, grad=0.0000), Var(v=0.1256, grad=-0.2229), Var(v=-0.0516, grad=-0.7640), Var(v=-0.0536, grad=0.0000), Var(v=-0.0484, grad=-0.6438), Var(v=0.1748, grad=-0.0666), Var(v=0.0049, grad=-0.6557), Var(v=0.1470, grad=0.1345), Var(v=-0.1344, grad=0.0000), Var(v=0.1288, grad=0.0000), Var(v=0.1109, grad=0.0000), Var(v=0.0184, grad=0.3393), Var(v=-0.0282, grad=0.0000), Var(v=-0.1455, grad=0.9560), Var(v=0.0903, grad=0.0000), Var(v=-0.0014, grad=-0.3050), Var(v=0.0572, grad=-1.1375), Var(v=0.0903, grad=0.0000), Var(v=-0.1393, grad=0.0000), Var(v=0.0737, grad=0.2393), Var(v=-0.0818, grad=0.0000), Var(v=-0.1079, grad=1.4185)], [Var(v=-0.0001, grad=-0.0534), Var(v=0.1087, grad=0.0000), Var(v=-0.0583, grad=-0.0272), Var(v=-0.1860, grad=0.0000), Var(v=0.0888, grad=-0.0147), Var(v=-0.0724, grad=0.0465), Var(v=0.0865, grad=0.0000), Var(v=0.1965, grad=-0.0057), Var(v=-0.1147, grad=0.0000), Var(v=-0.0519, grad=0.0000), Var(v=0.0543, grad=-0.0060), Var(v=0.1106, grad=0.0000), Var(v=0.0065, grad=-0.1584), Var(v=0.1785, grad=0.1927), Var(v=-0.0485, grad=0.0000), Var(v=0.1754, grad=-0.0017), Var(v=0.0979, grad=0.0580), Var(v=-0.1633, grad=0.0000), Var(v=-0.0354, grad=0.1382), Var(v=-0.0383, grad=0.0000), Var(v=0.1978, grad=0.0000), Var(v=-0.0184, grad=0.1093), Var(v=-0.1575, grad=0.0000), Var(v=-0.0068, grad=0.0975), Var(v=0.0848, grad=-0.1049), Var(v=0.0044, grad=0.0000), Var(v=0.0822, grad=-0.0549), Var(v=0.1585, grad=0.0000), Var(v=-0.1857, grad=0.0000), Var(v=-0.0772, grad=-0.0356), Var(v=-0.0846, grad=-0.1220), Var(v=-0.1392, grad=0.0000), Var(v=-0.0942, grad=-0.1028), Var(v=0.1063, grad=-0.0106), Var(v=0.0710, grad=-0.1047), Var(v=0.0648, grad=0.0215), Var(v=0.0774, grad=0.0000), Var(v=-0.0406, grad=0.0000), Var(v=-0.0391, grad=0.0000), Var(v=-0.0214, grad=0.0542), Var(v=-0.0555, grad=0.0000), Var(v=0.1123, grad=0.1527), Var(v=0.0024, grad=0.0000), Var(v=-0.0730, grad=-0.0487), Var(v=-0.0232, grad=-0.1816), Var(v=-0.0567, grad=0.0000), Var(v=0.0798, grad=0.0000), Var(v=0.0367, grad=0.0382), Var(v=0.0065, grad=0.0000), Var(v=0.1415, grad=0.2265)], [Var(v=0.1420, grad=-0.5457), Var(v=-0.1284, grad=0.0000), Var(v=0.0640, grad=-0.2778), Var(v=-0.0592, grad=0.0000), Var(v=0.0204, grad=-0.1500), Var(v=-0.0783, grad=0.4760), Var(v=-0.1419, grad=0.0000), Var(v=0.0361, grad=-0.0585), Var(v=-0.0481, grad=0.0000), Var(v=-0.0232, grad=0.0000), Var(v=0.1119, grad=-0.0610), Var(v=0.0365, grad=0.0000), Var(v=-0.0513, grad=-1.6203), Var(v=0.0963, grad=1.9704), Var(v=0.0818, grad=0.0000), Var(v=0.0683, grad=-0.0178), Var(v=-0.0540, grad=0.5927), Var(v=-0.0763, grad=0.0000), Var(v=-0.0595, grad=1.4136), Var(v=0.0698, grad=0.0000), Var(v=-0.0329, grad=0.0000), Var(v=-0.0508, grad=1.1178), Var(v=-0.0807, grad=0.0000), Var(v=0.0110, grad=0.9973), Var(v=-0.0188, grad=-1.0729), Var(v=-0.0858, grad=0.0000), Var(v=0.1111, grad=-0.5618), Var(v=0.0561, grad=0.0000), Var(v=0.0476, grad=0.0000), Var(v=0.0888, grad=-0.3641), Var(v=0.1628, grad=-1.2477), Var(v=-0.0574, grad=0.0000), Var(v=-0.1060, grad=-1.0514), Var(v=0.0606, grad=-0.1088), Var(v=0.1301, grad=-1.0708), Var(v=0.1120, grad=0.2196), Var(v=0.1305, grad=0.0000), Var(v=-0.0498, grad=0.0000), Var(v=-0.1543, grad=0.0000), Var(v=-0.0240, grad=0.5541), Var(v=-0.0023, grad=0.0000), Var(v=0.0024, grad=1.5613), Var(v=-0.1333, grad=0.0000), Var(v=0.1815, grad=-0.4981), Var(v=0.0558, grad=-1.8576), Var(v=0.1140, grad=0.0000), Var(v=-0.0411, grad=0.0000), Var(v=0.0555, grad=0.3907), Var(v=-0.1377, grad=0.0000), Var(v=0.0735, grad=2.3166)], [Var(v=0.1103, grad=-0.0410), Var(v=0.0152, grad=0.0000), Var(v=-0.0520, grad=-0.0209), Var(v=-0.2566, grad=0.0000), Var(v=-0.0997, grad=-0.0113), Var(v=-0.1581, grad=0.0357), Var(v=0.1156, grad=0.0000), Var(v=-0.0523, grad=-0.0044), Var(v=-0.0613, grad=0.0000), Var(v=-0.0194, grad=0.0000), Var(v=0.1756, grad=-0.0046), Var(v=0.1224, grad=0.0000), Var(v=-0.0831, grad=-0.1217), Var(v=0.1864, grad=0.1479), Var(v=-0.0966, grad=0.0000), Var(v=-0.0946, grad=-0.0013), Var(v=-0.0229, grad=0.0445), Var(v=-0.0591, grad=0.0000), Var(v=-0.0029, grad=0.1061), Var(v=0.0069, grad=0.0000), Var(v=-0.1216, grad=0.0000), Var(v=0.0432, grad=0.0839), Var(v=-0.0975, grad=0.0000), Var(v=0.0191, grad=0.0749), Var(v=0.0168, grad=-0.0806), Var(v=-0.0957, grad=0.0000), Var(v=-0.0425, grad=-0.0422), Var(v=0.1161, grad=0.0000), Var(v=0.0321, grad=0.0000), Var(v=-0.0532, grad=-0.0273), Var(v=0.0014, grad=-0.0937), Var(v=0.1873, grad=0.0000), Var(v=0.1123, grad=-0.0789), Var(v=0.0107, grad=-0.0082), Var(v=0.0545, grad=-0.0804), Var(v=-0.0878, grad=0.0165), Var(v=-0.0515, grad=0.0000), Var(v=-0.0281, grad=0.0000), Var(v=0.1326, grad=0.0000), Var(v=-0.0206, grad=0.0416), Var(v=0.0136, grad=0.0000), Var(v=-0.1913, grad=0.1172), Var(v=0.0457, grad=0.0000), Var(v=0.0854, grad=-0.0374), Var(v=-0.1130, grad=-0.1395), Var(v=-0.1272, grad=0.0000), Var(v=-0.1343, grad=0.0000), Var(v=0.0100, grad=0.0293), Var(v=0.0501, grad=0.0000), Var(v=-0.0603, grad=0.1739)]] \n",
            " Biases: [Var(v=0.1044, grad=-5.2190), Var(v=-0.2268, grad=11.3395), Var(v=-0.0021, grad=0.1028), Var(v=0.1991, grad=-9.9526), Var(v=0.0287, grad=-1.4349), Var(v=-0.0911, grad=4.5525), Var(v=0.1522, grad=-7.6077), Var(v=-0.0004, grad=0.0216), Var(v=0.0000, grad=0.0000), Var(v=0.0000, grad=0.0000), Var(v=-0.0005, grad=0.0226), Var(v=0.0000, grad=0.0000), Var(v=-0.0120, grad=0.5996), Var(v=0.0146, grad=-0.7291), Var(v=0.0000, grad=0.0000), Var(v=-0.0001, grad=0.0066), Var(v=0.0044, grad=-0.2193), Var(v=0.0000, grad=0.0000), Var(v=0.0105, grad=-0.5231), Var(v=0.0000, grad=0.0000), Var(v=0.1668, grad=-8.3375), Var(v=0.0083, grad=-0.4136), Var(v=-0.5474, grad=27.3699), Var(v=0.0074, grad=-0.3690), Var(v=0.2052, grad=-10.2607), Var(v=-0.2156, grad=10.7815), Var(v=0.1074, grad=-5.3724), Var(v=0.0000, grad=0.0000), Var(v=0.0000, grad=0.0000), Var(v=-0.0027, grad=0.1347), Var(v=-0.0092, grad=0.4617), Var(v=-0.1376, grad=6.8789), Var(v=-0.0078, grad=0.3891), Var(v=0.0208, grad=-1.0409), Var(v=-0.0079, grad=0.3962), Var(v=0.0016, grad=-0.0813), Var(v=-0.1336, grad=6.6788), Var(v=0.0000, grad=0.0000), Var(v=0.0000, grad=0.0000), Var(v=0.0041, grad=-0.2050), Var(v=-0.3720, grad=18.5997), Var(v=-0.2986, grad=14.9314), Var(v=-0.0897, grad=4.4873), Var(v=-0.0037, grad=0.1843), Var(v=-0.0137, grad=0.6874), Var(v=0.0000, grad=0.0000), Var(v=0.0000, grad=0.0000), Var(v=0.0029, grad=-0.1446), Var(v=-0.2023, grad=10.1153), Var(v=0.0171, grad=-0.8572)]\n",
            "Layer 2 \n",
            " Weights: [[Var(v=-0.0802, grad=0.9824)], [Var(v=-0.1075, grad=-0.9563)], [Var(v=-0.0287, grad=-0.1043)], [Var(v=0.1171, grad=-0.2987)], [Var(v=-0.0455, grad=1.4411)], [Var(v=0.0512, grad=0.0786)], [Var(v=0.1241, grad=-1.9561)], [Var(v=-0.0861, grad=3.9814)], [Var(v=0.0869, grad=0.0000)], [Var(v=-0.0647, grad=0.0000)], [Var(v=0.0888, grad=-4.7798)], [Var(v=0.0587, grad=0.0000)], [Var(v=-0.1696, grad=-0.5080)], [Var(v=0.1982, grad=1.0223)], [Var(v=0.1139, grad=0.0000)], [Var(v=-0.0450, grad=2.1529)], [Var(v=0.1001, grad=-1.7188)], [Var(v=-0.0026, grad=0.0000)], [Var(v=0.1857, grad=-1.4398)], [Var(v=-0.0760, grad=0.0000)], [Var(v=0.1468, grad=-2.6811)], [Var(v=0.1066, grad=0.8723)], [Var(v=-0.2422, grad=-3.1755)], [Var(v=0.0338, grad=3.8416)], [Var(v=-0.1527, grad=1.6831)], [Var(v=-0.0169, grad=-5.1753)], [Var(v=-0.0834, grad=1.0513)], [Var(v=-0.0480, grad=0.0000)], [Var(v=0.1620, grad=0.0000)], [Var(v=-0.0259, grad=-0.7229)], [Var(v=-0.1869, grad=2.4230)], [Var(v=-0.0257, grad=-2.5556)], [Var(v=-0.0940, grad=-1.1326)], [Var(v=-0.0609, grad=2.4416)], [Var(v=-0.0828, grad=-1.7981)], [Var(v=-0.0000, grad=1.2196)], [Var(v=0.0457, grad=-6.0156)], [Var(v=-0.0341, grad=0.0000)], [Var(v=0.0931, grad=0.0000)], [Var(v=0.2189, grad=-7.8700)], [Var(v=-0.1141, grad=-4.6824)], [Var(v=0.1574, grad=0.7922)], [Var(v=0.0229, grad=-3.6515)], [Var(v=-0.1548, grad=4.9760)], [Var(v=-0.0822, grad=-6.1946)], [Var(v=-0.1071, grad=0.0000)], [Var(v=0.0241, grad=0.0000)], [Var(v=0.0469, grad=-0.1789)], [Var(v=-0.1122, grad=-0.0394)], [Var(v=0.2835, grad=-1.3241)]] \n",
            " Biases: [Var(v=0.0667, grad=-3.3349)]\n",
            "\n",
            "Network after zeroing gradients:\n",
            "Layer 0 \n",
            " Weights: [[Var(v=-0.1608, grad=0.0000), Var(v=-0.2101, grad=0.0000), Var(v=-0.0725, grad=0.0000), Var(v=0.1633, grad=0.0000), Var(v=0.3055, grad=0.0000), Var(v=-0.0499, grad=0.0000), Var(v=0.0254, grad=0.0000), Var(v=0.0347, grad=0.0000), Var(v=0.0128, grad=0.0000), Var(v=-0.2427, grad=0.0000), Var(v=0.0404, grad=0.0000), Var(v=-0.2339, grad=0.0000), Var(v=0.1984, grad=0.0000), Var(v=-0.0352, grad=0.0000), Var(v=0.0002, grad=0.0000)]] \n",
            " Biases: [Var(v=-0.2608, grad=0.0000), Var(v=0.0839, grad=0.0000), Var(v=-0.0052, grad=0.0000), Var(v=0.0026, grad=0.0000), Var(v=0.1415, grad=0.0000), Var(v=-0.1049, grad=0.0000), Var(v=-0.0464, grad=0.0000), Var(v=-0.1467, grad=0.0000), Var(v=-0.0960, grad=0.0000), Var(v=-0.2144, grad=0.0000), Var(v=-0.1056, grad=0.0000), Var(v=0.1543, grad=0.0000), Var(v=-0.1791, grad=0.0000), Var(v=-0.0477, grad=0.0000), Var(v=-0.0060, grad=0.0000)]\n",
            "Layer 1 \n",
            " Weights: [[Var(v=0.0933, grad=0.0000), Var(v=0.0055, grad=0.0000), Var(v=0.1324, grad=0.0000), Var(v=0.0738, grad=0.0000), Var(v=-0.0576, grad=0.0000), Var(v=0.0023, grad=0.0000), Var(v=0.0112, grad=0.0000), Var(v=-0.2048, grad=0.0000), Var(v=-0.0148, grad=0.0000), Var(v=0.0277, grad=0.0000), Var(v=0.0618, grad=0.0000), Var(v=-0.1534, grad=0.0000), Var(v=-0.0014, grad=0.0000), Var(v=-0.0006, grad=0.0000), Var(v=0.1572, grad=0.0000), Var(v=-0.0632, grad=0.0000), Var(v=0.1160, grad=0.0000), Var(v=-0.1547, grad=0.0000), Var(v=-0.0152, grad=0.0000), Var(v=-0.1208, grad=0.0000), Var(v=0.0248, grad=0.0000), Var(v=-0.0071, grad=0.0000), Var(v=-0.0310, grad=0.0000), Var(v=-0.1279, grad=0.0000), Var(v=-0.0628, grad=0.0000), Var(v=-0.0715, grad=0.0000), Var(v=-0.1233, grad=0.0000), Var(v=-0.1300, grad=0.0000), Var(v=-0.1017, grad=0.0000), Var(v=0.1645, grad=0.0000), Var(v=-0.1209, grad=0.0000), Var(v=0.0624, grad=0.0000), Var(v=0.0579, grad=0.0000), Var(v=-0.1318, grad=0.0000), Var(v=0.0069, grad=0.0000), Var(v=0.0495, grad=0.0000), Var(v=0.1624, grad=0.0000), Var(v=-0.2118, grad=0.0000), Var(v=-0.0447, grad=0.0000), Var(v=0.1396, grad=0.0000), Var(v=0.0174, grad=0.0000), Var(v=-0.1287, grad=0.0000), Var(v=-0.0022, grad=0.0000), Var(v=0.1455, grad=0.0000), Var(v=0.1615, grad=0.0000), Var(v=0.0325, grad=0.0000), Var(v=0.0216, grad=0.0000), Var(v=-0.0185, grad=0.0000), Var(v=-0.0236, grad=0.0000), Var(v=0.1321, grad=0.0000)], [Var(v=-0.0106, grad=0.0000), Var(v=-0.1858, grad=0.0000), Var(v=0.1139, grad=0.0000), Var(v=0.1018, grad=0.0000), Var(v=0.0118, grad=0.0000), Var(v=-0.0316, grad=0.0000), Var(v=0.0408, grad=0.0000), Var(v=0.1165, grad=0.0000), Var(v=-0.0331, grad=0.0000), Var(v=-0.0651, grad=0.0000), Var(v=-0.1554, grad=0.0000), Var(v=0.0303, grad=0.0000), Var(v=0.2289, grad=0.0000), Var(v=0.0506, grad=0.0000), Var(v=0.0220, grad=0.0000), Var(v=0.0279, grad=0.0000), Var(v=-0.0122, grad=0.0000), Var(v=-0.0911, grad=0.0000), Var(v=-0.0200, grad=0.0000), Var(v=0.0157, grad=0.0000), Var(v=-0.1611, grad=0.0000), Var(v=0.1599, grad=0.0000), Var(v=-0.0556, grad=0.0000), Var(v=0.1900, grad=0.0000), Var(v=0.1511, grad=0.0000), Var(v=-0.1634, grad=0.0000), Var(v=-0.0584, grad=0.0000), Var(v=-0.1185, grad=0.0000), Var(v=0.0748, grad=0.0000), Var(v=0.0342, grad=0.0000), Var(v=0.2710, grad=0.0000), Var(v=-0.1939, grad=0.0000), Var(v=0.1577, grad=0.0000), Var(v=0.0172, grad=0.0000), Var(v=0.0249, grad=0.0000), Var(v=-0.0641, grad=0.0000), Var(v=-0.1979, grad=0.0000), Var(v=0.1394, grad=0.0000), Var(v=0.0024, grad=0.0000), Var(v=0.1302, grad=0.0000), Var(v=-0.1322, grad=0.0000), Var(v=-0.0987, grad=0.0000), Var(v=-0.0827, grad=0.0000), Var(v=0.2101, grad=0.0000), Var(v=-0.0009, grad=0.0000), Var(v=-0.0717, grad=0.0000), Var(v=0.0457, grad=0.0000), Var(v=0.1909, grad=0.0000), Var(v=-0.1527, grad=0.0000), Var(v=-0.1685, grad=0.0000)], [Var(v=-0.0193, grad=0.0000), Var(v=-0.0920, grad=0.0000), Var(v=0.0568, grad=0.0000), Var(v=-0.0286, grad=0.0000), Var(v=0.2175, grad=0.0000), Var(v=0.0062, grad=0.0000), Var(v=-0.0439, grad=0.0000), Var(v=0.1587, grad=0.0000), Var(v=-0.0209, grad=0.0000), Var(v=0.0094, grad=0.0000), Var(v=0.0638, grad=0.0000), Var(v=-0.1425, grad=0.0000), Var(v=0.1280, grad=0.0000), Var(v=-0.0011, grad=0.0000), Var(v=0.0409, grad=0.0000), Var(v=0.1366, grad=0.0000), Var(v=-0.0296, grad=0.0000), Var(v=-0.0999, grad=0.0000), Var(v=0.0194, grad=0.0000), Var(v=-0.0900, grad=0.0000), Var(v=-0.1087, grad=0.0000), Var(v=0.1851, grad=0.0000), Var(v=-0.1291, grad=0.0000), Var(v=-0.0153, grad=0.0000), Var(v=0.1149, grad=0.0000), Var(v=0.0081, grad=0.0000), Var(v=0.0588, grad=0.0000), Var(v=0.0729, grad=0.0000), Var(v=-0.0586, grad=0.0000), Var(v=0.0367, grad=0.0000), Var(v=0.0623, grad=0.0000), Var(v=0.1803, grad=0.0000), Var(v=0.2793, grad=0.0000), Var(v=0.0969, grad=0.0000), Var(v=0.0093, grad=0.0000), Var(v=0.0659, grad=0.0000), Var(v=-0.1624, grad=0.0000), Var(v=-0.1031, grad=0.0000), Var(v=-0.0747, grad=0.0000), Var(v=0.0089, grad=0.0000), Var(v=0.0808, grad=0.0000), Var(v=0.0230, grad=0.0000), Var(v=0.0972, grad=0.0000), Var(v=0.0564, grad=0.0000), Var(v=0.0877, grad=0.0000), Var(v=-0.1914, grad=0.0000), Var(v=-0.1940, grad=0.0000), Var(v=-0.0598, grad=0.0000), Var(v=0.0151, grad=0.0000), Var(v=0.1292, grad=0.0000)], [Var(v=0.0970, grad=0.0000), Var(v=-0.0017, grad=0.0000), Var(v=0.0083, grad=0.0000), Var(v=0.0331, grad=0.0000), Var(v=0.1018, grad=0.0000), Var(v=-0.0153, grad=0.0000), Var(v=0.1607, grad=0.0000), Var(v=-0.0288, grad=0.0000), Var(v=-0.0591, grad=0.0000), Var(v=0.0400, grad=0.0000), Var(v=0.0784, grad=0.0000), Var(v=-0.0646, grad=0.0000), Var(v=0.1123, grad=0.0000), Var(v=0.0512, grad=0.0000), Var(v=0.0023, grad=0.0000), Var(v=0.0150, grad=0.0000), Var(v=0.1098, grad=0.0000), Var(v=0.2194, grad=0.0000), Var(v=0.1228, grad=0.0000), Var(v=-0.0762, grad=0.0000), Var(v=0.1015, grad=0.0000), Var(v=0.0451, grad=0.0000), Var(v=-0.1086, grad=0.0000), Var(v=0.1213, grad=0.0000), Var(v=0.0458, grad=0.0000), Var(v=-0.0266, grad=0.0000), Var(v=-0.0629, grad=0.0000), Var(v=-0.1045, grad=0.0000), Var(v=-0.0507, grad=0.0000), Var(v=-0.0718, grad=0.0000), Var(v=0.0262, grad=0.0000), Var(v=-0.1062, grad=0.0000), Var(v=-0.1355, grad=0.0000), Var(v=-0.0373, grad=0.0000), Var(v=-0.0146, grad=0.0000), Var(v=-0.1631, grad=0.0000), Var(v=0.0105, grad=0.0000), Var(v=0.0084, grad=0.0000), Var(v=-0.1762, grad=0.0000), Var(v=0.1703, grad=0.0000), Var(v=0.0789, grad=0.0000), Var(v=0.0003, grad=0.0000), Var(v=0.0086, grad=0.0000), Var(v=-0.1191, grad=0.0000), Var(v=-0.0593, grad=0.0000), Var(v=-0.0817, grad=0.0000), Var(v=0.0238, grad=0.0000), Var(v=0.0546, grad=0.0000), Var(v=-0.1353, grad=0.0000), Var(v=0.0960, grad=0.0000)], [Var(v=0.0446, grad=0.0000), Var(v=-0.1355, grad=0.0000), Var(v=-0.1532, grad=0.0000), Var(v=0.0771, grad=0.0000), Var(v=-0.2294, grad=0.0000), Var(v=0.0243, grad=0.0000), Var(v=0.0481, grad=0.0000), Var(v=0.0222, grad=0.0000), Var(v=0.0255, grad=0.0000), Var(v=-0.0845, grad=0.0000), Var(v=0.0271, grad=0.0000), Var(v=0.1027, grad=0.0000), Var(v=-0.1245, grad=0.0000), Var(v=0.1864, grad=0.0000), Var(v=-0.2099, grad=0.0000), Var(v=0.0034, grad=0.0000), Var(v=0.0138, grad=0.0000), Var(v=-0.0964, grad=0.0000), Var(v=0.1524, grad=0.0000), Var(v=-0.0794, grad=0.0000), Var(v=0.0184, grad=0.0000), Var(v=0.0854, grad=0.0000), Var(v=-0.0172, grad=0.0000), Var(v=0.0668, grad=0.0000), Var(v=0.0085, grad=0.0000), Var(v=0.0792, grad=0.0000), Var(v=-0.0227, grad=0.0000), Var(v=-0.0773, grad=0.0000), Var(v=-0.1614, grad=0.0000), Var(v=-0.0649, grad=0.0000), Var(v=-0.0515, grad=0.0000), Var(v=0.1528, grad=0.0000), Var(v=0.1413, grad=0.0000), Var(v=-0.0428, grad=0.0000), Var(v=0.1260, grad=0.0000), Var(v=0.0306, grad=0.0000), Var(v=-0.0393, grad=0.0000), Var(v=0.1161, grad=0.0000), Var(v=-0.1634, grad=0.0000), Var(v=0.2484, grad=0.0000), Var(v=-0.1675, grad=0.0000), Var(v=0.0265, grad=0.0000), Var(v=0.0503, grad=0.0000), Var(v=-0.1441, grad=0.0000), Var(v=0.0029, grad=0.0000), Var(v=-0.0854, grad=0.0000), Var(v=-0.0346, grad=0.0000), Var(v=0.1230, grad=0.0000), Var(v=0.0467, grad=0.0000), Var(v=0.2763, grad=0.0000)], [Var(v=0.0441, grad=0.0000), Var(v=0.0306, grad=0.0000), Var(v=-0.1162, grad=0.0000), Var(v=-0.0193, grad=0.0000), Var(v=-0.1250, grad=0.0000), Var(v=-0.0893, grad=0.0000), Var(v=-0.1100, grad=0.0000), Var(v=0.0083, grad=0.0000), Var(v=0.0182, grad=0.0000), Var(v=-0.0786, grad=0.0000), Var(v=-0.0810, grad=0.0000), Var(v=-0.0638, grad=0.0000), Var(v=-0.0509, grad=0.0000), Var(v=0.1526, grad=0.0000), Var(v=0.0950, grad=0.0000), Var(v=0.0447, grad=0.0000), Var(v=0.1293, grad=0.0000), Var(v=-0.0039, grad=0.0000), Var(v=0.0632, grad=0.0000), Var(v=-0.0031, grad=0.0000), Var(v=0.0503, grad=0.0000), Var(v=-0.0838, grad=0.0000), Var(v=0.0014, grad=0.0000), Var(v=-0.0967, grad=0.0000), Var(v=0.1299, grad=0.0000), Var(v=-0.1128, grad=0.0000), Var(v=-0.0355, grad=0.0000), Var(v=0.0897, grad=0.0000), Var(v=0.0550, grad=0.0000), Var(v=-0.0628, grad=0.0000), Var(v=0.1177, grad=0.0000), Var(v=-0.0463, grad=0.0000), Var(v=-0.1742, grad=0.0000), Var(v=0.1354, grad=0.0000), Var(v=0.1488, grad=0.0000), Var(v=0.0423, grad=0.0000), Var(v=0.1168, grad=0.0000), Var(v=0.1479, grad=0.0000), Var(v=-0.0102, grad=0.0000), Var(v=0.0279, grad=0.0000), Var(v=0.2407, grad=0.0000), Var(v=0.0992, grad=0.0000), Var(v=0.0037, grad=0.0000), Var(v=0.0673, grad=0.0000), Var(v=-0.1136, grad=0.0000), Var(v=-0.0623, grad=0.0000), Var(v=-0.0266, grad=0.0000), Var(v=-0.0625, grad=0.0000), Var(v=-0.1790, grad=0.0000), Var(v=-0.0109, grad=0.0000)], [Var(v=0.0192, grad=0.0000), Var(v=0.0067, grad=0.0000), Var(v=-0.0598, grad=0.0000), Var(v=0.1118, grad=0.0000), Var(v=-0.1223, grad=0.0000), Var(v=0.1789, grad=0.0000), Var(v=-0.0286, grad=0.0000), Var(v=0.0455, grad=0.0000), Var(v=-0.0845, grad=0.0000), Var(v=0.0397, grad=0.0000), Var(v=0.1275, grad=0.0000), Var(v=-0.1652, grad=0.0000), Var(v=-0.0616, grad=0.0000), Var(v=-0.1577, grad=0.0000), Var(v=-0.0259, grad=0.0000), Var(v=-0.0166, grad=0.0000), Var(v=-0.0834, grad=0.0000), Var(v=0.1271, grad=0.0000), Var(v=-0.0189, grad=0.0000), Var(v=0.0348, grad=0.0000), Var(v=0.1485, grad=0.0000), Var(v=0.1499, grad=0.0000), Var(v=0.0551, grad=0.0000), Var(v=0.0776, grad=0.0000), Var(v=-0.0753, grad=0.0000), Var(v=0.0659, grad=0.0000), Var(v=0.1555, grad=0.0000), Var(v=-0.0228, grad=0.0000), Var(v=-0.1534, grad=0.0000), Var(v=0.0703, grad=0.0000), Var(v=-0.0727, grad=0.0000), Var(v=-0.0599, grad=0.0000), Var(v=0.0451, grad=0.0000), Var(v=-0.0338, grad=0.0000), Var(v=0.0030, grad=0.0000), Var(v=0.0674, grad=0.0000), Var(v=-0.0518, grad=0.0000), Var(v=0.0195, grad=0.0000), Var(v=0.0810, grad=0.0000), Var(v=0.0513, grad=0.0000), Var(v=0.0370, grad=0.0000), Var(v=0.1185, grad=0.0000), Var(v=-0.0510, grad=0.0000), Var(v=0.0244, grad=0.0000), Var(v=0.0763, grad=0.0000), Var(v=-0.1798, grad=0.0000), Var(v=-0.0314, grad=0.0000), Var(v=-0.0148, grad=0.0000), Var(v=0.1387, grad=0.0000), Var(v=-0.0334, grad=0.0000)], [Var(v=-0.1215, grad=0.0000), Var(v=-0.0444, grad=0.0000), Var(v=0.1727, grad=0.0000), Var(v=0.0501, grad=0.0000), Var(v=0.0589, grad=0.0000), Var(v=0.0213, grad=0.0000), Var(v=0.0425, grad=0.0000), Var(v=0.0603, grad=0.0000), Var(v=-0.0696, grad=0.0000), Var(v=-0.1425, grad=0.0000), Var(v=0.0972, grad=0.0000), Var(v=-0.0399, grad=0.0000), Var(v=-0.1482, grad=0.0000), Var(v=0.0655, grad=0.0000), Var(v=-0.0919, grad=0.0000), Var(v=0.0672, grad=0.0000), Var(v=-0.0525, grad=0.0000), Var(v=-0.0748, grad=0.0000), Var(v=0.0836, grad=0.0000), Var(v=-0.1271, grad=0.0000), Var(v=0.1357, grad=0.0000), Var(v=0.1214, grad=0.0000), Var(v=-0.1420, grad=0.0000), Var(v=0.1176, grad=0.0000), Var(v=-0.0971, grad=0.0000), Var(v=0.0831, grad=0.0000), Var(v=-0.1999, grad=0.0000), Var(v=0.0209, grad=0.0000), Var(v=-0.0538, grad=0.0000), Var(v=0.0335, grad=0.0000), Var(v=-0.0851, grad=0.0000), Var(v=0.0348, grad=0.0000), Var(v=0.1195, grad=0.0000), Var(v=-0.1111, grad=0.0000), Var(v=-0.1563, grad=0.0000), Var(v=0.2076, grad=0.0000), Var(v=0.0561, grad=0.0000), Var(v=-0.0651, grad=0.0000), Var(v=-0.0268, grad=0.0000), Var(v=0.0963, grad=0.0000), Var(v=-0.0332, grad=0.0000), Var(v=-0.0839, grad=0.0000), Var(v=0.0338, grad=0.0000), Var(v=0.0510, grad=0.0000), Var(v=0.0092, grad=0.0000), Var(v=-0.0874, grad=0.0000), Var(v=-0.0611, grad=0.0000), Var(v=0.0401, grad=0.0000), Var(v=0.0078, grad=0.0000), Var(v=-0.0673, grad=0.0000)], [Var(v=-0.1371, grad=0.0000), Var(v=0.0217, grad=0.0000), Var(v=0.0144, grad=0.0000), Var(v=-0.0286, grad=0.0000), Var(v=-0.1658, grad=0.0000), Var(v=-0.1218, grad=0.0000), Var(v=0.0473, grad=0.0000), Var(v=0.1896, grad=0.0000), Var(v=-0.0009, grad=0.0000), Var(v=-0.0377, grad=0.0000), Var(v=0.2200, grad=0.0000), Var(v=0.0891, grad=0.0000), Var(v=0.1129, grad=0.0000), Var(v=0.0646, grad=0.0000), Var(v=0.0254, grad=0.0000), Var(v=-0.0537, grad=0.0000), Var(v=0.0523, grad=0.0000), Var(v=0.0163, grad=0.0000), Var(v=0.0026, grad=0.0000), Var(v=-0.0833, grad=0.0000), Var(v=-0.0257, grad=0.0000), Var(v=0.0557, grad=0.0000), Var(v=0.0360, grad=0.0000), Var(v=0.0529, grad=0.0000), Var(v=-0.1195, grad=0.0000), Var(v=0.1063, grad=0.0000), Var(v=-0.0980, grad=0.0000), Var(v=-0.0748, grad=0.0000), Var(v=-0.0965, grad=0.0000), Var(v=0.0994, grad=0.0000), Var(v=0.0125, grad=0.0000), Var(v=-0.1026, grad=0.0000), Var(v=-0.2093, grad=0.0000), Var(v=-0.1664, grad=0.0000), Var(v=-0.0475, grad=0.0000), Var(v=-0.1820, grad=0.0000), Var(v=0.0110, grad=0.0000), Var(v=-0.2232, grad=0.0000), Var(v=0.0783, grad=0.0000), Var(v=0.1364, grad=0.0000), Var(v=-0.0750, grad=0.0000), Var(v=-0.1597, grad=0.0000), Var(v=0.0598, grad=0.0000), Var(v=-0.0488, grad=0.0000), Var(v=0.0295, grad=0.0000), Var(v=-0.0131, grad=0.0000), Var(v=-0.0387, grad=0.0000), Var(v=0.0875, grad=0.0000), Var(v=0.0072, grad=0.0000), Var(v=0.2013, grad=0.0000)], [Var(v=0.0100, grad=0.0000), Var(v=-0.0914, grad=0.0000), Var(v=-0.0753, grad=0.0000), Var(v=-0.0668, grad=0.0000), Var(v=-0.1089, grad=0.0000), Var(v=-0.0305, grad=0.0000), Var(v=0.0648, grad=0.0000), Var(v=-0.1931, grad=0.0000), Var(v=0.0680, grad=0.0000), Var(v=0.0387, grad=0.0000), Var(v=0.0156, grad=0.0000), Var(v=-0.0875, grad=0.0000), Var(v=0.0319, grad=0.0000), Var(v=0.0090, grad=0.0000), Var(v=-0.0478, grad=0.0000), Var(v=-0.0549, grad=0.0000), Var(v=0.0405, grad=0.0000), Var(v=-0.0383, grad=0.0000), Var(v=-0.1041, grad=0.0000), Var(v=0.0067, grad=0.0000), Var(v=0.0327, grad=0.0000), Var(v=-0.0000, grad=0.0000), Var(v=0.1568, grad=0.0000), Var(v=0.0252, grad=0.0000), Var(v=-0.0279, grad=0.0000), Var(v=0.0771, grad=0.0000), Var(v=-0.0094, grad=0.0000), Var(v=0.1144, grad=0.0000), Var(v=0.1870, grad=0.0000), Var(v=0.0747, grad=0.0000), Var(v=0.1675, grad=0.0000), Var(v=0.1530, grad=0.0000), Var(v=0.0590, grad=0.0000), Var(v=0.1527, grad=0.0000), Var(v=-0.0814, grad=0.0000), Var(v=-0.0601, grad=0.0000), Var(v=0.0798, grad=0.0000), Var(v=0.0166, grad=0.0000), Var(v=0.0132, grad=0.0000), Var(v=0.0825, grad=0.0000), Var(v=0.0431, grad=0.0000), Var(v=0.0650, grad=0.0000), Var(v=-0.0159, grad=0.0000), Var(v=0.0913, grad=0.0000), Var(v=-0.0435, grad=0.0000), Var(v=-0.1471, grad=0.0000), Var(v=-0.1427, grad=0.0000), Var(v=-0.0012, grad=0.0000), Var(v=-0.1998, grad=0.0000), Var(v=-0.1643, grad=0.0000)], [Var(v=0.0328, grad=0.0000), Var(v=0.0962, grad=0.0000), Var(v=0.1039, grad=0.0000), Var(v=0.0004, grad=0.0000), Var(v=0.0558, grad=0.0000), Var(v=0.1053, grad=0.0000), Var(v=0.0962, grad=0.0000), Var(v=0.2202, grad=0.0000), Var(v=0.2039, grad=0.0000), Var(v=-0.1964, grad=0.0000), Var(v=0.2168, grad=0.0000), Var(v=-0.1827, grad=0.0000), Var(v=0.0928, grad=0.0000), Var(v=-0.0192, grad=0.0000), Var(v=-0.1071, grad=0.0000), Var(v=0.1171, grad=0.0000), Var(v=0.0926, grad=0.0000), Var(v=-0.0928, grad=0.0000), Var(v=0.0752, grad=0.0000), Var(v=0.0120, grad=0.0000), Var(v=0.0370, grad=0.0000), Var(v=-0.0726, grad=0.0000), Var(v=-0.1647, grad=0.0000), Var(v=0.1292, grad=0.0000), Var(v=-0.0552, grad=0.0000), Var(v=0.0320, grad=0.0000), Var(v=0.0796, grad=0.0000), Var(v=-0.0435, grad=0.0000), Var(v=-0.1015, grad=0.0000), Var(v=0.0102, grad=0.0000), Var(v=-0.0084, grad=0.0000), Var(v=0.1070, grad=0.0000), Var(v=-0.0920, grad=0.0000), Var(v=0.0077, grad=0.0000), Var(v=-0.0614, grad=0.0000), Var(v=-0.0778, grad=0.0000), Var(v=-0.1291, grad=0.0000), Var(v=-0.1940, grad=0.0000), Var(v=-0.0295, grad=0.0000), Var(v=0.1046, grad=0.0000), Var(v=0.0406, grad=0.0000), Var(v=0.1105, grad=0.0000), Var(v=-0.1433, grad=0.0000), Var(v=0.1568, grad=0.0000), Var(v=0.0337, grad=0.0000), Var(v=0.0719, grad=0.0000), Var(v=0.0160, grad=0.0000), Var(v=-0.0386, grad=0.0000), Var(v=-0.0222, grad=0.0000), Var(v=-0.0879, grad=0.0000)], [Var(v=0.0059, grad=0.0000), Var(v=-0.0099, grad=0.0000), Var(v=0.1273, grad=0.0000), Var(v=-0.0711, grad=0.0000), Var(v=-0.1044, grad=0.0000), Var(v=-0.0899, grad=0.0000), Var(v=-0.1159, grad=0.0000), Var(v=-0.0235, grad=0.0000), Var(v=-0.1127, grad=0.0000), Var(v=-0.0438, grad=0.0000), Var(v=0.0283, grad=0.0000), Var(v=0.0230, grad=0.0000), Var(v=-0.0130, grad=0.0000), Var(v=-0.1226, grad=0.0000), Var(v=-0.1445, grad=0.0000), Var(v=-0.0625, grad=0.0000), Var(v=0.0831, grad=0.0000), Var(v=0.0475, grad=0.0000), Var(v=-0.0812, grad=0.0000), Var(v=-0.1179, grad=0.0000), Var(v=-0.0053, grad=0.0000), Var(v=-0.2662, grad=0.0000), Var(v=-0.0597, grad=0.0000), Var(v=0.0488, grad=0.0000), Var(v=0.1307, grad=0.0000), Var(v=-0.0095, grad=0.0000), Var(v=-0.0751, grad=0.0000), Var(v=-0.0704, grad=0.0000), Var(v=0.0346, grad=0.0000), Var(v=0.1256, grad=0.0000), Var(v=-0.0516, grad=0.0000), Var(v=-0.0536, grad=0.0000), Var(v=-0.0484, grad=0.0000), Var(v=0.1748, grad=0.0000), Var(v=0.0049, grad=0.0000), Var(v=0.1470, grad=0.0000), Var(v=-0.1344, grad=0.0000), Var(v=0.1288, grad=0.0000), Var(v=0.1109, grad=0.0000), Var(v=0.0184, grad=0.0000), Var(v=-0.0282, grad=0.0000), Var(v=-0.1455, grad=0.0000), Var(v=0.0903, grad=0.0000), Var(v=-0.0014, grad=0.0000), Var(v=0.0572, grad=0.0000), Var(v=0.0903, grad=0.0000), Var(v=-0.1393, grad=0.0000), Var(v=0.0737, grad=0.0000), Var(v=-0.0818, grad=0.0000), Var(v=-0.1079, grad=0.0000)], [Var(v=-0.0001, grad=0.0000), Var(v=0.1087, grad=0.0000), Var(v=-0.0583, grad=0.0000), Var(v=-0.1860, grad=0.0000), Var(v=0.0888, grad=0.0000), Var(v=-0.0724, grad=0.0000), Var(v=0.0865, grad=0.0000), Var(v=0.1965, grad=0.0000), Var(v=-0.1147, grad=0.0000), Var(v=-0.0519, grad=0.0000), Var(v=0.0543, grad=0.0000), Var(v=0.1106, grad=0.0000), Var(v=0.0065, grad=0.0000), Var(v=0.1785, grad=0.0000), Var(v=-0.0485, grad=0.0000), Var(v=0.1754, grad=0.0000), Var(v=0.0979, grad=0.0000), Var(v=-0.1633, grad=0.0000), Var(v=-0.0354, grad=0.0000), Var(v=-0.0383, grad=0.0000), Var(v=0.1978, grad=0.0000), Var(v=-0.0184, grad=0.0000), Var(v=-0.1575, grad=0.0000), Var(v=-0.0068, grad=0.0000), Var(v=0.0848, grad=0.0000), Var(v=0.0044, grad=0.0000), Var(v=0.0822, grad=0.0000), Var(v=0.1585, grad=0.0000), Var(v=-0.1857, grad=0.0000), Var(v=-0.0772, grad=0.0000), Var(v=-0.0846, grad=0.0000), Var(v=-0.1392, grad=0.0000), Var(v=-0.0942, grad=0.0000), Var(v=0.1063, grad=0.0000), Var(v=0.0710, grad=0.0000), Var(v=0.0648, grad=0.0000), Var(v=0.0774, grad=0.0000), Var(v=-0.0406, grad=0.0000), Var(v=-0.0391, grad=0.0000), Var(v=-0.0214, grad=0.0000), Var(v=-0.0555, grad=0.0000), Var(v=0.1123, grad=0.0000), Var(v=0.0024, grad=0.0000), Var(v=-0.0730, grad=0.0000), Var(v=-0.0232, grad=0.0000), Var(v=-0.0567, grad=0.0000), Var(v=0.0798, grad=0.0000), Var(v=0.0367, grad=0.0000), Var(v=0.0065, grad=0.0000), Var(v=0.1415, grad=0.0000)], [Var(v=0.1420, grad=0.0000), Var(v=-0.1284, grad=0.0000), Var(v=0.0640, grad=0.0000), Var(v=-0.0592, grad=0.0000), Var(v=0.0204, grad=0.0000), Var(v=-0.0783, grad=0.0000), Var(v=-0.1419, grad=0.0000), Var(v=0.0361, grad=0.0000), Var(v=-0.0481, grad=0.0000), Var(v=-0.0232, grad=0.0000), Var(v=0.1119, grad=0.0000), Var(v=0.0365, grad=0.0000), Var(v=-0.0513, grad=0.0000), Var(v=0.0963, grad=0.0000), Var(v=0.0818, grad=0.0000), Var(v=0.0683, grad=0.0000), Var(v=-0.0540, grad=0.0000), Var(v=-0.0763, grad=0.0000), Var(v=-0.0595, grad=0.0000), Var(v=0.0698, grad=0.0000), Var(v=-0.0329, grad=0.0000), Var(v=-0.0508, grad=0.0000), Var(v=-0.0807, grad=0.0000), Var(v=0.0110, grad=0.0000), Var(v=-0.0188, grad=0.0000), Var(v=-0.0858, grad=0.0000), Var(v=0.1111, grad=0.0000), Var(v=0.0561, grad=0.0000), Var(v=0.0476, grad=0.0000), Var(v=0.0888, grad=0.0000), Var(v=0.1628, grad=0.0000), Var(v=-0.0574, grad=0.0000), Var(v=-0.1060, grad=0.0000), Var(v=0.0606, grad=0.0000), Var(v=0.1301, grad=0.0000), Var(v=0.1120, grad=0.0000), Var(v=0.1305, grad=0.0000), Var(v=-0.0498, grad=0.0000), Var(v=-0.1543, grad=0.0000), Var(v=-0.0240, grad=0.0000), Var(v=-0.0023, grad=0.0000), Var(v=0.0024, grad=0.0000), Var(v=-0.1333, grad=0.0000), Var(v=0.1815, grad=0.0000), Var(v=0.0558, grad=0.0000), Var(v=0.1140, grad=0.0000), Var(v=-0.0411, grad=0.0000), Var(v=0.0555, grad=0.0000), Var(v=-0.1377, grad=0.0000), Var(v=0.0735, grad=0.0000)], [Var(v=0.1103, grad=0.0000), Var(v=0.0152, grad=0.0000), Var(v=-0.0520, grad=0.0000), Var(v=-0.2566, grad=0.0000), Var(v=-0.0997, grad=0.0000), Var(v=-0.1581, grad=0.0000), Var(v=0.1156, grad=0.0000), Var(v=-0.0523, grad=0.0000), Var(v=-0.0613, grad=0.0000), Var(v=-0.0194, grad=0.0000), Var(v=0.1756, grad=0.0000), Var(v=0.1224, grad=0.0000), Var(v=-0.0831, grad=0.0000), Var(v=0.1864, grad=0.0000), Var(v=-0.0966, grad=0.0000), Var(v=-0.0946, grad=0.0000), Var(v=-0.0229, grad=0.0000), Var(v=-0.0591, grad=0.0000), Var(v=-0.0029, grad=0.0000), Var(v=0.0069, grad=0.0000), Var(v=-0.1216, grad=0.0000), Var(v=0.0432, grad=0.0000), Var(v=-0.0975, grad=0.0000), Var(v=0.0191, grad=0.0000), Var(v=0.0168, grad=0.0000), Var(v=-0.0957, grad=0.0000), Var(v=-0.0425, grad=0.0000), Var(v=0.1161, grad=0.0000), Var(v=0.0321, grad=0.0000), Var(v=-0.0532, grad=0.0000), Var(v=0.0014, grad=0.0000), Var(v=0.1873, grad=0.0000), Var(v=0.1123, grad=0.0000), Var(v=0.0107, grad=0.0000), Var(v=0.0545, grad=0.0000), Var(v=-0.0878, grad=0.0000), Var(v=-0.0515, grad=0.0000), Var(v=-0.0281, grad=0.0000), Var(v=0.1326, grad=0.0000), Var(v=-0.0206, grad=0.0000), Var(v=0.0136, grad=0.0000), Var(v=-0.1913, grad=0.0000), Var(v=0.0457, grad=0.0000), Var(v=0.0854, grad=0.0000), Var(v=-0.1130, grad=0.0000), Var(v=-0.1272, grad=0.0000), Var(v=-0.1343, grad=0.0000), Var(v=0.0100, grad=0.0000), Var(v=0.0501, grad=0.0000), Var(v=-0.0603, grad=0.0000)]] \n",
            " Biases: [Var(v=0.1044, grad=0.0000), Var(v=-0.2268, grad=0.0000), Var(v=-0.0021, grad=0.0000), Var(v=0.1991, grad=0.0000), Var(v=0.0287, grad=0.0000), Var(v=-0.0911, grad=0.0000), Var(v=0.1522, grad=0.0000), Var(v=-0.0004, grad=0.0000), Var(v=0.0000, grad=0.0000), Var(v=0.0000, grad=0.0000), Var(v=-0.0005, grad=0.0000), Var(v=0.0000, grad=0.0000), Var(v=-0.0120, grad=0.0000), Var(v=0.0146, grad=0.0000), Var(v=0.0000, grad=0.0000), Var(v=-0.0001, grad=0.0000), Var(v=0.0044, grad=0.0000), Var(v=0.0000, grad=0.0000), Var(v=0.0105, grad=0.0000), Var(v=0.0000, grad=0.0000), Var(v=0.1668, grad=0.0000), Var(v=0.0083, grad=0.0000), Var(v=-0.5474, grad=0.0000), Var(v=0.0074, grad=0.0000), Var(v=0.2052, grad=0.0000), Var(v=-0.2156, grad=0.0000), Var(v=0.1074, grad=0.0000), Var(v=0.0000, grad=0.0000), Var(v=0.0000, grad=0.0000), Var(v=-0.0027, grad=0.0000), Var(v=-0.0092, grad=0.0000), Var(v=-0.1376, grad=0.0000), Var(v=-0.0078, grad=0.0000), Var(v=0.0208, grad=0.0000), Var(v=-0.0079, grad=0.0000), Var(v=0.0016, grad=0.0000), Var(v=-0.1336, grad=0.0000), Var(v=0.0000, grad=0.0000), Var(v=0.0000, grad=0.0000), Var(v=0.0041, grad=0.0000), Var(v=-0.3720, grad=0.0000), Var(v=-0.2986, grad=0.0000), Var(v=-0.0897, grad=0.0000), Var(v=-0.0037, grad=0.0000), Var(v=-0.0137, grad=0.0000), Var(v=0.0000, grad=0.0000), Var(v=0.0000, grad=0.0000), Var(v=0.0029, grad=0.0000), Var(v=-0.2023, grad=0.0000), Var(v=0.0171, grad=0.0000)]\n",
            "Layer 2 \n",
            " Weights: [[Var(v=-0.0802, grad=0.0000)], [Var(v=-0.1075, grad=0.0000)], [Var(v=-0.0287, grad=0.0000)], [Var(v=0.1171, grad=0.0000)], [Var(v=-0.0455, grad=0.0000)], [Var(v=0.0512, grad=0.0000)], [Var(v=0.1241, grad=0.0000)], [Var(v=-0.0861, grad=0.0000)], [Var(v=0.0869, grad=0.0000)], [Var(v=-0.0647, grad=0.0000)], [Var(v=0.0888, grad=0.0000)], [Var(v=0.0587, grad=0.0000)], [Var(v=-0.1696, grad=0.0000)], [Var(v=0.1982, grad=0.0000)], [Var(v=0.1139, grad=0.0000)], [Var(v=-0.0450, grad=0.0000)], [Var(v=0.1001, grad=0.0000)], [Var(v=-0.0026, grad=0.0000)], [Var(v=0.1857, grad=0.0000)], [Var(v=-0.0760, grad=0.0000)], [Var(v=0.1468, grad=0.0000)], [Var(v=0.1066, grad=0.0000)], [Var(v=-0.2422, grad=0.0000)], [Var(v=0.0338, grad=0.0000)], [Var(v=-0.1527, grad=0.0000)], [Var(v=-0.0169, grad=0.0000)], [Var(v=-0.0834, grad=0.0000)], [Var(v=-0.0480, grad=0.0000)], [Var(v=0.1620, grad=0.0000)], [Var(v=-0.0259, grad=0.0000)], [Var(v=-0.1869, grad=0.0000)], [Var(v=-0.0257, grad=0.0000)], [Var(v=-0.0940, grad=0.0000)], [Var(v=-0.0609, grad=0.0000)], [Var(v=-0.0828, grad=0.0000)], [Var(v=-0.0000, grad=0.0000)], [Var(v=0.0457, grad=0.0000)], [Var(v=-0.0341, grad=0.0000)], [Var(v=0.0931, grad=0.0000)], [Var(v=0.2189, grad=0.0000)], [Var(v=-0.1141, grad=0.0000)], [Var(v=0.1574, grad=0.0000)], [Var(v=0.0229, grad=0.0000)], [Var(v=-0.1548, grad=0.0000)], [Var(v=-0.0822, grad=0.0000)], [Var(v=-0.1071, grad=0.0000)], [Var(v=0.0241, grad=0.0000)], [Var(v=0.0469, grad=0.0000)], [Var(v=-0.1122, grad=0.0000)], [Var(v=0.2835, grad=0.0000)]] \n",
            " Biases: [Var(v=0.0667, grad=0.0000)]\n"
          ]
        },
        {
          "output_type": "execute_result",
          "data": {
            "text/plain": [
              "[None, None, None]"
            ]
          },
          "metadata": {},
          "execution_count": 88
        }
      ],
      "source": [
        "print('Network before update:')\n",
        "[print('Layer', i, '\\n', NN[i]) for i in range(len(NN))]\n",
        "\n",
        "def parameters(network):\n",
        "  params = []\n",
        "  for layer in range(len(network)):\n",
        "    params += network[layer].parameters()\n",
        "  return params\n",
        "\n",
        "def update_parameters(params, learning_rate=0.01):\n",
        "  for l in range(len(params)):\n",
        "    for p in params[l]:\n",
        "      p.v -= learning_rate*p.grad\n",
        "\n",
        "def zero_gradients(params):\n",
        "  for l in range(len(params)):\n",
        "    for p in params[l]:\n",
        "        p.grad = 0.0\n",
        "\n",
        "update_parameters(parameters(NN))\n",
        "\n",
        "print('\\nNetwork after update:')\n",
        "[print('Layer', i, '\\n', NN[i]) for i in range(len(NN))]\n",
        "\n",
        "zero_gradients(parameters(NN))\n",
        "\n",
        "print('\\nNetwork after zeroing gradients:')\n",
        "[print('Layer', i, '\\n', NN[i]) for i in range(len(NN))]"
      ]
    },
    {
      "cell_type": "code",
      "execution_count": 89,
      "metadata": {
        "id": "woWYpdw6FtIO"
      },
      "outputs": [],
      "source": [
        "# Initialize an arbitrary neural network\n",
        "NN = [\n",
        "    DenseLayer(1, 8, lambda x: x.relu()),\n",
        "    DenseLayer(8, 1, lambda x: x.identity())\n",
        "]\n",
        "\n",
        "# Recommended hyper-parameters for 3-D:\n",
        "#NN = [\n",
        "#    DenseLayer(3, 16, lambda x: x.relu()),\n",
        "#    DenseLayer(16, 1, lambda x: x.identity())\n",
        "#]\n",
        "\n",
        "\n",
        "### Notice that, when we switch from tanh to relu activation, we decrease the learning rate. This is due the stability of the gradients\n",
        "## of the activation functions."
      ]
    },
    {
      "cell_type": "code",
      "execution_count": 90,
      "metadata": {
        "id": "mdqaqYBVFtIR"
      },
      "outputs": [],
      "source": [
        "# Initialize training hyperparameters\n",
        "EPOCHS = 200\n",
        "LEARN_R = 2e-3"
      ]
    },
    {
      "cell_type": "code",
      "execution_count": 91,
      "metadata": {
        "id": "5kfg76GMFtIW",
        "scrolled": true,
        "outputId": "3c64a7ed-cad7-4a0c-f4e3-f1858e7467c6",
        "colab": {
          "base_uri": "https://localhost:8080/"
        }
      },
      "outputs": [
        {
          "output_type": "stream",
          "name": "stdout",
          "text": [
            "   0 ( 0.00%) Train loss: 101.863 \t Validation loss: 141.369\n",
            "  10 ( 5.00%) Train loss: 22.324 \t Validation loss: 30.543\n",
            "  20 (10.00%) Train loss: 13.791 \t Validation loss: 16.504\n",
            "  30 (15.00%) Train loss: 13.053 \t Validation loss: 15.175\n",
            "  40 (20.00%) Train loss: 12.580 \t Validation loss: 14.453\n",
            "  50 (25.00%) Train loss: 12.129 \t Validation loss: 13.941\n",
            "  60 (30.00%) Train loss: 11.767 \t Validation loss: 13.476\n",
            "  70 (35.00%) Train loss: 11.498 \t Validation loss: 13.147\n",
            "  80 (40.00%) Train loss: 11.300 \t Validation loss: 12.954\n",
            "  90 (45.00%) Train loss: 11.182 \t Validation loss: 12.829\n",
            " 100 (50.00%) Train loss: 11.118 \t Validation loss: 12.770\n",
            " 110 (55.00%) Train loss: 11.078 \t Validation loss: 12.738\n",
            " 120 (60.00%) Train loss: 11.053 \t Validation loss: 12.736\n",
            " 130 (65.00%) Train loss: 11.040 \t Validation loss: 12.732\n",
            " 140 (70.00%) Train loss: 11.033 \t Validation loss: 12.734\n",
            " 150 (75.00%) Train loss: 11.027 \t Validation loss: 12.736\n",
            " 160 (80.00%) Train loss: 11.024 \t Validation loss: 12.739\n",
            " 170 (85.00%) Train loss: 11.021 \t Validation loss: 12.742\n",
            " 180 (90.00%) Train loss: 11.019 \t Validation loss: 12.745\n",
            " 190 (95.00%) Train loss: 11.017 \t Validation loss: 12.748\n"
          ]
        }
      ],
      "source": [
        "train_loss = []\n",
        "val_loss = []\n",
        "\n",
        "for e in range(EPOCHS):\n",
        "\n",
        "    # Forward pass and loss computation\n",
        "    Loss = squared_loss(y_train, forward(x_train, NN))\n",
        "\n",
        "    # Backward pass\n",
        "    Loss.backward()\n",
        "\n",
        "    # gradient descent update\n",
        "    update_parameters(parameters(NN), LEARN_R)\n",
        "    zero_gradients(parameters(NN))\n",
        "\n",
        "    # Training loss\n",
        "    train_loss.append(Loss.v)\n",
        "\n",
        "    # Validation\n",
        "    Loss_validation = squared_loss(y_validation, forward(x_validation, NN))\n",
        "    val_loss.append(Loss_validation.v)\n",
        "\n",
        "    if e%10==0:\n",
        "        print(\"{:4d}\".format(e),\n",
        "              \"({:5.2f}%)\".format(e/EPOCHS*100),\n",
        "              \"Train loss: {:4.3f} \\t Validation loss: {:4.3f}\".format(train_loss[-1], val_loss[-1]))\n",
        "\n"
      ]
    },
    {
      "cell_type": "code",
      "execution_count": 92,
      "metadata": {
        "id": "VetyRWFwFtIY",
        "outputId": "79cdec2f-b99a-442e-897f-480070d084ae",
        "colab": {
          "base_uri": "https://localhost:8080/",
          "height": 430
        }
      },
      "outputs": [
        {
          "output_type": "display_data",
          "data": {
            "text/plain": [
              "<Figure size 640x480 with 1 Axes>"
            ],
            "image/png": "[encoded data removed]"
          },
          "metadata": {}
        }
      ],
      "source": [
        "plt.plot(range(len(train_loss)), train_loss);\n",
        "plt.plot(range(len(val_loss)), val_loss);"
      ]
    },
    {
      "cell_type": "markdown",
      "metadata": {
        "id": "8OgmIrM9FtIb"
      },
      "source": [
        "# Testing\n",
        "\n",
        "We have kept the calculation of the test error separate in order to emphasize that you should not use the test set in optimization."
      ]
    },
    {
      "cell_type": "code",
      "execution_count": 93,
      "metadata": {
        "id": "HmNi7S-vFtIc"
      },
      "outputs": [],
      "source": [
        "output_test = forward(x_test, NN)"
      ]
    },
    {
      "cell_type": "code",
      "execution_count": 94,
      "metadata": {
        "id": "7mmJOTSEFtIf",
        "outputId": "9554ca40-c4b9-4fd8-8981-5863287e58a7",
        "colab": {
          "base_uri": "https://localhost:8080/",
          "height": 504
        }
      },
      "outputs": [
        {
          "output_type": "stream",
          "name": "stdout",
          "text": [
            "Test loss:  10.395\n"
          ]
        },
        {
          "output_type": "display_data",
          "data": {
            "text/plain": [
              "<Figure size 640x480 with 1 Axes>"
            ],
            "image/png": "[encoded data removed]"
          },
          "metadata": {}
        }
      ],
      "source": [
        "y_test_np = Var_to_nparray(y_test)\n",
        "plt.scatter(y_test_np, Var_to_nparray(output_test));\n",
        "plt.plot([np.min(y_test_np), np.max(y_test_np)], [np.min(y_test_np), np.max(y_test_np)], color='k');\n",
        "plt.xlabel(\"y\");\n",
        "plt.ylabel(\"$\\hat{y}$\");\n",
        "plt.title(\"Model prediction vs real in the test set, the close to the line the better\")\n",
        "plt.grid(True);\n",
        "plt.axis('equal');\n",
        "plt.tight_layout();\n",
        "\n",
        "Loss_test = squared_loss(y_test, forward(x_test, NN))\n",
        "\n",
        "print(\"Test loss:  {:4.3f}\".format(Loss_test.v))"
      ]
    },
    {
      "cell_type": "code",
      "execution_count": 95,
      "metadata": {
        "id": "ODi0WlmQFtIh",
        "outputId": "8ae6b0cc-192b-440d-8e04-daea21b7862c",
        "colab": {
          "base_uri": "https://localhost:8080/",
          "height": 449
        }
      },
      "outputs": [
        {
          "output_type": "display_data",
          "data": {
            "text/plain": [
              "<Figure size 640x480 with 1 Axes>"
            ],
            "image/png": "[encoded data removed]"
          },
          "metadata": {}
        }
      ],
      "source": [
        "x_test_np = Var_to_nparray(x_test)\n",
        "x_train_np = Var_to_nparray(x_train)\n",
        "y_train_np = Var_to_nparray(y_train)\n",
        "if D1:\n",
        "    plt.scatter(x_train_np, y_train_np, label=\"train data\");\n",
        "    plt.scatter(x_test_np, Var_to_nparray(output_test), label=\"test prediction\");\n",
        "    plt.scatter(x_test_np, y_test_np, label=\"test data\");\n",
        "    plt.legend();\n",
        "    plt.xlabel(\"x\");\n",
        "    plt.ylabel(\"y\");\n",
        "else:\n",
        "    plt.scatter(x_train_np[:,1], y_train, label=\"train data\");\n",
        "    plt.scatter(x_test_np[:,1], Var_to_nparray(output_test), label=\"test data prediction\");\n",
        "    plt.scatter(x_test_np[:,1], y_test_np, label=\"test data\");\n",
        "    plt.legend();\n",
        "    plt.xlabel(\"x\");\n",
        "    plt.ylabel(\"y\");"
      ]
    },
    {
      "cell_type": "markdown",
      "metadata": {
        "id": "zTBAmjsAFtIk"
      },
      "source": [
        "## Exercise l) Show overfitting, underfitting and just right fitting\n",
        "\n",
        "Vary the architecture and other things to show clear signs of overfitting (=training loss significantly lower than test loss) and underfitting (=not fitting enoung to training data so that test performance is also hurt).\n",
        "\n",
        "See also if you can get a good compromise which leads to a low validation loss.\n",
        "\n",
        "For this problem do you see any big difference between validation and test loss? The answer here will probably be no. Discuss cases where it is important to keep the two separate.\n",
        "\n",
        "_Insert written answer here._\n"
      ]
    },
    {
      "cell_type": "code",
      "execution_count": null,
      "metadata": {
        "id": "tQZCn2dxFtIl"
      },
      "outputs": [],
      "source": [
        "# Insert your code for getting overfitting, underfitting and just right fitting"
      ]
    },
    {
      "cell_type": "markdown",
      "metadata": {
        "id": "fYPZP-eTFtIo"
      },
      "source": [
        "# Next steps - classification\n",
        "\n",
        "It is straight forward to extend what we have done to classification.\n",
        "\n",
        "For numerical stability it is better to make softmax and cross-entropy as one function so we write the cross entropy loss as a function of the logits we talked about last week.\n",
        "\n",
        "Next week we will see how to perform classification in PyTorch."
      ]
    },
    {
      "cell_type": "markdown",
      "metadata": {
        "id": "qsVPul3QFtIo"
      },
      "source": [
        "## Exercise m) optional - Implement backpropagation for classification\n",
        "\n",
        "Should be possible with very few lines of code. :-)"
      ]
    },
    {
      "cell_type": "code",
      "execution_count": null,
      "metadata": {
        "id": "oC8QrI2tFtIp"
      },
      "outputs": [],
      "source": [
        "# Just add code."
      ]
    },
    {
      "cell_type": "markdown",
      "metadata": {
        "id": "APqhJv3tta1O"
      },
      "source": [
        "## Exercise n) optional - Introduce a NeuralNetwork class\n",
        "\n",
        "The functions we applied on the neural network (parameters, update_parameters and zero_gradients) can more naturally be included as methods in a NeuralNetwork class. Make such a class and modify the code to use it."
      ]
    },
    {
      "cell_type": "code",
      "execution_count": null,
      "metadata": {
        "id": "Dqfnor1ouMLq"
      },
      "outputs": [],
      "source": [
        "# just add some code"
      ]
    }
  ],
  "metadata": {
    "anaconda-cloud": {},
    "colab": {
      "collapsed_sections": [
        "U4057_ljNvWB",
        "p_8n_SKnIW2F",
        "oLrGJytZFtGm",
        "jpIZPBpNI0pO",
        "_79HOAXrFtHK",
        "mqeyab9qFtGs",
        "-XyXBD37FtHk",
        "SrwSJ2UWFtHu",
        "zTBAmjsAFtIk",
        "qsVPul3QFtIo",
        "APqhJv3tta1O"
      ],
      "name": "2.1-EXE-FNN-AutoDif-Nanograd.ipynb",
      "provenance": []
    },
    "kernelspec": {
      "display_name": "Python 3",
      "language": "python",
      "name": "python3"
    },
    "language_info": {
      "codemirror_mode": {
        "name": "ipython",
        "version": 3
      },
      "file_extension": ".py",
      "mimetype": "text/x-python",
      "name": "python",
      "nbconvert_exporter": "python",
      "pygments_lexer": "ipython3",
      "version": "3.9.12"
    }
  },
  "nbformat": 4,
  "nbformat_minor": 0
}