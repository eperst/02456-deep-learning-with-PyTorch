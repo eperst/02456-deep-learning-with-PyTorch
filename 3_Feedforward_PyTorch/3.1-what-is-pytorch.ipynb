{
  "cells": [
    {
      "cell_type": "markdown",
      "metadata": {
        "id": "QO0nVitHJt-5"
      },
      "source": [
        "# Credits\n",
        "\n",
        "This is heavily based on https://github.com/pytorch/tutorials"
      ]
    },
    {
      "cell_type": "markdown",
      "metadata": {
        "id": "acS9M-JoJt-_"
      },
      "source": [
        "# What is PyTorch?\n",
        "\n",
        "> **NOTE** In the last part of this lab cuda is used. If you have a cuda enabled machine, read the README.md in the root of this repo on how to use nvidia-docker.\n",
        "\n",
        "\n",
        "It’s a Python based scientific computing package targeted at two sets of\n",
        "audiences:\n",
        "-  A replacement for numpy to use the power of GPUs\n",
        "-  a deep learning research platform that provides maximum flexibility\n",
        "   and speed\n"
      ]
    },
    {
      "cell_type": "markdown",
      "metadata": {
        "id": "K_Z_bz0jJt_B"
      },
      "source": [
        "# Getting Started\n",
        "\n",
        "In this lab you will get a quick start on what pytorch is and how to use it.\n",
        "\n",
        "## 1. Tensors\n",
        "\n",
        "Tensors are similar to numpy’s ndarrays, with the addition being that\n",
        "Tensors can also be used on a GPU to accelerate computing."
      ]
    },
    {
      "cell_type": "code",
      "execution_count": 2,
      "metadata": {
        "id": "X4QN2pySJt_C"
      },
      "outputs": [],
      "source": [
        "import torch"
      ]
    },
    {
      "cell_type": "markdown",
      "metadata": {
        "id": "-fx1d1JFJt_F"
      },
      "source": [
        "Construct a 5x3 matrix, uninitialized"
      ]
    },
    {
      "cell_type": "code",
      "execution_count": 3,
      "metadata": {
        "scrolled": false,
        "id": "MVE0CHkrJt_F",
        "outputId": "62f5b275-183f-402b-fc47-60d76a6a4ee6",
        "colab": {
          "base_uri": "https://localhost:8080/"
        }
      },
      "outputs": [
        {
          "output_type": "stream",
          "name": "stdout",
          "text": [
            "tensor([[1.2743e+15, 4.4781e-41, 1.2743e+15],\n",
            "        [4.4781e-41, 2.6045e-29, 2.6900e-35],\n",
            "        [2.4267e-35, 3.9431e-34, 4.4255e-34],\n",
            "        [3.0581e-29, 7.4043e-40, 1.1663e-38],\n",
            "        [1.1663e-38, 2.9000e-29, 2.8405e-29]])\n"
          ]
        }
      ],
      "source": [
        "x = torch.Tensor(5, 3)\n",
        "print(x)"
      ]
    },
    {
      "cell_type": "markdown",
      "metadata": {
        "id": "jl6-c6_nJt_G"
      },
      "source": [
        "Construct a randomly initialized matrix"
      ]
    },
    {
      "cell_type": "code",
      "execution_count": 4,
      "metadata": {
        "id": "0EfnPMuwJt_H",
        "outputId": "3ce79538-d40e-471f-f11e-e8917d3c3d72",
        "colab": {
          "base_uri": "https://localhost:8080/"
        }
      },
      "outputs": [
        {
          "output_type": "stream",
          "name": "stdout",
          "text": [
            "tensor([[0.3475, 0.6064, 0.9490],\n",
            "        [0.4270, 0.2072, 0.7258],\n",
            "        [0.8439, 0.1446, 0.3245],\n",
            "        [0.9901, 0.9100, 0.4288],\n",
            "        [0.5238, 0.6467, 0.9901]])\n"
          ]
        }
      ],
      "source": [
        "x = torch.rand(5, 3)\n",
        "print(x)"
      ]
    },
    {
      "cell_type": "markdown",
      "metadata": {
        "id": "5Gs8Q7-lJt_I"
      },
      "source": [
        "Get its size"
      ]
    },
    {
      "cell_type": "code",
      "execution_count": 4,
      "metadata": {
        "id": "iH3PxpX0Jt_J",
        "outputId": "1ba8e3b8-d811-4852-f3d3-0d8b7a59755d",
        "colab": {
          "base_uri": "https://localhost:8080/"
        }
      },
      "outputs": [
        {
          "output_type": "stream",
          "name": "stdout",
          "text": [
            "torch.Size([5, 3])\n"
          ]
        }
      ],
      "source": [
        "print(x.size())"
      ]
    },
    {
      "cell_type": "markdown",
      "metadata": {
        "id": "lGasLTpCJt_J"
      },
      "source": [
        "**NOTE**: `torch.Size` is in fact a tuple, so it supports the same operations that a tuple supports."
      ]
    },
    {
      "cell_type": "code",
      "execution_count": 5,
      "metadata": {
        "id": "z_9EjyQmJt_K",
        "outputId": "8c645eb5-7141-4f58-9ef7-51984abb7b3c",
        "colab": {
          "base_uri": "https://localhost:8080/"
        }
      },
      "outputs": [
        {
          "output_type": "stream",
          "name": "stdout",
          "text": [
            "tensor([[0.2301, 0.5046, 0.1780],\n",
            "        [2.0000, 2.0000, 2.0000],\n",
            "        [2.0000, 2.0000, 2.0000],\n",
            "        [0.4100, 0.2448, 0.0337],\n",
            "        [0.6939, 0.9086, 0.8720]])\n"
          ]
        }
      ],
      "source": [
        "x[1:3] = 2\n",
        "print(x)"
      ]
    },
    {
      "cell_type": "markdown",
      "metadata": {
        "id": "jHjkVTT8Jt_K"
      },
      "source": [
        "# Assignment\n",
        "\n",
        "Make use of the pytorch docs <http://pytorch.org/docs/torch>\n",
        "1. Make a tensor of size (2, 17)\n",
        "2. Make a torch.FloatTensor of size (3, 1)\n",
        "3. Make a torch.LongTensor of size (5, 2, 1)\n",
        "  - fill the entire tensor with 7s\n",
        "4. Make a torch.ByteTensor of size (5,)\n",
        "  - fill the middle 3 indices with ones such that it records [0, 1, 1, 1, 0]"
      ]
    },
    {
      "cell_type": "code",
      "source": [
        "t1 = torch.Tensor(2, 17)\n",
        "t2 = torch.FloatTensor(3, 1)\n",
        "t3 = torch.ones(5, 2, 1, dtype=torch.long) * 7\n",
        "t4 = torch.zeros(5, dtype=torch.uint8)\n",
        "t4[1:4] = 1\n",
        "t1, t2, t3, t4"
      ],
      "metadata": {
        "id": "Lz6xhR2DNsy2",
        "outputId": "9faaf48c-2957-4ee4-d804-caa0296c6d45",
        "colab": {
          "base_uri": "https://localhost:8080/"
        }
      },
      "execution_count": 10,
      "outputs": [
        {
          "output_type": "execute_result",
          "data": {
            "text/plain": [
              "(tensor([[ 6.9987e+06,  3.3160e-41,  7.2032e+06,  3.3160e-41,  1.1210e-43,\n",
              "           0.0000e+00,  1.5695e-43,  0.0000e+00, -3.3962e+04,  7.0065e-45,\n",
              "           8.4078e-44,  0.0000e+00,  0.0000e+00,  0.0000e+00,  0.0000e+00,\n",
              "           0.0000e+00,  0.0000e+00],\n",
              "         [ 0.0000e+00,  7.7052e+31,  1.9447e+31,  2.1715e-18,  2.3081e-12,\n",
              "           2.6302e+20,  6.1943e-04,  3.6022e-12,  6.9989e+22,  2.6330e+20,\n",
              "           6.1943e-04,  3.6022e-12,  7.1223e+28,  3.0958e-18,  2.6532e+20,\n",
              "           1.9062e+37,  0.0000e+00]]),\n",
              " tensor([[-6.0969e-30],\n",
              "         [ 3.3167e-41],\n",
              "         [ 7.5148e+06]]),\n",
              " tensor([[[7],\n",
              "          [7]],\n",
              " \n",
              "         [[7],\n",
              "          [7]],\n",
              " \n",
              "         [[7],\n",
              "          [7]],\n",
              " \n",
              "         [[7],\n",
              "          [7]],\n",
              " \n",
              "         [[7],\n",
              "          [7]]]),\n",
              " tensor([0, 1, 1, 1, 0], dtype=torch.uint8))"
            ]
          },
          "metadata": {},
          "execution_count": 10
        }
      ]
    },
    {
      "cell_type": "markdown",
      "metadata": {
        "id": "oPTWyx5UJt_L"
      },
      "source": [
        "## 2. Operations\n",
        "There are multiple syntaxes for operations. Let's see addition as an example:\n",
        "\n",
        "### 2.1 Addition: syntax 1"
      ]
    },
    {
      "cell_type": "code",
      "execution_count": 6,
      "metadata": {
        "id": "BBrZsLIGJt_L",
        "outputId": "14b2b914-4554-4fea-db2f-581ebd79913f",
        "colab": {
          "base_uri": "https://localhost:8080/",
          "height": 194
        }
      },
      "outputs": [
        {
          "output_type": "error",
          "ename": "RuntimeError",
          "evalue": "ignored",
          "traceback": [
            "\u001b[0;31m---------------------------------------------------------------------------\u001b[0m",
            "\u001b[0;31mRuntimeError\u001b[0m                              Traceback (most recent call last)",
            "\u001b[0;32m<ipython-input-6-3846198563ac>\u001b[0m in \u001b[0;36m<cell line: 2>\u001b[0;34m()\u001b[0m\n\u001b[1;32m      1\u001b[0m \u001b[0my\u001b[0m \u001b[0;34m=\u001b[0m \u001b[0mtorch\u001b[0m\u001b[0;34m.\u001b[0m\u001b[0mrand\u001b[0m\u001b[0;34m(\u001b[0m\u001b[0;36m5\u001b[0m\u001b[0;34m,\u001b[0m \u001b[0;36m3\u001b[0m\u001b[0;34m)\u001b[0m\u001b[0;34m\u001b[0m\u001b[0;34m\u001b[0m\u001b[0m\n\u001b[0;32m----> 2\u001b[0;31m \u001b[0mprint\u001b[0m\u001b[0;34m(\u001b[0m\u001b[0mx\u001b[0m \u001b[0;34m+\u001b[0m \u001b[0my\u001b[0m\u001b[0;34m)\u001b[0m\u001b[0;34m\u001b[0m\u001b[0;34m\u001b[0m\u001b[0m\n\u001b[0m",
            "\u001b[0;31mRuntimeError\u001b[0m: Expected all tensors to be on the same device, but found at least two devices, cuda:0 and cpu!"
          ]
        }
      ],
      "source": [
        "y = torch.rand(5, 3)\n",
        "print(x + y)"
      ]
    },
    {
      "cell_type": "markdown",
      "metadata": {
        "id": "Rz9pbGLwJt_M"
      },
      "source": [
        "### 2.2 Addition: syntax 2"
      ]
    },
    {
      "cell_type": "code",
      "execution_count": 12,
      "metadata": {
        "id": "TeYYpmlBJt_M",
        "outputId": "a9f1bde9-e3d6-4a77-eeb5-001c94c2ba22",
        "colab": {
          "base_uri": "https://localhost:8080/"
        }
      },
      "outputs": [
        {
          "output_type": "stream",
          "name": "stdout",
          "text": [
            "tensor([[0.3004, 0.8735, 0.3883],\n",
            "        [2.4298, 2.5614, 2.9318],\n",
            "        [2.2825, 2.5407, 2.2130],\n",
            "        [0.7125, 0.9898, 0.6440],\n",
            "        [0.9390, 1.1952, 1.5714]])\n"
          ]
        }
      ],
      "source": [
        "print(torch.add(x, y))"
      ]
    },
    {
      "cell_type": "markdown",
      "metadata": {
        "id": "K49L1F5iJt_N"
      },
      "source": [
        "### 2.3 Addition: giving an output tensor"
      ]
    },
    {
      "cell_type": "code",
      "execution_count": 13,
      "metadata": {
        "id": "vCug7MFhJt_N",
        "outputId": "8773b9d6-5ff9-4ff8-e935-95c0cb697d91",
        "colab": {
          "base_uri": "https://localhost:8080/"
        }
      },
      "outputs": [
        {
          "output_type": "stream",
          "name": "stdout",
          "text": [
            "tensor([[0.3004, 0.8735, 0.3883],\n",
            "        [2.4298, 2.5614, 2.9318],\n",
            "        [2.2825, 2.5407, 2.2130],\n",
            "        [0.7125, 0.9898, 0.6440],\n",
            "        [0.9390, 1.1952, 1.5714]])\n"
          ]
        }
      ],
      "source": [
        "result = torch.Tensor(5, 3)\n",
        "torch.add(x, y, out=result)\n",
        "print(result)"
      ]
    },
    {
      "cell_type": "markdown",
      "metadata": {
        "id": "uS7yFqKXJt_N"
      },
      "source": [
        "### 2.4 Addition: in-place\n",
        "\n",
        "adds `x`to `y`"
      ]
    },
    {
      "cell_type": "code",
      "execution_count": 14,
      "metadata": {
        "id": "attriCs1Jt_O",
        "outputId": "55234913-ce1c-409e-d9f9-834e0c659246",
        "colab": {
          "base_uri": "https://localhost:8080/"
        }
      },
      "outputs": [
        {
          "output_type": "stream",
          "name": "stdout",
          "text": [
            "tensor([[0.3004, 0.8735, 0.3883],\n",
            "        [2.4298, 2.5614, 2.9318],\n",
            "        [2.2825, 2.5407, 2.2130],\n",
            "        [0.7125, 0.9898, 0.6440],\n",
            "        [0.9390, 1.1952, 1.5714]])\n"
          ]
        }
      ],
      "source": [
        "y.add_(x)\n",
        "print(y)"
      ]
    },
    {
      "cell_type": "markdown",
      "metadata": {
        "id": "0gdwJscrJt_O"
      },
      "source": [
        "**NOTE**: Any operation that mutates a tensor in-place is post-fixed with an `_`. For example: `x.copy_(y)`, `x.t_()`, will change `x`."
      ]
    },
    {
      "cell_type": "markdown",
      "metadata": {
        "id": "lceYRWEDJt_P"
      },
      "source": [
        "You can use standard numpy-like indexing with all bells and whistles!"
      ]
    },
    {
      "cell_type": "code",
      "execution_count": 15,
      "metadata": {
        "id": "UNnim4dKJt_P",
        "outputId": "b8362b10-6b88-40ef-d1d3-09db202a0763",
        "colab": {
          "base_uri": "https://localhost:8080/"
        }
      },
      "outputs": [
        {
          "output_type": "stream",
          "name": "stdout",
          "text": [
            "tensor([0.5046, 2.0000, 2.0000, 0.2448, 0.9086])\n"
          ]
        }
      ],
      "source": [
        "print(x[:, 1])"
      ]
    },
    {
      "cell_type": "markdown",
      "metadata": {
        "id": "mcVqOCFvJt_Q"
      },
      "source": [
        "**Read later** 100+ Tensor operations, including transposing, indexing, slicing, mathematical operations, linear algebra, random numbers, etc are described here <http://pytorch.org/docs/torch>"
      ]
    },
    {
      "cell_type": "markdown",
      "metadata": {
        "id": "KvY7ghP_Jt_Q"
      },
      "source": [
        "# Assignment\n",
        "\n",
        "1. multiplication of two tensors (see [torch.Tensor.mul](http://pytorch.org/docs/master/tensors.html#torch.Tensor.mul))\n",
        "2. do the same, but inplace\n",
        "3. division of two tensors (see [torch.Tensor.div](http://pytorch.org/docs/master/tensors.html#torch.Tensor.div))\n",
        "4. perform a matrix multiplication of two tensors of size (2, 4) and (4, 2)"
      ]
    },
    {
      "cell_type": "code",
      "source": [
        "result_mul = torch.mul(x, y)\n",
        "print(result_mul)\n",
        "print(\"Y before multiplication:\", y)\n",
        "y.mul_(x)\n",
        "print(\"Y after multiplication:\", y)"
      ],
      "metadata": {
        "id": "2HC68SjZPhYR",
        "outputId": "cb3f281d-1965-4812-9431-c07000dd901d",
        "colab": {
          "base_uri": "https://localhost:8080/"
        }
      },
      "execution_count": 16,
      "outputs": [
        {
          "output_type": "stream",
          "name": "stdout",
          "text": [
            "tensor([[0.0691, 0.4408, 0.0691],\n",
            "        [4.8596, 5.1228, 5.8635],\n",
            "        [4.5650, 5.0815, 4.4260],\n",
            "        [0.2921, 0.2423, 0.0217],\n",
            "        [0.6516, 1.0859, 1.3702]])\n"
          ]
        }
      ]
    },
    {
      "cell_type": "code",
      "source": [
        "result_div = torch.div(x, y)\n",
        "print(result_div)\n",
        "print(\"Y before dividion:\", y)\n",
        "y.div_(x)\n",
        "print(\"Y after dividion:\", y)"
      ],
      "metadata": {
        "id": "wLhWSCVxP6pr",
        "outputId": "8bc1094a-e812-4db0-c837-209f74d62143",
        "colab": {
          "base_uri": "https://localhost:8080/"
        }
      },
      "execution_count": 20,
      "outputs": [
        {
          "output_type": "stream",
          "name": "stdout",
          "text": [
            "tensor([[0.7660, 0.5777, 0.4585],\n",
            "        [0.8231, 0.7808, 0.6822],\n",
            "        [0.8762, 0.7872, 0.9037],\n",
            "        [0.5754, 0.2473, 0.0523],\n",
            "        [0.7391, 0.7602, 0.5549]])\n",
            "Y before dividion: tensor([[0.3004, 0.8735, 0.3883],\n",
            "        [2.4298, 2.5614, 2.9318],\n",
            "        [2.2825, 2.5407, 2.2130],\n",
            "        [0.7125, 0.9898, 0.6440],\n",
            "        [0.9390, 1.1952, 1.5714]])\n",
            "Y after dividion: tensor([[ 1.3055,  1.7310,  2.1810],\n",
            "        [ 1.2149,  1.2807,  1.4659],\n",
            "        [ 1.1413,  1.2704,  1.1065],\n",
            "        [ 1.7378,  4.0438, 19.1140],\n",
            "        [ 1.3531,  1.3154,  1.8021]])\n"
          ]
        }
      ]
    },
    {
      "cell_type": "code",
      "source": [
        "t1 = torch.rand(2, 4)\n",
        "t2 = torch.rand(4, 2)\n",
        "print(torch.mul(t1, t2.T))"
      ],
      "metadata": {
        "id": "wXeF9NZQP-3D",
        "outputId": "9b8e2473-fad9-4365-defd-bf6ecf93204e",
        "colab": {
          "base_uri": "https://localhost:8080/"
        }
      },
      "execution_count": 19,
      "outputs": [
        {
          "output_type": "stream",
          "name": "stdout",
          "text": [
            "tensor([[0.0610, 0.0501, 0.4921, 0.1788],\n",
            "        [0.3414, 0.3526, 0.1311, 0.0035]])\n"
          ]
        }
      ]
    },
    {
      "cell_type": "markdown",
      "metadata": {
        "id": "LH1XbyzvJt_R"
      },
      "source": [
        "## 3. Numpy Bridge\n",
        "\n",
        "Converting a torch Tensor to a numpy array and vice versa is a breeze.\n",
        "\n",
        "The torch Tensor and numpy array will share their underlying memory locations, and changing one will change the other.\n",
        "\n",
        "### 3.1 Converting torch Tensor to numpy Array"
      ]
    },
    {
      "cell_type": "code",
      "execution_count": 21,
      "metadata": {
        "id": "Tksv1W-rJt_R",
        "outputId": "727d5c2b-dac7-4337-8dee-d55386941d58",
        "colab": {
          "base_uri": "https://localhost:8080/"
        }
      },
      "outputs": [
        {
          "output_type": "stream",
          "name": "stdout",
          "text": [
            "tensor([1., 1., 1., 1., 1.])\n"
          ]
        }
      ],
      "source": [
        "a = torch.ones(5)\n",
        "print(a)"
      ]
    },
    {
      "cell_type": "code",
      "execution_count": 22,
      "metadata": {
        "id": "DyMmoIkpJt_S",
        "outputId": "839b5f51-5529-43e8-bf6d-d20da2821bca",
        "colab": {
          "base_uri": "https://localhost:8080/"
        }
      },
      "outputs": [
        {
          "output_type": "stream",
          "name": "stdout",
          "text": [
            "[1. 1. 1. 1. 1.]\n"
          ]
        }
      ],
      "source": [
        "b = a.numpy()\n",
        "print(b)"
      ]
    },
    {
      "cell_type": "markdown",
      "metadata": {
        "id": "fM6CqMtyJt_S"
      },
      "source": [
        "See how the numpy array changed in value: the `numpy()` method provides a *view* of the original tensor, not a copy."
      ]
    },
    {
      "cell_type": "code",
      "execution_count": 23,
      "metadata": {
        "id": "h0tWE_yfJt_S",
        "outputId": "e4a05be7-4d63-4416-9bc1-12f72c636504",
        "colab": {
          "base_uri": "https://localhost:8080/"
        }
      },
      "outputs": [
        {
          "output_type": "stream",
          "name": "stdout",
          "text": [
            "tensor([2., 2., 2., 2., 2.])\n",
            "[2. 2. 2. 2. 2.]\n"
          ]
        }
      ],
      "source": [
        "a.add_(1)\n",
        "print(a)\n",
        "print(b)"
      ]
    },
    {
      "cell_type": "markdown",
      "metadata": {
        "id": "Lh4_4x99Jt_T"
      },
      "source": [
        "### 3.2 Converting numpy Array to torch Tensor\n",
        "\n",
        "See how changing the np array changed the torch Tensor automatically"
      ]
    },
    {
      "cell_type": "code",
      "execution_count": 24,
      "metadata": {
        "id": "hG5buuaMJt_T",
        "outputId": "f62abeb4-92c1-4a38-b8e2-683db10b166e",
        "colab": {
          "base_uri": "https://localhost:8080/"
        }
      },
      "outputs": [
        {
          "output_type": "stream",
          "name": "stdout",
          "text": [
            "[2. 2. 2. 2. 2.]\n",
            "tensor([2., 2., 2., 2., 2.], dtype=torch.float64)\n"
          ]
        }
      ],
      "source": [
        "import numpy as np\n",
        "a = np.ones(5)\n",
        "b = torch.from_numpy(a)\n",
        "np.add(a, 1, out=a)\n",
        "print(a)\n",
        "print(b)"
      ]
    },
    {
      "cell_type": "markdown",
      "metadata": {
        "id": "BR44iglwJt_U"
      },
      "source": [
        "# Assignment\n",
        "\n",
        "1. create a tensor of size (5, 2) containing ones\n",
        "2. now convert it to a numpy array\n",
        "3. now convert it back to a torch tensor"
      ]
    },
    {
      "cell_type": "code",
      "source": [
        "t1 = torch.ones(5, 2)\n",
        "t2 = t1.numpy()\n",
        "t3 = torch.from_numpy(t2)\n",
        "t1, t2, t3"
      ],
      "metadata": {
        "id": "P1KJWqHUQpg0",
        "outputId": "aa8ddfec-788f-4b39-9e6b-39af61f05bf1",
        "colab": {
          "base_uri": "https://localhost:8080/"
        }
      },
      "execution_count": 25,
      "outputs": [
        {
          "output_type": "execute_result",
          "data": {
            "text/plain": [
              "(tensor([[1., 1.],\n",
              "         [1., 1.],\n",
              "         [1., 1.],\n",
              "         [1., 1.],\n",
              "         [1., 1.]]),\n",
              " array([[1., 1.],\n",
              "        [1., 1.],\n",
              "        [1., 1.],\n",
              "        [1., 1.],\n",
              "        [1., 1.]], dtype=float32),\n",
              " tensor([[1., 1.],\n",
              "         [1., 1.],\n",
              "         [1., 1.],\n",
              "         [1., 1.],\n",
              "         [1., 1.]]))"
            ]
          },
          "metadata": {},
          "execution_count": 25
        }
      ]
    },
    {
      "cell_type": "markdown",
      "metadata": {
        "id": "4dudjvqDJt_U"
      },
      "source": [
        "All the Tensors on the CPU except a CharTensor support converting to NumPy and back.\n",
        "\n",
        "## 4 CUDA Tensors\n",
        "\n",
        "Tensors can be moved onto GPU using the `.cuda` function.\n",
        "This is not necessary, but check the `README.md` for details on how to use a GPU with docker."
      ]
    },
    {
      "cell_type": "code",
      "execution_count": 7,
      "metadata": {
        "id": "nzAZuRBxJt_V",
        "outputId": "951a4942-144f-468d-c2d8-97d23cc6502b",
        "colab": {
          "base_uri": "https://localhost:8080/"
        }
      },
      "outputs": [
        {
          "output_type": "stream",
          "name": "stdout",
          "text": [
            "tensor([[0.3475, 0.6064, 0.9490],\n",
            "        [0.4270, 0.2072, 0.7258],\n",
            "        [0.8439, 0.1446, 0.3245],\n",
            "        [0.9901, 0.9100, 0.4288],\n",
            "        [0.5238, 0.6467, 0.9901]], device='cuda:0')\n",
            "tensor([[0.4152, 0.3809, 0.4930],\n",
            "        [0.1829, 0.8728, 0.2884],\n",
            "        [0.4362, 0.5915, 0.8035],\n",
            "        [0.9663, 0.9562, 0.5076],\n",
            "        [0.4910, 0.0514, 0.8091]], device='cuda:0')\n",
            "tensor([[0.7628, 0.9873, 1.4420],\n",
            "        [0.6098, 1.0801, 1.0142],\n",
            "        [1.2801, 0.7361, 1.1280],\n",
            "        [1.9564, 1.8662, 0.9364],\n",
            "        [1.0147, 0.6981, 1.7992]], device='cuda:0')\n"
          ]
        }
      ],
      "source": [
        "# let us run this cell only if CUDA is available\n",
        "if torch.cuda.is_available():\n",
        "    x = x.cuda()\n",
        "    y = y.cuda()\n",
        "    z = x + y\n",
        "    # Notice that the tensors are now of type torch.cuda.FloatTensor (notice the cuda in there)\n",
        "    # This is meant as a tensor to be run on the GPU.\n",
        "    # The .cuda() does this to any parameter it is applied to.\n",
        "    print(x)\n",
        "    print(y)\n",
        "    print(z)\n",
        "else:\n",
        "    print(\"CUDA not available on your machine.\")"
      ]
    },
    {
      "cell_type": "code",
      "execution_count": null,
      "metadata": {
        "id": "szZyzHhvJt_V"
      },
      "outputs": [],
      "source": []
    }
  ],
  "metadata": {
    "kernelspec": {
      "display_name": "Python 3",
      "name": "python3"
    },
    "language_info": {
      "codemirror_mode": {
        "name": "ipython",
        "version": 3
      },
      "file_extension": ".py",
      "mimetype": "text/x-python",
      "name": "python",
      "nbconvert_exporter": "python",
      "pygments_lexer": "ipython3",
      "version": "3.8.12"
    },
    "colab": {
      "provenance": [],
      "gpuType": "T4"
    },
    "accelerator": "GPU"
  },
  "nbformat": 4,
  "nbformat_minor": 0
}